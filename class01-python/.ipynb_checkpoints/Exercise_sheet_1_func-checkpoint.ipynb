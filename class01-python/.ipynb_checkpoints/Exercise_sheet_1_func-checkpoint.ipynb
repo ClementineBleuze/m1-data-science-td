{
 "cells": [
  {
   "cell_type": "markdown",
   "metadata": {},
   "source": [
    "# Exercise Sheet \\# 1"
   ]
  },
  {
   "cell_type": "markdown",
   "metadata": {},
   "source": [
    "## Exercise 1\n",
    "Let us consider a group of friends who organised a party together. Each one brought some food to the party. To make it fair, all these friends decided that they should spend equal money. Let us develop some python program to help them do the math.\n",
    "\n",
    "### Question 1.1\n",
    "As an example, consider these friends bought the following items (together with their total price):\n",
    "\n",
    "Emilie|Paul|Jacques|Eric\n",
    ":--|:--|:--|:--\n",
    "soda,3|juice,4|apples,3|bread,1\n",
    "camembert,5|chorizo,3|cookies,2|\n",
    "beaufort,6|spam,2|\n",
    "tomatoes,3|\n",
    "\n",
    "That is, Emilie spent 17 EUR, Paul 9 EUR, Jacques 5 EUR and Eric 1 EUR.\n",
    "\n",
    "How much money each of them would have paid if they had bought food together ? "
   ]
  },
  {
   "cell_type": "markdown",
   "metadata": {},
   "source": [
    "### Question 1.2\n",
    "Define 4 variables (`emilie`, `paul`, `jacques` and `eric`) containing the items each of them brought to the party.\n",
    "As a data structure for these variables, we will use a list of tuples."
   ]
  },
  {
   "cell_type": "code",
   "execution_count": 1,
   "metadata": {},
   "outputs": [],
   "source": [
    "emilie = [('soda', 3), ('camembert', 5), ('beaufort', 6), ('tomatoes', 3)]\n",
    "paul   = [('juice', 4), ('chorizo', 3), ('spam', 2)]\n",
    "jacques= [('apples', 3), ('cookies', 2)]\n",
    "eric   = [('bread', 1)]"
   ]
  },
  {
   "cell_type": "markdown",
   "metadata": {},
   "source": [
    "### Question 1.3\n",
    "Define a function `spent` which takes as an input a list of goods and returns their total price. "
   ]
  },
  {
   "cell_type": "code",
   "execution_count": 2,
   "metadata": {},
   "outputs": [],
   "source": [
    "def spent(goods:list)->float:\n",
    "    return sum([good[1] for good in goods])"
   ]
  },
  {
   "cell_type": "markdown",
   "metadata": {},
   "source": [
    "### Question 1.4\n",
    "What does `spent` returns when invoked with `paul` as a parameter ?"
   ]
  },
  {
   "cell_type": "code",
   "execution_count": 3,
   "metadata": {},
   "outputs": [
    {
     "data": {
      "text/plain": [
       "9"
      ]
     },
     "execution_count": 3,
     "metadata": {},
     "output_type": "execute_result"
    }
   ],
   "source": [
    "spent(paul)"
   ]
  },
  {
   "cell_type": "markdown",
   "metadata": {},
   "source": [
    "### Question 1.5\n",
    "Let us now define a variable `expenses` to encode all the expenses of the group. \n",
    "To do so, we will use a dictionary, which will associate each person (represented as a string) with her.his list of goods. "
   ]
  },
  {
   "cell_type": "code",
   "execution_count": 5,
   "metadata": {},
   "outputs": [
    {
     "name": "stdout",
     "output_type": "stream",
     "text": [
      "{'emilie': [('soda', 3), ('camembert', 5), ('beaufort', 6), ('tomatoes', 3)], 'paul': [('juice', 4), ('chorizo', 3), ('spam', 2)], 'jacques': [('apples', 3), ('cookies', 2)], 'eric': [('bread', 1)]}\n"
     ]
    }
   ],
   "source": [
    "expenses = {\n",
    "    \"emilie\": emilie,\n",
    "    \"paul\": paul,\n",
    "    \"jacques\": jacques,\n",
    "    \"eric\": eric\n",
    "}\n",
    "print(expenses)"
   ]
  },
  {
   "cell_type": "markdown",
   "metadata": {},
   "source": [
    "### Question 1.6\n",
    "Define a function `total` which computes, from a dictionary of expenses, the total amount of money spent."
   ]
  },
  {
   "cell_type": "code",
   "execution_count": 15,
   "metadata": {},
   "outputs": [],
   "source": [
    "def total(expenses:dict)->float:\n",
    "    return sum([spent(goods) for person, goods in expenses.items()])"
   ]
  },
  {
   "cell_type": "markdown",
   "metadata": {},
   "source": [
    "### Question 1.7\n",
    "What is the total amount of money spent by Emilie, Paul, Jacques and Eric ?"
   ]
  },
  {
   "cell_type": "code",
   "execution_count": 14,
   "metadata": {},
   "outputs": [
    {
     "data": {
      "text/plain": [
       "32"
      ]
     },
     "execution_count": 14,
     "metadata": {},
     "output_type": "execute_result"
    }
   ],
   "source": [
    "total(expenses)"
   ]
  },
  {
   "cell_type": "markdown",
   "metadata": {},
   "source": [
    "### Question 1.8\n",
    "Define a function `fair` which takes as an input a dictionary of expenses, and which returns a list of pairs _(person, money)_ indicating for each person, how much money she.he should pay (negative number) or receive (positive number)."
   ]
  },
  {
   "cell_type": "code",
   "execution_count": 28,
   "metadata": {},
   "outputs": [],
   "source": [
    "def fair(expenses:dict)->list:\n",
    "    fair_amount = total(expenses) / len(expenses) if len(expenses)!=0 else 0\n",
    "    # we calculate the difference between what every person has paid, and what he/she should have payed in a fair share\n",
    "    return [(pers, spent(expenses[pers]) - fair_amount) for pers in expenses]"
   ]
  },
  {
   "cell_type": "markdown",
   "metadata": {},
   "source": [
    "### Question 1.9\n",
    "What does `fair` returns when invoked with `expenses` as an input parameter ?"
   ]
  },
  {
   "cell_type": "code",
   "execution_count": 27,
   "metadata": {},
   "outputs": [
    {
     "data": {
      "text/plain": [
       "[('emilie', 9.0), ('paul', 1.0), ('jacques', -3.0), ('eric', -7.0)]"
      ]
     },
     "execution_count": 27,
     "metadata": {},
     "output_type": "execute_result"
    }
   ],
   "source": [
    "fair(expenses)"
   ]
  },
  {
   "cell_type": "markdown",
   "metadata": {},
   "source": [
    "## Exercise 2\n",
    "Let us consider recipies made of ingredients, which are sold in some shops. Recipies are python dictionary associating a recipy name with a preparation time, a cooking time and a difficulty score. Ingredients is a dictionary associating a name with a season (that is, when can these be found, for instance from May/5 til July/7). Shops finally is a dictionary associating a shop name with two booleans: one for indicating whether the shop is open on Sundays and one whether the shop only accepts cash.\n",
    "![diagram](https://mastertal.gitlab.io/UE803/notebooks/images/recipy.png)\n",
    "\n",
    "Examples of recipies include:\n",
    "<pre>recipies = { 'Kouglof' : (20, 20, 5), 'Banana Split' : (5, 0, 1), ... }</pre>\n",
    "Examples of ingredients include:\n",
    "<pre>ingredients = { 'strawberry' : (5, 7), 'flour' : (1, 12), ...}</pre>\n",
    "Examples of shops include:\n",
    "<pre>shops = { 'BuyOrganic' : (False , False), ...}</pre>\n",
    "The relations between a recipy and its ingredients are represented as follows:\n",
    "<pre>contains = [('Kouglof', 'flour'), ('Kouglof', 'sugar'), ...]</pre>\n",
    "and that between ingredients and shops:\n",
    "<pre> sold_in = [('flour', 'BuyOrganic'), ...]</pre>\n",
    "In the following questions, you are asked to define functions and to test them.\n",
    "\n",
    "To do so, define a dictionary containing 3 recipies, each one using 5 ingredients of your choices (they do not have to be real recipies :-) and make up 3 shops selling these ingredients."
   ]
  },
  {
   "cell_type": "code",
   "execution_count": 29,
   "metadata": {},
   "outputs": [],
   "source": [
    "recipies = {\n",
    "    \"Yoghurt cake\": (5, 20, 2),\n",
    "    \"Lazy Sunday meal\": (5, 0, 0),\n",
    "    \"Fruit salad\": (5, 0, 1)\n",
    "}\n",
    "\n",
    "ingredients = {\n",
    "    \"yoghurt\": (1,12),\n",
    "    \"eggs\": (1,12),\n",
    "    \"flour\": (1,12),\n",
    "    \"oil\": (1,12),\n",
    "    \"banana\": (3,10),\n",
    "    \"orange\": (6,12),\n",
    "    \"strawberry\":(4,7),\n",
    "    \"lemon juice\":(1,12),\n",
    "    \"steak\": (1,12),\n",
    "    \"fries\": (1,12),\n",
    "    \"magic ingredient\":(11,11)\n",
    "}\n",
    "\n",
    "shops = {\n",
    "    \"fruit paradise\": (False, True),\n",
    "    \"expensive city center shop\": (True, False),\n",
    "    \"the magic shop\": (False, False)\n",
    "}\n",
    "\n",
    "contains = [(\"Yoghurt cake\", \"yoghurt\" ), (\"Yoghurt cake\", \"eggs\"), (\"Yoghurt cake\", \"flour\"), (\"Yoghurt cake\", \"oil\"), (\"Yoghurt cake\", \"lemon juice\"),\n",
    "           (\"Lazy Sunday meal\", \"eggs\"), (\"Lazy Sunday meal\", \"steak\"), (\"Lazy Sunday meal\",\"fries\" ), (\"Lazy Sunday meal\", \"magic ingredient\"), (\"Lazy Sunday meal\", \"orange\"),\n",
    "           (\"Fruit salad\", \"banana\"), (\"Fruit salad\", \"orange\"), (\"Fruit salad\", \"strawberry\"), (\"Fruit salad\", \"lemon juice\"), (\"Fruit salad\", \"magic ingredient\") \n",
    "           ]\n",
    "\n",
    "sold_in = [(\"yoghut\", \"expensive city center shop\"), (\"eggs\", \"expensive city center shop\"), (\"flour\", \"expensive city center shop\"),\n",
    "          (\"oil\", \"expensive city center shop\"), (\"banana\", \"fruit paradise\"), (\"orange\", \"fruit paradise\"), \n",
    "          (\"strawberry\", \"fruit paradise\"), (\"lemon juice\", \"fruit paradise\"), (\"steak\", \"expensive city center shop\"),\n",
    "          (\"fries\", \"expensive city center shop\"), (\"magic ingredient\", \"the magic shop\")]"
   ]
  },
  {
   "cell_type": "markdown",
   "metadata": {},
   "source": [
    "### Question 2.1\n",
    "Define a function `in_recipy` which computes the list of recipies containing a given ingredient."
   ]
  },
  {
   "cell_type": "code",
   "execution_count": 41,
   "metadata": {},
   "outputs": [
    {
     "data": {
      "text/plain": [
       "['Yoghurt cake', 'Fruit salad']"
      ]
     },
     "execution_count": 41,
     "metadata": {},
     "output_type": "execute_result"
    }
   ],
   "source": [
    "def in_recipy(ingredient, contains_relations):\n",
    "    return [rec for (rec, ing) in contains_relations if ing == ingredient]\n",
    "\n",
    "in_recipy(\"lemon juice\", contains)"
   ]
  },
  {
   "cell_type": "markdown",
   "metadata": {},
   "source": [
    "### Question 2.2\n",
    "Define a function `sold` which computes the list of shops where a given ingredient can be bought."
   ]
  },
  {
   "cell_type": "code",
   "execution_count": 42,
   "metadata": {},
   "outputs": [
    {
     "data": {
      "text/plain": [
       "['fruit paradise']"
      ]
     },
     "execution_count": 42,
     "metadata": {},
     "output_type": "execute_result"
    }
   ],
   "source": [
    "def sold(ingredient, sold_in_relations):\n",
    "    return [shop for (ing, shop) in sold_in_relations if ing == ingredient]\n",
    "\n",
    "sold(\"lemon juice\", sold_in)"
   ]
  },
  {
   "cell_type": "markdown",
   "metadata": {},
   "source": [
    "### Question 2.3\n",
    "Define a function `sunday` which computes the list of ingredients which can be bought on a sunday. "
   ]
  },
  {
   "cell_type": "code",
   "execution_count": 43,
   "metadata": {},
   "outputs": [
    {
     "data": {
      "text/plain": [
       "['yoghut', 'eggs', 'flour', 'oil', 'steak', 'fries']"
      ]
     },
     "execution_count": 43,
     "metadata": {},
     "output_type": "execute_result"
    }
   ],
   "source": [
    "def sunday(sold_in_relations):\n",
    "    return [ing for (ing, shop) in sold_in_relations if shops[shop][0]]\n",
    "\n",
    "sunday(sold_in)"
   ]
  },
  {
   "cell_type": "markdown",
   "metadata": {},
   "source": [
    "### Question 2.4\n",
    "Define a function `convert` which turns a list of ingredients such as `contains` into a dictionary associating a recipy name with a list of ingredients. "
   ]
  },
  {
   "cell_type": "code",
   "execution_count": 44,
   "metadata": {},
   "outputs": [
    {
     "data": {
      "text/plain": [
       "{'Yoghurt cake': ['yoghurt', 'eggs', 'flour', 'oil', 'lemon juice'],\n",
       " 'Lazy Sunday meal': ['eggs', 'steak', 'fries', 'magic ingredient', 'orange'],\n",
       " 'Fruit salad': ['banana',\n",
       "  'orange',\n",
       "  'strawberry',\n",
       "  'lemon juice',\n",
       "  'magic ingredient']}"
      ]
     },
     "execution_count": 44,
     "metadata": {},
     "output_type": "execute_result"
    }
   ],
   "source": [
    "def convert(contains_relations):\n",
    "    d = {}\n",
    "    for (rec, ing) in contains_relations:\n",
    "        if rec in d:\n",
    "            d[rec].append(ing)\n",
    "        else:\n",
    "            d[rec] = [ing]\n",
    "    return d\n",
    "\n",
    "my_recipies_dict = convert(contains)\n",
    "my_recipies_dict"
   ]
  },
  {
   "cell_type": "markdown",
   "metadata": {},
   "source": [
    "### Question 2.5\n",
    "Define a function `this_month` which computes the list of recipies which can be cooked on a given month."
   ]
  },
  {
   "cell_type": "code",
   "execution_count": 52,
   "metadata": {},
   "outputs": [
    {
     "data": {
      "text/plain": [
       "['Yoghurt cake', 'Lazy Sunday meal']"
      ]
     },
     "execution_count": 52,
     "metadata": {},
     "output_type": "execute_result"
    }
   ],
   "source": [
    "def this_month(month, contains_relations, ingredients):\n",
    "    cookable_recipies = []\n",
    "    my_recipies_dict = convert(contains_relations)\n",
    "    \n",
    "    for rec in my_recipies_dict:\n",
    "        i = 0\n",
    "        while i<len(my_recipies_dict[rec]) and ingredients[my_recipies_dict[rec][i]][0] <= month <= ingredients[my_recipies_dict[rec][i]][1]:\n",
    "            i += 1\n",
    "        if i == len(my_recipies_dict[rec]):\n",
    "            cookable_recipies.append(rec)\n",
    "            \n",
    "    return cookable_recipies\n",
    "            \n",
    "this_month(11, contains, ingredients)         "
   ]
  }
 ],
 "metadata": {
  "kernelspec": {
   "display_name": "Python 3 (ipykernel)",
   "language": "python",
   "name": "python3"
  },
  "language_info": {
   "codemirror_mode": {
    "name": "ipython",
    "version": 3
   },
   "file_extension": ".py",
   "mimetype": "text/x-python",
   "name": "python",
   "nbconvert_exporter": "python",
   "pygments_lexer": "ipython3",
   "version": "3.9.2"
  }
 },
 "nbformat": 4,
 "nbformat_minor": 2
}
