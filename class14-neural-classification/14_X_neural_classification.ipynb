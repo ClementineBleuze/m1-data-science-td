{
 "cells": [
  {
   "cell_type": "markdown",
   "metadata": {
    "colab_type": "text",
    "id": "C7N-x97sa7h4"
   },
   "source": [
    "# Exercise \"Lecture 14: Neural Classification\"\n",
    "\n",
    "\n",
    "In this set of exercises, we will use a Recurrent Neural Network to classify BBC news articles into 5 topics. The dataset consists of 2225 documents and 5 categories: business, entertainment, politics, sport, and technology. \n",
    "\n",
    "\n",
    "The exercises cover the following points:\n",
    "\n",
    "* Converting the text in the corpus to vectors of integers (each integer represents a word in the corpus vocabulary)\n",
    "* Computing some descriptive statistics to identify a sentence length cutoff (sentences with longer lengths will not be considered for training)\n",
    "* Specifying, training and testing a recurrent neural network "
   ]
  },
  {
   "cell_type": "markdown",
   "metadata": {
    "tags": []
   },
   "source": [
    "### Preprocessing (PROVIDED)\n",
    "\n",
    "We first prepocessed the data to extract X (the input) and Y (the input labels)"
   ]
  },
  {
   "cell_type": "code",
   "execution_count": 1,
   "metadata": {},
   "outputs": [
    {
     "name": "stdout",
     "output_type": "stream",
     "text": [
      "(2225, 3)\n"
     ]
    },
    {
     "data": {
      "text/html": [
       "<div>\n",
       "<style scoped>\n",
       "    .dataframe tbody tr th:only-of-type {\n",
       "        vertical-align: middle;\n",
       "    }\n",
       "\n",
       "    .dataframe tbody tr th {\n",
       "        vertical-align: top;\n",
       "    }\n",
       "\n",
       "    .dataframe thead th {\n",
       "        text-align: right;\n",
       "    }\n",
       "</style>\n",
       "<table border=\"1\" class=\"dataframe\">\n",
       "  <thead>\n",
       "    <tr style=\"text-align: right;\">\n",
       "      <th></th>\n",
       "      <th>news_report</th>\n",
       "      <th>labels</th>\n",
       "      <th>labels_text</th>\n",
       "    </tr>\n",
       "  </thead>\n",
       "  <tbody>\n",
       "    <tr>\n",
       "      <th>0</th>\n",
       "      <td>Tate &amp; Lyle boss bags top award\\n\\nTate &amp; Lyle...</td>\n",
       "      <td>0</td>\n",
       "      <td>business</td>\n",
       "    </tr>\n",
       "    <tr>\n",
       "      <th>1</th>\n",
       "      <td>Halo 2 sells five million copies\\n\\nMicrosoft ...</td>\n",
       "      <td>4</td>\n",
       "      <td>tech</td>\n",
       "    </tr>\n",
       "    <tr>\n",
       "      <th>2</th>\n",
       "      <td>MSPs hear renewed climate warning\\n\\nClimate c...</td>\n",
       "      <td>2</td>\n",
       "      <td>politics</td>\n",
       "    </tr>\n",
       "    <tr>\n",
       "      <th>3</th>\n",
       "      <td>Pavey focuses on indoor success\\n\\nJo Pavey wi...</td>\n",
       "      <td>3</td>\n",
       "      <td>sport</td>\n",
       "    </tr>\n",
       "    <tr>\n",
       "      <th>4</th>\n",
       "      <td>Tories reject rethink on axed MP\\n\\nSacked MP ...</td>\n",
       "      <td>2</td>\n",
       "      <td>politics</td>\n",
       "    </tr>\n",
       "  </tbody>\n",
       "</table>\n",
       "</div>"
      ],
      "text/plain": [
       "                                         news_report  labels labels_text\n",
       "0  Tate & Lyle boss bags top award\\n\\nTate & Lyle...       0    business\n",
       "1  Halo 2 sells five million copies\\n\\nMicrosoft ...       4        tech\n",
       "2  MSPs hear renewed climate warning\\n\\nClimate c...       2    politics\n",
       "3  Pavey focuses on indoor success\\n\\nJo Pavey wi...       3       sport\n",
       "4  Tories reject rethink on axed MP\\n\\nSacked MP ...       2    politics"
      ]
     },
     "execution_count": 1,
     "metadata": {},
     "output_type": "execute_result"
    }
   ],
   "source": [
    "import pandas as pd\n",
    "from sklearn.datasets import load_files\n",
    "\n",
    "\n",
    "# for reproducibility\n",
    "random_state = 0 \n",
    "\n",
    "DATA_DIR = \"bbc/\"\n",
    "data = load_files(DATA_DIR, encoding=\"utf-8\", decode_error=\"replace\", random_state=random_state)\n",
    "\n",
    "\n",
    "df = pd.DataFrame({'news_report': data['data'], 'labels': data['target']})\n",
    "# add text labels \n",
    "df['labels_text'] = df.labels.apply(lambda x: data['target_names'][x])\n",
    "print(df.shape)\n",
    "df.head()"
   ]
  },
  {
   "cell_type": "markdown",
   "metadata": {
    "colab_type": "text",
    "id": "xchG9cxna7jE"
   },
   "source": [
    "Extracting X (texts) and Y (classes)"
   ]
  },
  {
   "cell_type": "code",
   "execution_count": 2,
   "metadata": {
    "colab": {},
    "colab_type": "code",
    "id": "jjVnCCXNa7jJ"
   },
   "outputs": [
    {
     "name": "stdout",
     "output_type": "stream",
     "text": [
      "Spain coach faces racism inquiry\n",
      "\n",
      "Spain's Football Federation has initiated disciplinary action against national coach Luis Aragones over racist comments about Thierry Henry.\n",
      "\n",
      "If found guilty Aragones could lose his job or face a fine of about £22,000. The federation had initially declined to take action against Aragones after comments he made during a national team training session in October. But its president Angel Maria Villar changed his mind after a request by Spain's anti-violence commission. Aragones insisted the comments, made to Henry's Arsenal club-mate Jose Antonio Reyes, were meant to motivate the player, and were not intended to be offensive.\n",
      "\n",
      "\"I never intended to offend anyone, and for that reason I have a very easy conscience,\" he said at the time. \"I'm obliged to motivate my players to get the best results. \"As part of that job, I use colloquial language, with which we can all understand each other within the framework of the football world. \" England's players made a point of wearing anti-racism t-shirts when training before their friendly against Spain in Madrid last month.\n",
      "\n",
      "But the storm increased following racist chanting by Spanish fans at England's black players during the game, which Spain won 1-0. Spain's minister of sport Jaime Lissavetzky was quick to give his backing to the Federation's decision. \"Everyone who has a public function has to consider their declarations, and make sure they do not give a negative image,\" he said. \"We are going to have zero tolerance in questions of racism.\"\n",
      "\n",
      "3\n"
     ]
    }
   ],
   "source": [
    "texts = df[\"news_report\"]\n",
    "labels = df[\"labels\"]\n",
    "\n",
    "n=100\n",
    "print(texts[n])\n",
    "print(labels[n])"
   ]
  },
  {
   "cell_type": "markdown",
   "metadata": {},
   "source": [
    "### 2 Converting the texts in the corpus to vectors of integers "
   ]
  },
  {
   "cell_type": "markdown",
   "metadata": {
    "colab_type": "text",
    "id": "uYbQI1mka7kl"
   },
   "source": [
    "#### Exercise 1 -  Convert the corpus to a list of lists of integers\n",
    "\n",
    "* Define a dictionary tokens2int which maps each distinct token in the corpus to a distinct integer \n",
    "(the size of this dictionary is the size of the corpus vocabulary i.e., the number of distinct tokens in the corpus, cf. Python CS)\n",
    "* Use this dictionary to map each news report to a vector.\n",
    "\n",
    "\n",
    "**Example**\n",
    "* Input Texts: [\"The woman put the book on the table\", \"The woman reads\"]\n",
    "* Created vocabulary: {the, woman, put, book, on, table, reads}\n",
    "* Output Texts: [ [1,2,3,1,4,5,1,6], [1,2,7]]\n",
    "\n"
   ]
  },
  {
   "cell_type": "code",
   "execution_count": 3,
   "metadata": {},
   "outputs": [
    {
     "name": "stdout",
     "output_type": "stream",
     "text": [
      "34731\n"
     ]
    }
   ],
   "source": [
    "global_text = list(texts)\n",
    "\n",
    "# get the vocabulary\n",
    "voc = set()\n",
    "import spacy\n",
    "nlp = spacy.load('en_core_web_sm')\n",
    "\n",
    "for text in global_text:\n",
    "    doc = nlp(text)\n",
    "    for token in doc:\n",
    "        voc.add(token.text)\n",
    "\n",
    "print(len(voc))"
   ]
  },
  {
   "cell_type": "code",
   "execution_count": 4,
   "metadata": {},
   "outputs": [],
   "source": [
    "# convert the vocabulary into a list, so that we fix an order\n",
    "voc_list = list(voc)"
   ]
  },
  {
   "cell_type": "code",
   "execution_count": 5,
   "metadata": {},
   "outputs": [],
   "source": [
    "# create a mapping dictionnary from token to index\n",
    "tokens2int = {w: i for i, w in enumerate(voc_list)}"
   ]
  },
  {
   "cell_type": "code",
   "execution_count": 6,
   "metadata": {},
   "outputs": [
    {
     "data": {
      "text/plain": [
       "18413"
      ]
     },
     "execution_count": 6,
     "metadata": {},
     "output_type": "execute_result"
    }
   ],
   "source": [
    "tokens2int[\"am\"]"
   ]
  },
  {
   "cell_type": "code",
   "execution_count": 7,
   "metadata": {},
   "outputs": [],
   "source": [
    "# use this mapping to convert texts into lists of integers\n",
    "texts_as_ints = [[tokens2int[w.text] for w in nlp(text)] for text in global_text]\n",
    "df[\"texts_as_ints\"] = texts_as_ints"
   ]
  },
  {
   "cell_type": "code",
   "execution_count": 8,
   "metadata": {},
   "outputs": [
    {
     "data": {
      "text/html": [
       "<div>\n",
       "<style scoped>\n",
       "    .dataframe tbody tr th:only-of-type {\n",
       "        vertical-align: middle;\n",
       "    }\n",
       "\n",
       "    .dataframe tbody tr th {\n",
       "        vertical-align: top;\n",
       "    }\n",
       "\n",
       "    .dataframe thead th {\n",
       "        text-align: right;\n",
       "    }\n",
       "</style>\n",
       "<table border=\"1\" class=\"dataframe\">\n",
       "  <thead>\n",
       "    <tr style=\"text-align: right;\">\n",
       "      <th></th>\n",
       "      <th>news_report</th>\n",
       "      <th>labels</th>\n",
       "      <th>labels_text</th>\n",
       "      <th>texts_as_ints</th>\n",
       "    </tr>\n",
       "  </thead>\n",
       "  <tbody>\n",
       "    <tr>\n",
       "      <th>0</th>\n",
       "      <td>Tate &amp; Lyle boss bags top award\\n\\nTate &amp; Lyle...</td>\n",
       "      <td>0</td>\n",
       "      <td>business</td>\n",
       "      <td>[14414, 5669, 7201, 3955, 30163, 32907, 33932,...</td>\n",
       "    </tr>\n",
       "    <tr>\n",
       "      <th>1</th>\n",
       "      <td>Halo 2 sells five million copies\\n\\nMicrosoft ...</td>\n",
       "      <td>4</td>\n",
       "      <td>tech</td>\n",
       "      <td>[9477, 14627, 0, 8282, 310, 4540, 34005, 19473...</td>\n",
       "    </tr>\n",
       "    <tr>\n",
       "      <th>2</th>\n",
       "      <td>MSPs hear renewed climate warning\\n\\nClimate c...</td>\n",
       "      <td>2</td>\n",
       "      <td>politics</td>\n",
       "      <td>[29745, 18579, 7396, 23422, 33044, 34005, 1180...</td>\n",
       "    </tr>\n",
       "    <tr>\n",
       "      <th>3</th>\n",
       "      <td>Pavey focuses on indoor success\\n\\nJo Pavey wi...</td>\n",
       "      <td>3</td>\n",
       "      <td>sport</td>\n",
       "      <td>[7371, 20388, 10237, 28208, 22751, 34005, 1862...</td>\n",
       "    </tr>\n",
       "    <tr>\n",
       "      <th>4</th>\n",
       "      <td>Tories reject rethink on axed MP\\n\\nSacked MP ...</td>\n",
       "      <td>2</td>\n",
       "      <td>politics</td>\n",
       "      <td>[25969, 2051, 13414, 10237, 30758, 3635, 34005...</td>\n",
       "    </tr>\n",
       "  </tbody>\n",
       "</table>\n",
       "</div>"
      ],
      "text/plain": [
       "                                         news_report  labels labels_text  \\\n",
       "0  Tate & Lyle boss bags top award\\n\\nTate & Lyle...       0    business   \n",
       "1  Halo 2 sells five million copies\\n\\nMicrosoft ...       4        tech   \n",
       "2  MSPs hear renewed climate warning\\n\\nClimate c...       2    politics   \n",
       "3  Pavey focuses on indoor success\\n\\nJo Pavey wi...       3       sport   \n",
       "4  Tories reject rethink on axed MP\\n\\nSacked MP ...       2    politics   \n",
       "\n",
       "                                       texts_as_ints  \n",
       "0  [14414, 5669, 7201, 3955, 30163, 32907, 33932,...  \n",
       "1  [9477, 14627, 0, 8282, 310, 4540, 34005, 19473...  \n",
       "2  [29745, 18579, 7396, 23422, 33044, 34005, 1180...  \n",
       "3  [7371, 20388, 10237, 28208, 22751, 34005, 1862...  \n",
       "4  [25969, 2051, 13414, 10237, 30758, 3635, 34005...  "
      ]
     },
     "execution_count": 8,
     "metadata": {},
     "output_type": "execute_result"
    }
   ],
   "source": [
    "df.head()"
   ]
  },
  {
   "cell_type": "markdown",
   "metadata": {
    "colab_type": "text",
    "id": "ZHT_bKtua7lJ"
   },
   "source": [
    "#### Exercise 2 - Define the reverse int2token mapping and check the token2int and the int2token mappings on an example\n",
    "\n",
    "* Check that the words have been correctly converted to integer by applying the reverse integer to token mapping\n",
    "* Print out the vocabulary size \n",
    "* Print out the maximum text length \n"
   ]
  },
  {
   "cell_type": "code",
   "execution_count": 9,
   "metadata": {},
   "outputs": [],
   "source": [
    "# define the reverse mapping\n",
    "int2tokens = {i: w for i, w in enumerate(voc_list)}"
   ]
  },
  {
   "cell_type": "code",
   "execution_count": 10,
   "metadata": {},
   "outputs": [
    {
     "name": "stdout",
     "output_type": "stream",
     "text": [
      "** Back-conversion:\n",
      " Tate & Lyle boss bags top award \n",
      "\n",
      " Tate & Lyle 's chief executive has been named European Businessman of the Year by a leading business magazine . \n",
      "\n",
      " Iain Ferguson was awarded the title by US publication Forbes for returning one of the UK 's \" venerable \" manufacturers to the country 's top 100 companies . The sugar group had been absent from the FTSE 100 for seven years until Mr Ferguson helped it return to growth . Tate 's shares have leapt 55 % this year , boosted by firming sugar prices and sales of its artificial sweeteners . \n",
      "\n",
      " \" After years of a sagging stock price and a seven - year hiatus from the FTSE 100 , one of Britain 's venerable manufacturers has returned to the vaunted index , \" Forbes said . Mr Ferguson took the helm at the company in 2003 , after spending most of his career at consumer goods giant Unilever . Tate & Lyle , which was an original member of the historic FT-30 index in 1935 , operates more than 41 factories and 20 more additional production facilities in 28 countries . Previous winners of the Forbes award include Royal Bank of Scotland chief executive Fred Goodwin and former Vodafone boss Chris Gent . \n",
      "\n",
      "\n",
      "** Original:\n",
      " Tate & Lyle boss bags top award\n",
      "\n",
      "Tate & Lyle's chief executive has been named European Businessman of the Year by a leading business magazine.\n",
      "\n",
      "Iain Ferguson was awarded the title by US publication Forbes for returning one of the UK's \"venerable\" manufacturers to the country's top 100 companies. The sugar group had been absent from the FTSE 100 for seven years until Mr Ferguson helped it return to growth. Tate's shares have leapt 55% this year, boosted by firming sugar prices and sales of its artificial sweeteners.\n",
      "\n",
      "\"After years of a sagging stock price and a seven-year hiatus from the FTSE 100, one of Britain's venerable manufacturers has returned to the vaunted index,\" Forbes said. Mr Ferguson took the helm at the company in 2003, after spending most of his career at consumer goods giant Unilever. Tate & Lyle, which was an original member of the historic FT-30 index in 1935, operates more than 41 factories and 20 more additional production facilities in 28 countries. Previous winners of the Forbes award include Royal Bank of Scotland chief executive Fred Goodwin and former Vodafone boss Chris Gent.\n",
      "\n"
     ]
    }
   ],
   "source": [
    "# check that the reverse mapping is correct\n",
    "int_sentence = df.iloc[0].texts_as_ints\n",
    "print(\"** Back-conversion:\\n\", \" \".join([int2tokens[i] for i in int_sentence]))\n",
    "print(\"\\n** Original:\\n\", df.iloc[0].news_report)"
   ]
  },
  {
   "cell_type": "code",
   "execution_count": 11,
   "metadata": {},
   "outputs": [
    {
     "name": "stdout",
     "output_type": "stream",
     "text": [
      "Vocabulary size:  34731\n"
     ]
    }
   ],
   "source": [
    "print(\"Vocabulary size: \",len(tokens2int))"
   ]
  },
  {
   "cell_type": "code",
   "execution_count": 12,
   "metadata": {
    "tags": []
   },
   "outputs": [
    {
     "name": "stdout",
     "output_type": "stream",
     "text": [
      "Maximum text length:  5062\n"
     ]
    }
   ],
   "source": [
    "print(\"Maximum text length: \", max([len(text) for text in texts_as_ints]))"
   ]
  },
  {
   "cell_type": "markdown",
   "metadata": {},
   "source": [
    "#### Exercise 3 - Compute some statistics to determine which sentences to keep\n",
    "\n",
    "The maximum sentence size is very large (4432 tokens). Presumably most reports are not that long. Use pandas describe() method and matplotlib to get a better idea of the data distribution in terms of report length.\n",
    "\n",
    "* Compute the list of report lengths (list of nb of tokens for each report in the BBC news corpus)\n",
    "* Compute the box plots for report lengths\n",
    "* Use pandas describe() method to get the descripte statistics (min, max, means, etc.)"
   ]
  },
  {
   "cell_type": "code",
   "execution_count": 13,
   "metadata": {},
   "outputs": [
    {
     "data": {
      "text/plain": [
       "count    2225.000000\n",
       "mean      454.232809\n",
       "std       277.552961\n",
       "min       103.000000\n",
       "25%       292.000000\n",
       "50%       394.000000\n",
       "75%       555.000000\n",
       "max      5062.000000\n",
       "Name: length, dtype: float64"
      ]
     },
     "execution_count": 13,
     "metadata": {},
     "output_type": "execute_result"
    }
   ],
   "source": [
    "df[\"length\"] = df[\"texts_as_ints\"].apply(lambda x: len(x))\n",
    "df[\"length\"].describe()"
   ]
  },
  {
   "cell_type": "code",
   "execution_count": 14,
   "metadata": {},
   "outputs": [
    {
     "data": {
      "image/png": "[encoded data removed]",
      "text/plain": [
       "<Figure size 640x480 with 1 Axes>"
      ]
     },
     "metadata": {},
     "output_type": "display_data"
    }
   ],
   "source": [
    "from matplotlib import pyplot as plt\n",
    "\n",
    "df[\"length\"].plot(kind=\"box\", vert = False)\n",
    "plt.title(\"Text length distribution\")\n",
    "plt.show()"
   ]
  },
  {
   "attachments": {},
   "cell_type": "markdown",
   "metadata": {},
   "source": [
    "There are lots of outliers with very long reports. We see that 555 could be a more reasonable length."
   ]
  },
  {
   "cell_type": "markdown",
   "metadata": {
    "colab_type": "text",
    "id": "pxs8QE1Ha7ld",
    "tags": []
   },
   "source": [
    "### 2  Classifying with a Recurrent Neural Network\n",
    "\n",
    "We import some pytorch submodules (PROVIDED)\n",
    "\n",
    "* torch: functions to create tensors and operations on tensors \n",
    "* torch.nn: to specify neural networks\n",
    "* torch.nn.functional for when we want to define a custom layer for example with a convolution operation layer.\n",
    "* torch.optim: optimizers for training \n",
    "\n",
    "We also need to specify some constants which ensure that the code can run on CPU. The `max_len` constant is important as text whose size exceeds (in number of tokens) that limit will be discarded. We set it to 555 (see next). "
   ]
  },
  {
   "cell_type": "code",
   "execution_count": 15,
   "metadata": {},
   "outputs": [
    {
     "name": "stdout",
     "output_type": "stream",
     "text": [
      "Requirement already satisfied: torch==2.0.0 in c:\\users\\bleuze3u\\appdata\\local\\programs\\python\\python310\\lib\\site-packages (2.0.0)\n",
      "Requirement already satisfied: torchvision in c:\\users\\bleuze3u\\appdata\\local\\programs\\python\\python310\\lib\\site-packages (0.15.1)\n",
      "Requirement already satisfied: torchaudio in c:\\users\\bleuze3u\\appdata\\local\\programs\\python\\python310\\lib\\site-packages (2.0.1)\n",
      "Requirement already satisfied: networkx in c:\\users\\bleuze3u\\appdata\\local\\programs\\python\\python310\\lib\\site-packages (from torch==2.0.0) (3.0)\n",
      "Requirement already satisfied: typing-extensions in c:\\users\\bleuze3u\\appdata\\local\\programs\\python\\python310\\lib\\site-packages (from torch==2.0.0) (4.4.0)\n",
      "Requirement already satisfied: filelock in c:\\users\\bleuze3u\\appdata\\local\\programs\\python\\python310\\lib\\site-packages (from torch==2.0.0) (3.9.0)\n",
      "Requirement already satisfied: jinja2 in c:\\users\\bleuze3u\\appdata\\local\\programs\\python\\python310\\lib\\site-packages (from torch==2.0.0) (3.1.2)\n",
      "Requirement already satisfied: sympy in c:\\users\\bleuze3u\\appdata\\local\\programs\\python\\python310\\lib\\site-packages (from torch==2.0.0) (1.11.1)\n",
      "Requirement already satisfied: numpy in c:\\users\\bleuze3u\\appdata\\local\\programs\\python\\python310\\lib\\site-packages (from torchvision) (1.23.1)\n",
      "Requirement already satisfied: pillow!=8.3.*,>=5.3.0 in c:\\users\\bleuze3u\\appdata\\local\\programs\\python\\python310\\lib\\site-packages (from torchvision) (9.4.0)\n",
      "Requirement already satisfied: requests in c:\\users\\bleuze3u\\appdata\\local\\programs\\python\\python310\\lib\\site-packages (from torchvision) (2.28.2)\n",
      "Requirement already satisfied: MarkupSafe>=2.0 in c:\\users\\bleuze3u\\appdata\\local\\programs\\python\\python310\\lib\\site-packages (from jinja2->torch==2.0.0) (2.1.2)\n",
      "Requirement already satisfied: certifi>=2017.4.17 in c:\\users\\bleuze3u\\appdata\\local\\programs\\python\\python310\\lib\\site-packages (from requests->torchvision) (2022.12.7)\n",
      "Requirement already satisfied: idna<4,>=2.5 in c:\\users\\bleuze3u\\appdata\\local\\programs\\python\\python310\\lib\\site-packages (from requests->torchvision) (3.4)\n",
      "Requirement already satisfied: urllib3<1.27,>=1.21.1 in c:\\users\\bleuze3u\\appdata\\local\\programs\\python\\python310\\lib\\site-packages (from requests->torchvision) (1.26.14)\n",
      "Requirement already satisfied: charset-normalizer<4,>=2 in c:\\users\\bleuze3u\\appdata\\local\\programs\\python\\python310\\lib\\site-packages (from requests->torchvision) (3.0.1)\n",
      "Requirement already satisfied: mpmath>=0.19 in c:\\users\\bleuze3u\\appdata\\local\\programs\\python\\python310\\lib\\site-packages (from sympy->torch==2.0.0) (1.3.0)\n"
     ]
    },
    {
     "name": "stderr",
     "output_type": "stream",
     "text": [
      "\n",
      "[notice] A new release of pip is available: 23.0.1 -> 23.1.2\n",
      "[notice] To update, run: python.exe -m pip install --upgrade pip\n"
     ]
    }
   ],
   "source": [
    "# !python -m pip install torch==2.0.0 torchvision torchaudio"
   ]
  },
  {
   "cell_type": "code",
   "execution_count": 16,
   "metadata": {
    "colab": {},
    "colab_type": "code",
    "id": "SU-ibO_-a7ll"
   },
   "outputs": [],
   "source": [
    "import torch\n",
    "import torch.nn as nn\n",
    "import torch.nn.functional as F\n",
    "import torch.optim as optim"
   ]
  },
  {
   "cell_type": "markdown",
   "metadata": {
    "colab_type": "text",
    "id": "5C9UoOQka7l7"
   },
   "source": [
    "#### Exercise 4 - Creating tensors\n",
    "\n",
    "To help speed up computation, all data must be converted to tensors. \n",
    "\n",
    "* Set the maximum size of text to the 3rd quartile (555)\n",
    "* Create a tensor of size  (number of texts, maximum size of a text) for X. Call this tensor X. Longer texts will be cut down to maximal size and shorter texts will be padded with `<eos>`. Use torch.zeros method and make sure to specify the components will be of type integer (long attribute in torch)\n",
    "* Populate this matrix with the integer version of the BBC news report (cf. Exercise 1). Use the torch.LongTensor method. When populating the matrix cut down sentence whose length is above the max length to max length\n",
    "* Create another tensor of size (numbers of text) and populate it with the list of labels. Call this tensor Y.\n",
    "* Print out the shape of X and Y . X should be of size (2225, 555) and Y of size (2225,) \n",
    "\n",
    "N.B. In practice, it is not necessary to have all the data in a single tensor. In fact, this is inefficient if the texts have varied length. The only constraint is that for a given batch, all sequences have the same size. "
   ]
  },
  {
   "cell_type": "code",
   "execution_count": 17,
   "metadata": {},
   "outputs": [
    {
     "name": "stdout",
     "output_type": "stream",
     "text": [
      "2225\n"
     ]
    }
   ],
   "source": [
    "max_length = 555 #3rd quartile of the length distribution\n",
    "num_texts = len(texts_as_ints)\n",
    "print(num_texts)"
   ]
  },
  {
   "cell_type": "code",
   "execution_count": 18,
   "metadata": {},
   "outputs": [
    {
     "name": "stdout",
     "output_type": "stream",
     "text": [
      "torch.Size([2225, 555])\n"
     ]
    }
   ],
   "source": [
    "# create tensor X of integers with shape (num_texts, max_length)\n",
    "X = torch.zeros(num_texts, max_length).long()\n",
    "print(X.shape)"
   ]
  },
  {
   "cell_type": "code",
   "execution_count": 19,
   "metadata": {},
   "outputs": [
    {
     "name": "stdout",
     "output_type": "stream",
     "text": [
      "torch.Size([2225, 555])\n"
     ]
    },
    {
     "data": {
      "text/plain": [
       "tensor([[14414,  5669,  7201,  ...,     0,     0,     0],\n",
       "        [ 9477, 14627,     0,  ...,     0,     0,     0],\n",
       "        [29745, 18579,  7396,  ...,     0,     0,     0],\n",
       "        ...,\n",
       "        [23581, 29377, 10701,  ...,     0,     0,     0],\n",
       "        [ 8788,   899, 32543,  ..., 12312, 31687, 31951],\n",
       "        [ 9133, 34276, 31681,  ...,     0,     0,     0]])"
      ]
     },
     "execution_count": 19,
     "metadata": {},
     "output_type": "execute_result"
    }
   ],
   "source": [
    "# populate X with the data\n",
    "for i in range(num_texts):\n",
    "    text_as_ints = texts_as_ints[i]\n",
    "    length = len(text_as_ints)\n",
    "    if length <= max_length:\n",
    "        X[i, :length] = torch.tensor(text_as_ints)\n",
    "    else:\n",
    "        X[i, :] = torch.tensor(text_as_ints[:max_length])\n",
    "\n",
    "print(X.shape)\n",
    "X"
   ]
  },
  {
   "cell_type": "code",
   "execution_count": 22,
   "metadata": {},
   "outputs": [
    {
     "name": "stdout",
     "output_type": "stream",
     "text": [
      "torch.Size([2225])\n",
      "tensor([0, 4, 2,  ..., 1, 1, 3])\n"
     ]
    }
   ],
   "source": [
    "Y = torch.LongTensor(labels)\n",
    "print(Y.shape)\n",
    "print(Y)"
   ]
  },
  {
   "cell_type": "markdown",
   "metadata": {
    "colab_type": "text",
    "id": "eakhMa5Sa7mL"
   },
   "source": [
    "#### Exercise 5 - Create train and test data\n",
    "\n",
    "* Split X into two parts, one called X_train which consists of the first 1112 items and the other called X_valid which includes the rest of the data\n",
    "* Do the same for Y"
   ]
  },
  {
   "cell_type": "code",
   "execution_count": 21,
   "metadata": {},
   "outputs": [
    {
     "name": "stdout",
     "output_type": "stream",
     "text": [
      "torch.Size([1112, 555]) torch.Size([222, 555])\n"
     ]
    }
   ],
   "source": [
    "X_train = X[:1112]\n",
    "X_valid = X[1112:1334]\n",
    "\n",
    "print(X_train.shape, X_valid.shape)"
   ]
  },
  {
   "cell_type": "code",
   "execution_count": 23,
   "metadata": {},
   "outputs": [
    {
     "name": "stdout",
     "output_type": "stream",
     "text": [
      "torch.Size([1112]) torch.Size([222])\n"
     ]
    }
   ],
   "source": [
    "Y_train = Y[:1112]\n",
    "Y_valid = Y[1112:1334]\n",
    "\n",
    "print(Y_train.shape, Y_valid.shape)"
   ]
  },
  {
   "cell_type": "markdown",
   "metadata": {
    "colab_type": "text",
    "id": "LZkXMuF0a7mj"
   },
   "source": [
    "#### Create batches with DataLoader (PROVIDED)\n",
    "\n",
    "pytorch provides a batch generator which shuffles the data. We apply it to train and validation data"
   ]
  },
  {
   "cell_type": "code",
   "execution_count": 24,
   "metadata": {
    "colab": {},
    "colab_type": "code",
    "id": "veYFlstja7mm"
   },
   "outputs": [],
   "source": [
    "from torch.utils.data import TensorDataset, DataLoader\n",
    "batch_size = 32\n",
    "# the TensorDataset is a ready to use class to represent your data as list of tensors. \n",
    "# Note that input_features and labels must match on the length of the first dimension\n",
    "train_set = TensorDataset(X_train, Y_train)\n",
    "valid_set = TensorDataset(X_valid, Y_valid)\n",
    "\n",
    "# DataLoader shuffles and batches the data and load its in parallel using multiprocessing workers\n",
    "\n",
    "train_loader = DataLoader(train_set, batch_size=batch_size, shuffle=True)\n",
    "valid_loader = DataLoader(valid_set, batch_size=batch_size)"
   ]
  },
  {
   "cell_type": "code",
   "execution_count": 29,
   "metadata": {},
   "outputs": [
    {
     "name": "stdout",
     "output_type": "stream",
     "text": [
      "(tensor([[14414,  5669,  7201,  ...,     0,     0,     0],\n",
      "        [ 9477, 14627,     0,  ...,     0,     0,     0],\n",
      "        [29745, 18579,  7396,  ...,     0,     0,     0],\n",
      "        ...,\n",
      "        [  100,  7552, 28449,  ..., 27647,  6059, 30833],\n",
      "        [ 9485, 24163,  1344,  ...,     0,     0,     0],\n",
      "        [ 1344, 17272,   335,  ...,     0,     0,     0]]), tensor([0, 4, 2,  ..., 4, 4, 2]))\n"
     ]
    }
   ],
   "source": [
    "print(train_set.tensors)"
   ]
  },
  {
   "attachments": {},
   "cell_type": "markdown",
   "metadata": {
    "colab_type": "text",
    "id": "Cwh1VKE1a7n1"
   },
   "source": [
    "#### Exercise 6 - Define your neural network (PARTIALLY PROVIDED)\n",
    "\n",
    "We define a network by specifying a subclass of the appropriate pytorch modules. For instance here, as we want to create an RNN we create a subclass of pytorch RNN module. The specification of the network falls into 2 parts. \n",
    "\n",
    "In the **init part**, the layers of the network are defined and  their type and shape are specified.  \n",
    "\n",
    "In the **forward part**, we connect the layers and specify input and output for each layer. \n",
    " \n",
    "* The hidden state returned by the GRU layer is of size (num_layers * num_directions, batch_size, hidden_size) \n",
    "* The input to the decision layer should be of size (batch_size, hidden_size).   \n",
    "\n",
    "Hence the first 2 dimensions of hidden must be transposed and the tensor redimensioned to (batch_size, hidden_size).\n",
    "\n",
    "* drop : (num_layers * num_directions, batch_size, hidden_size)\n",
    "* drop.transpose(0,1): (batch_size, num_layers * num_directions,  hidden_size)\n",
    "* x.size(0) = batch_size\n",
    "* drop.transpose(0,1).contiguous.view(x.size(0), -1): (batchsize, hiddensize)\n",
    "\n",
    "**TODO:** fill in the missing variables (marked by ???)"
   ]
  },
  {
   "cell_type": "code",
   "execution_count": 54,
   "metadata": {
    "colab": {},
    "colab_type": "code",
    "id": "VyV6gWoOa7n7"
   },
   "outputs": [
    {
     "data": {
      "text/plain": [
       "RNN(\n",
       "  (embed): Embedding(34731, 64)\n",
       "  (rnn): GRU(64, 128, batch_first=True)\n",
       "  (dropout): Dropout(p=0.1, inplace=False)\n",
       "  (decision): Linear(in_features=128, out_features=5, bias=True)\n",
       ")"
      ]
     },
     "execution_count": 54,
     "metadata": {},
     "output_type": "execute_result"
    }
   ],
   "source": [
    "class RNN(nn.Module):\n",
    "    def __init__(self, vocab_size, embed_size, hidden_size, num_classes):\n",
    "        super().__init__()\n",
    "        \n",
    "        # Here we define the network layers\n",
    "        \n",
    "        # An embedding layer projecting vectors of size vocab_size into embeddings of size embed_size\n",
    "        # Assigns to each word in the vocabulary an embedding of size embed_size\n",
    "        self.embed = nn.Embedding(num_embeddings = vocab_size, embedding_dim = embed_size)\n",
    "        \n",
    "        # A recurrent (GRU) layer to process each input token (represented by its embedding)\n",
    "        # The GRU network takes as input the embedding (of size embed_size) of the current word \n",
    "        # and the previous hidden state (of size hidden_size)\n",
    "        self.rnn = nn.GRU(embed_size, hidden_size, num_layers=1, bidirectional=False, batch_first=True) \n",
    "        \n",
    "        # Drop out layer for regularisation\n",
    "        self.dropout = nn.Dropout(0.1)\n",
    "        \n",
    "        # Fully connected layer mapping \n",
    "        # the last layer maps a hidden state to a vector of size the number of classes\n",
    "        self.decision = nn.Linear(in_features = hidden_size, out_features = num_classes)\n",
    "         \n",
    "    def forward(self, x):\n",
    "        # Here we say how the layers are connected \n",
    "       \n",
    "        #  for each token in the input, retrieve the corresponding embeddings \n",
    "        \n",
    "        # x = [batch size, input size]\n",
    "        embed = self.embed(x)\n",
    "        # embed = [batch size, sent len, emb dim]       \n",
    "       \n",
    "        # Run the RNN on the input embeddings\n",
    "        # output is the sequence of hidden states produced by the RNN\n",
    "        # hidden is the last hidden state produced\n",
    "        output, hidden = self.rnn(embed)\n",
    "        \n",
    "        # output = [sent len, batch size, hidden size]\n",
    "        # hidden = [num_layers * num_directions, batch size, hidden_size ]\n",
    "        \n",
    "        # Apply dropout (for regularisation)\n",
    "        drop = self.dropout(hidden)\n",
    "        \n",
    "        # drop = [num_layers * num_directions, batch size, hidden_size]   \n",
    "        \n",
    "        # Apply the fully connected layer to the output of the dropout\n",
    "        # Expected input size: [batch_size, input_size]\n",
    "        # We transpose [num_layers * num_directions, batch size, hidden_size ]\n",
    "        # to: [batch size, num_layers * num_directions, hidden_size ]\n",
    "        # And apply view to create an input of the form [batch size, input_size ]\n",
    "        # (x.size(0) = batch size)\n",
    "        \n",
    "        # effectively the same as with drop.squeeze(0)\n",
    "        return self.decision(drop.view(x.size(0), -1))\n",
    "    \n",
    "rnn_model = RNN(vocab_size = len(tokens2int),\n",
    "                embed_size = 64, \n",
    "                hidden_size = 128,\n",
    "                num_classes=len(df.labels.unique()))\n",
    "device = torch.device('cpu')\n",
    "rnn_model.to(device)"
   ]
  },
  {
   "cell_type": "markdown",
   "metadata": {
    "colab_type": "text",
    "id": "E3276ujaa7nF"
   },
   "source": [
    "#### Exercise 7  - Evaluating (PARTIALLY PROVIDED)\n",
    "\n",
    "We define an evaluation function (called \"perf\") which computes the average loss on the test/validation dataset and the proportion of correct cases. \n",
    "\n",
    "* We use pytorch nn.CrossEntropyLoss() as loss function.\n",
    "* For each batch returned by the loader, we calculate the scores produced by the model for each class, the loss, the predictions and the loss.\n",
    "* To block dropout (which should only be used at training time), we use the eval() method. \n",
    "* \"with torch.no_grad()\" temporarily set all the requires_grad flag to false. In practice, this enforces that gradients are not computed (and therefore the weights of the model remain unchanged). \n",
    "\n",
    "**TODO:** Modify the function so that it outputs the proportion of correct predictions in addition to the loss. Replace the '??' in the function with the correct variables and/or operations on these variables.\n"
   ]
  },
  {
   "cell_type": "code",
   "execution_count": 52,
   "metadata": {
    "colab": {},
    "colab_type": "code",
    "id": "WW8p4Pnga7nH"
   },
   "outputs": [],
   "source": [
    "def perf(model, loader):\n",
    "    # define the loss\n",
    "    criterion = nn.CrossEntropyLoss()\n",
    "    # No drop out\n",
    "    model.eval()\n",
    "    total_loss, correct, num = 0, 0, 0\n",
    "    with torch.no_grad():  # No gradient computation, weights remain unchanged\n",
    "        for x, y in loader:\n",
    "\n",
    "            # Compute the scores for the instances in the input batch\n",
    "            y_scores = model(x)\n",
    "            # Compute the loss\n",
    "            loss = criterion(y_scores, y)\n",
    "            # Compute the predictions\n",
    "            y_pred = torch.max(y_scores, 1)[1] # same as .argmax(dim=1)\n",
    "\n",
    "            # Update the batch loss\n",
    "            total_loss += loss.item()\n",
    "            num += len(y)\n",
    "            \n",
    "            # check for match with target \n",
    "            # sum Trues to give count of correct predictions\n",
    "            correct += sum(y_pred == y).item()\n",
    "    \n",
    "    return {'loss': total_loss, 'acc': correct/num}"
   ]
  },
  {
   "cell_type": "code",
   "execution_count": 55,
   "metadata": {
    "tags": []
   },
   "outputs": [
    {
     "data": {
      "text/plain": [
       "{'loss': 11.325920581817627, 'acc': 0.24774774774774774}"
      ]
     },
     "execution_count": 55,
     "metadata": {},
     "output_type": "execute_result"
    }
   ],
   "source": [
    "perf(rnn_model, valid_loader)"
   ]
  },
  {
   "cell_type": "code",
   "execution_count": 34,
   "metadata": {},
   "outputs": [
    {
     "data": {
      "text/plain": [
       "{'loss': 56.001869320869446, 'acc': 0.26169064748201437}"
      ]
     },
     "execution_count": 34,
     "metadata": {},
     "output_type": "execute_result"
    }
   ],
   "source": [
    "perf(rnn_model, train_loader)"
   ]
  },
  {
   "cell_type": "markdown",
   "metadata": {},
   "source": [
    "#### Exercise 8  - Training Loop\n",
    "\n",
    "Define a function fit(model, epochs) which you will use to train your model\n",
    "\n",
    "* use the CrossEntropyLoss and the Adam optimizer\n",
    "* iterates over the epochs and for each epoch:\n",
    "   - Set the module in training mode (use the train() method). Dropout will be enabled and gradients will be computed. \n",
    "   - Initialise the total loss to 0\n",
    "   - Iterate over each batches returned by train_loader    \n",
    "     For each batch:   \n",
    "        - set the gradients to null (optimizer.zero_grad())\n",
    "        - predicts the batch scores\n",
    "        - calculate the loss\n",
    "        - back propagate\n",
    "        - optimize (adjust the weights)\n",
    "        - update the total loss\n",
    "   \n",
    "**Hint:** Some of these steps are defined in the preceding exercise."
   ]
  },
  {
   "cell_type": "code",
   "execution_count": 35,
   "metadata": {},
   "outputs": [],
   "source": [
    "def fit(model, epochs):\n",
    "\n",
    "    # define the loss\n",
    "    criterion = nn.CrossEntropyLoss()\n",
    "\n",
    "    # define the optimiser\n",
    "    optimiser = optim.Adam(model.parameters(), lr=0.001)\n",
    "\n",
    "    # iterate over epochs    \n",
    "    for epoch in range(epochs):\n",
    "        \n",
    "        # set the model in training mode\n",
    "        model.train()\n",
    "\n",
    "        # initialize the total_loss to 0\n",
    "        total_loss = 0\n",
    "\n",
    "        # iterate over batches\n",
    "        for x, y in train_loader:\n",
    "                \n",
    "            # reset the gradients\n",
    "            optimiser.zero_grad()\n",
    "\n",
    "            # predict the batch scores\n",
    "            y_scores = model(x)\n",
    "\n",
    "            # calculate the loss\n",
    "            loss = criterion(y_scores, y)\n",
    "\n",
    "            # Compute the gradients (backpropagation)\n",
    "            loss.backward()\n",
    "\n",
    "            # Update the weights (optimization)\n",
    "            optimiser.step()\n",
    "\n",
    "            # Update the batch loss\n",
    "            total_loss += loss.item()\n",
    "\n",
    "        print(\"Epoch: \", epoch, \", Total loss: \", total_loss)\n",
    "        print(\" - Train: \", perf(model, train_loader))\n",
    "        print(\" - Validation: \", perf(model, valid_loader))"
   ]
  },
  {
   "cell_type": "markdown",
   "metadata": {
    "colab_type": "text",
    "id": "9nlDoZhxa7oo"
   },
   "source": [
    "#### Exercise 9 - Training\n",
    "\n",
    "Use the fit function you just defined to train your model. \n",
    "* The loss function on the train and validation set should decrease\n",
    "* The accuracy on the validation set should improve"
   ]
  },
  {
   "cell_type": "code",
   "execution_count": 36,
   "metadata": {},
   "outputs": [
    {
     "name": "stdout",
     "output_type": "stream",
     "text": [
      "Epoch:  0 , Total loss:  55.38616335391998\n",
      " - Train:  {'loss': 55.01424849033356, 'acc': 0.3102517985611511}\n",
      " - Validation:  {'loss': 11.282464981079102, 'acc': 0.26576576576576577}\n",
      "Epoch:  1 , Total loss:  54.357380747795105\n",
      " - Train:  {'loss': 53.40545701980591, 'acc': 0.32643884892086333}\n",
      " - Validation:  {'loss': 10.937960743904114, 'acc': 0.28378378378378377}\n",
      "Epoch:  2 , Total loss:  53.732893228530884\n",
      " - Train:  {'loss': 52.79150104522705, 'acc': 0.3327338129496403}\n",
      " - Validation:  {'loss': 10.975419282913208, 'acc': 0.2927927927927928}\n",
      "Epoch:  3 , Total loss:  52.7509263753891\n",
      " - Train:  {'loss': 51.56583619117737, 'acc': 0.3426258992805755}\n",
      " - Validation:  {'loss': 10.883506774902344, 'acc': 0.28378378378378377}\n",
      "Epoch:  4 , Total loss:  51.38582968711853\n",
      " - Train:  {'loss': 49.65126621723175, 'acc': 0.37859712230215825}\n",
      " - Validation:  {'loss': 11.043561935424805, 'acc': 0.26576576576576577}\n"
     ]
    }
   ],
   "source": [
    "# fit the model\n",
    "fit(rnn_model, epochs = 5)"
   ]
  },
  {
   "cell_type": "code",
   "execution_count": 37,
   "metadata": {},
   "outputs": [
    {
     "data": {
      "text/plain": [
       "{'loss': 11.043561935424805, 'acc': 0.26576576576576577}"
      ]
     },
     "execution_count": 37,
     "metadata": {},
     "output_type": "execute_result"
    }
   ],
   "source": [
    "# evaluate the model on the validation set\n",
    "perf(rnn_model, valid_loader)"
   ]
  },
  {
   "cell_type": "code",
   "execution_count": 38,
   "metadata": {},
   "outputs": [
    {
     "name": "stdout",
     "output_type": "stream",
     "text": [
      "Epoch:  0 , Total loss:  49.80981135368347\n",
      " - Train:  {'loss': 48.49936258792877, 'acc': 0.3830935251798561}\n",
      " - Validation:  {'loss': 11.119918704032898, 'acc': 0.2927927927927928}\n",
      "Epoch:  1 , Total loss:  48.099900007247925\n",
      " - Train:  {'loss': 46.828827023506165, 'acc': 0.4073741007194245}\n",
      " - Validation:  {'loss': 11.205406427383423, 'acc': 0.2702702702702703}\n",
      "Epoch:  2 , Total loss:  46.945337533950806\n",
      " - Train:  {'loss': 46.04784154891968, 'acc': 0.36960431654676257}\n",
      " - Validation:  {'loss': 11.37793242931366, 'acc': 0.25225225225225223}\n",
      "Epoch:  3 , Total loss:  45.58250081539154\n",
      " - Train:  {'loss': 45.41574764251709, 'acc': 0.43884892086330934}\n",
      " - Validation:  {'loss': 11.425739169120789, 'acc': 0.25225225225225223}\n",
      "Epoch:  4 , Total loss:  44.78152096271515\n",
      " - Train:  {'loss': 44.3059424161911, 'acc': 0.43615107913669066}\n",
      " - Validation:  {'loss': 11.796953678131104, 'acc': 0.25675675675675674}\n"
     ]
    }
   ],
   "source": [
    "# train a second time\n",
    "fit(rnn_model, epochs = 5)"
   ]
  },
  {
   "cell_type": "code",
   "execution_count": 49,
   "metadata": {},
   "outputs": [
    {
     "name": "stdout",
     "output_type": "stream",
     "text": [
      "              precision    recall  f1-score   support\n",
      "\n",
      "           0       0.00      0.00      0.00        50\n",
      "           1       0.00      0.00      0.00        34\n",
      "           2       0.44      0.27      0.33        41\n",
      "           3       0.23      0.85      0.36        46\n",
      "           4       0.37      0.14      0.20        51\n",
      "\n",
      "    accuracy                           0.26       222\n",
      "   macro avg       0.21      0.25      0.18       222\n",
      "weighted avg       0.21      0.26      0.18       222\n",
      "\n"
     ]
    },
    {
     "data": {
      "text/plain": [
       "<AxesSubplot: >"
      ]
     },
     "execution_count": 49,
     "metadata": {},
     "output_type": "execute_result"
    },
    {
     "data": {
      "image/png": "[encoded data removed]",
      "text/plain": [
       "<Figure size 640x480 with 2 Axes>"
      ]
     },
     "metadata": {},
     "output_type": "display_data"
    }
   ],
   "source": [
    "from sklearn.metrics import classification_report, confusion_matrix\n",
    "import seaborn as sns\n",
    "\n",
    "# predict the labels for the validation set\n",
    "y_pred = []\n",
    "y_true = []\n",
    "with torch.no_grad():\n",
    "    for x, y in valid_loader:\n",
    "        y_scores = rnn_model(x)\n",
    "        y_pred.extend(torch.max(y_scores, 1)[1].tolist())\n",
    "        y_true.extend(y.tolist())\n",
    "\n",
    "# print the classification report\n",
    "print(classification_report(y_true, y_pred))\n",
    "\n",
    "# print the confusion matrix\n",
    "cm = confusion_matrix(y_true, y_pred)\n",
    "# heatmap \n",
    "sns.heatmap(cm, annot=True, fmt=\"d\", cmap=\"Blues\", xticklabels=df.labels.unique(), yticklabels=df.labels.unique())"
   ]
  },
  {
   "cell_type": "markdown",
   "metadata": {},
   "source": [
    "### 3 Classifying with a Convolutional Neural Network (OPTIONAL)\n",
    "\n",
    "Here below is a CNN model definition. Run it on the data and compare the speed and results with that of the RNN."
   ]
  },
  {
   "cell_type": "code",
   "execution_count": 39,
   "metadata": {},
   "outputs": [
    {
     "data": {
      "text/plain": [
       "CNN(\n",
       "  (embed): Embedding(34731, 64)\n",
       "  (conv): Conv1d(64, 128, kernel_size=(2,), stride=(1,))\n",
       "  (dropout): Dropout(p=0.1, inplace=False)\n",
       "  (decision): Linear(in_features=128, out_features=5, bias=True)\n",
       ")"
      ]
     },
     "execution_count": 39,
     "metadata": {},
     "output_type": "execute_result"
    }
   ],
   "source": [
    "import torch.nn.functional as F\n",
    "class CNN(nn.Module):\n",
    "    def __init__(self, vocab_size, embed_size, hidden_size, num_classes):\n",
    "        super().__init__()\n",
    "        self.embed = nn.Embedding(vocab_size, embed_size)\n",
    "        self.conv = nn.Conv1d(embed_size, hidden_size, kernel_size=2)\n",
    "        self.dropout = nn.Dropout(.1)\n",
    "        self.decision = nn.Linear(hidden_size, num_classes)\n",
    "\n",
    "    def forward(self, x):\n",
    "        embed = self.embed(x)\n",
    "        conv = F.relu(self.conv(embed.transpose(1,2)))\n",
    "        pool = F.max_pool1d(conv, conv.size(2))\n",
    "        drop = self.dropout(pool)\n",
    "        return self.decision(drop.view(x.size(0), -1))\n",
    "\n",
    "cnn_model = CNN(vocab_size = len(tokens2int), embed_size = 64, \n",
    "                hidden_size = 128, num_classes=len(df.labels.unique()))\n",
    "cnn_model.to(device)"
   ]
  },
  {
   "cell_type": "code",
   "execution_count": 40,
   "metadata": {},
   "outputs": [
    {
     "name": "stdout",
     "output_type": "stream",
     "text": [
      "Epoch:  0 , Total loss:  58.046674370765686\n",
      " - Train:  {'loss': 48.58983087539673, 'acc': 0.5908273381294964}\n",
      " - Validation:  {'loss': 10.409150004386902, 'acc': 0.4594594594594595}\n",
      "Epoch:  1 , Total loss:  48.00031530857086\n",
      " - Train:  {'loss': 40.97415387630463, 'acc': 0.7715827338129496}\n",
      " - Validation:  {'loss': 9.17320966720581, 'acc': 0.6081081081081081}\n",
      "Epoch:  2 , Total loss:  38.90892696380615\n",
      " - Train:  {'loss': 31.30072796344757, 'acc': 0.927158273381295}\n",
      " - Validation:  {'loss': 7.345650613307953, 'acc': 0.7882882882882883}\n",
      "Epoch:  3 , Total loss:  30.269049644470215\n",
      " - Train:  {'loss': 22.996570825576782, 'acc': 0.9280575539568345}\n",
      " - Validation:  {'loss': 5.615504443645477, 'acc': 0.8918918918918919}\n",
      "Epoch:  4 , Total loss:  23.43051165342331\n",
      " - Train:  {'loss': 16.911056101322174, 'acc': 0.9550359712230215}\n",
      " - Validation:  {'loss': 4.448813319206238, 'acc': 0.9009009009009009}\n"
     ]
    }
   ],
   "source": [
    "fit(cnn_model, epochs = 5)"
   ]
  },
  {
   "cell_type": "code",
   "execution_count": 48,
   "metadata": {},
   "outputs": [
    {
     "name": "stdout",
     "output_type": "stream",
     "text": [
      "              precision    recall  f1-score   support\n",
      "\n",
      "           0       0.91      0.96      0.93        50\n",
      "           1       0.88      0.88      0.88        34\n",
      "           2       0.97      0.88      0.92        41\n",
      "           3       0.91      0.91      0.91        46\n",
      "           4       0.85      0.86      0.85        51\n",
      "\n",
      "    accuracy                           0.90       222\n",
      "   macro avg       0.90      0.90      0.90       222\n",
      "weighted avg       0.90      0.90      0.90       222\n",
      "\n"
     ]
    },
    {
     "data": {
      "text/plain": [
       "<AxesSubplot: >"
      ]
     },
     "execution_count": 48,
     "metadata": {},
     "output_type": "execute_result"
    },
    {
     "data": {
      "image/png": "[encoded data removed]",
      "text/plain": [
       "<Figure size 640x480 with 2 Axes>"
      ]
     },
     "metadata": {},
     "output_type": "display_data"
    }
   ],
   "source": [
    "# predict the labels for the validation set\n",
    "y_pred = []\n",
    "y_true = []\n",
    "with torch.no_grad():\n",
    "    for x, y in valid_loader:\n",
    "        y_scores = cnn_model(x)\n",
    "        y_pred.extend(torch.max(y_scores, 1)[1].tolist())\n",
    "        y_true.extend(y.tolist())\n",
    "\n",
    "# print the classification report\n",
    "print(classification_report(y_true, y_pred))\n",
    "\n",
    "# print the confusion matrix\n",
    "cm = confusion_matrix(y_true, y_pred)\n",
    "# heatmap\n",
    "sns.heatmap(cm, annot=True, fmt=\"d\", cmap=\"Blues\", xticklabels=df.labels.unique(), yticklabels=df.labels.unique())"
   ]
  },
  {
   "cell_type": "code",
   "execution_count": 50,
   "metadata": {},
   "outputs": [
    {
     "name": "stdout",
     "output_type": "stream",
     "text": [
      "Epoch:  0 , Total loss:  18.336636513471603\n",
      " - Train:  {'loss': 12.354290798306465, 'acc': 0.966726618705036}\n",
      " - Validation:  {'loss': 3.5960834324359894, 'acc': 0.8918918918918919}\n",
      "Epoch:  1 , Total loss:  13.944776967167854\n",
      " - Train:  {'loss': 9.019483625888824, 'acc': 0.9739208633093526}\n",
      " - Validation:  {'loss': 2.926918387413025, 'acc': 0.9009009009009009}\n",
      "Epoch:  2 , Total loss:  10.854325398802757\n",
      " - Train:  {'loss': 6.693128027021885, 'acc': 0.9856115107913669}\n",
      " - Validation:  {'loss': 2.446735456585884, 'acc': 0.9279279279279279}\n",
      "Epoch:  3 , Total loss:  8.225667335093021\n",
      " - Train:  {'loss': 5.05841039121151, 'acc': 0.9865107913669064}\n",
      " - Validation:  {'loss': 2.2968185245990753, 'acc': 0.9459459459459459}\n",
      "Epoch:  4 , Total loss:  6.7713585793972015\n",
      " - Train:  {'loss': 3.675910323858261, 'acc': 0.9946043165467626}\n",
      " - Validation:  {'loss': 1.8444752246141434, 'acc': 0.9504504504504504}\n",
      "              precision    recall  f1-score   support\n",
      "\n",
      "           0       0.94      0.98      0.96        50\n",
      "           1       0.91      0.94      0.93        34\n",
      "           2       1.00      0.93      0.96        41\n",
      "           3       1.00      0.98      0.99        46\n",
      "           4       0.90      0.92      0.91        51\n",
      "\n",
      "    accuracy                           0.95       222\n",
      "   macro avg       0.95      0.95      0.95       222\n",
      "weighted avg       0.95      0.95      0.95       222\n",
      "\n"
     ]
    },
    {
     "data": {
      "text/plain": [
       "<AxesSubplot: >"
      ]
     },
     "execution_count": 50,
     "metadata": {},
     "output_type": "execute_result"
    },
    {
     "data": {
      "image/png": "[encoded data removed]",
      "text/plain": [
       "<Figure size 640x480 with 2 Axes>"
      ]
     },
     "metadata": {},
     "output_type": "display_data"
    }
   ],
   "source": [
    "# train again \n",
    "fit(cnn_model, epochs = 5)\n",
    "\n",
    "# predict the labels for the validation set\n",
    "y_pred = []\n",
    "y_true = []\n",
    "with torch.no_grad():\n",
    "    for x, y in valid_loader:\n",
    "        y_scores = cnn_model(x)\n",
    "        y_pred.extend(torch.max(y_scores, 1)[1].tolist())\n",
    "        y_true.extend(y.tolist())\n",
    "\n",
    "# print the classification report\n",
    "print(classification_report(y_true, y_pred))\n",
    "\n",
    "# print the confusion matrix\n",
    "cm = confusion_matrix(y_true, y_pred)\n",
    "# heatmap\n",
    "sns.heatmap(cm, annot=True, fmt=\"d\", cmap=\"Blues\", xticklabels=df.labels.unique(), yticklabels=df.labels.unique())"
   ]
  }
 ],
 "metadata": {
  "colab": {
   "name": "04_text-classification.ipynb",
   "provenance": []
  },
  "kernelspec": {
   "display_name": "Python 3",
   "language": "python",
   "name": "python3"
  },
  "language_info": {
   "codemirror_mode": {
    "name": "ipython",
    "version": 3
   },
   "file_extension": ".py",
   "mimetype": "text/x-python",
   "name": "python",
   "nbconvert_exporter": "python",
   "pygments_lexer": "ipython3",
   "version": "3.10.10"
  },
  "vscode": {
   "interpreter": {
    "hash": "3de7a084b318d7b8bf96005cb5db4da14a27f60df0465391ef48a4c336f03bfe"
   }
  }
 },
 "nbformat": 4,
 "nbformat_minor": 4
}
