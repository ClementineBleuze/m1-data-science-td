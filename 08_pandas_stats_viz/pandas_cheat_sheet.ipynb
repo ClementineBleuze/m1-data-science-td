{
 "cells": [
  {
   "cell_type": "markdown",
   "metadata": {},
   "source": [
    "# Pandas "
   ]
  },
  {
   "cell_type": "markdown",
   "metadata": {},
   "source": [
    "### Creating a dataframe"
   ]
  },
  {
   "cell_type": "markdown",
   "metadata": {},
   "source": [
    "**From a dictionary**"
   ]
  },
  {
   "cell_type": "code",
   "execution_count": 1,
   "metadata": {},
   "outputs": [
    {
     "data": {
      "text/html": [
       "<div>\n",
       "<style scoped>\n",
       "    .dataframe tbody tr th:only-of-type {\n",
       "        vertical-align: middle;\n",
       "    }\n",
       "\n",
       "    .dataframe tbody tr th {\n",
       "        vertical-align: top;\n",
       "    }\n",
       "\n",
       "    .dataframe thead th {\n",
       "        text-align: right;\n",
       "    }\n",
       "</style>\n",
       "<table border=\"1\" class=\"dataframe\">\n",
       "  <thead>\n",
       "    <tr style=\"text-align: right;\">\n",
       "      <th></th>\n",
       "      <th>Marks</th>\n",
       "      <th>Name</th>\n",
       "    </tr>\n",
       "  </thead>\n",
       "  <tbody>\n",
       "    <tr>\n",
       "      <th>0</th>\n",
       "      <td>99</td>\n",
       "      <td>Tom</td>\n",
       "    </tr>\n",
       "    <tr>\n",
       "      <th>1</th>\n",
       "      <td>98</td>\n",
       "      <td>Jack</td>\n",
       "    </tr>\n",
       "    <tr>\n",
       "      <th>2</th>\n",
       "      <td>95</td>\n",
       "      <td>nick</td>\n",
       "    </tr>\n",
       "    <tr>\n",
       "      <th>3</th>\n",
       "      <td>94</td>\n",
       "      <td>juli</td>\n",
       "    </tr>\n",
       "    <tr>\n",
       "      <th>4</th>\n",
       "      <td>90</td>\n",
       "      <td>peter</td>\n",
       "    </tr>\n",
       "    <tr>\n",
       "      <th>5</th>\n",
       "      <td>88</td>\n",
       "      <td>paul</td>\n",
       "    </tr>\n",
       "  </tbody>\n",
       "</table>\n",
       "</div>"
      ],
      "text/plain": [
       "   Marks   Name\n",
       "0     99    Tom\n",
       "1     98   Jack\n",
       "2     95   nick\n",
       "3     94   juli\n",
       "4     90  peter\n",
       "5     88   paul"
      ]
     },
     "execution_count": 1,
     "metadata": {},
     "output_type": "execute_result"
    }
   ],
   "source": [
    "import pandas as pd\n",
    "# Create a dictionary containing the data\n",
    "data = {'Marks':[99, 98, 95, 94,90,88],\n",
    "        'Name':['Tom', 'Jack', 'nick', 'juli','peter','paul']}\n",
    "\n",
    "# Create a pd DataFrame. \n",
    "df = pd.DataFrame(data) \n",
    "  \n",
    "# print the dataframe\n",
    "df"
   ]
  },
  {
   "cell_type": "markdown",
   "metadata": {},
   "source": [
    "**From a list of dictionaries**"
   ]
  },
  {
   "cell_type": "code",
   "execution_count": 2,
   "metadata": {},
   "outputs": [
    {
     "data": {
      "text/html": [
       "<div>\n",
       "<style scoped>\n",
       "    .dataframe tbody tr th:only-of-type {\n",
       "        vertical-align: middle;\n",
       "    }\n",
       "\n",
       "    .dataframe tbody tr th {\n",
       "        vertical-align: top;\n",
       "    }\n",
       "\n",
       "    .dataframe thead th {\n",
       "        text-align: right;\n",
       "    }\n",
       "</style>\n",
       "<table border=\"1\" class=\"dataframe\">\n",
       "  <thead>\n",
       "    <tr style=\"text-align: right;\">\n",
       "      <th></th>\n",
       "      <th>mark</th>\n",
       "      <th>name</th>\n",
       "    </tr>\n",
       "  </thead>\n",
       "  <tbody>\n",
       "    <tr>\n",
       "      <th>0</th>\n",
       "      <td>99</td>\n",
       "      <td>john</td>\n",
       "    </tr>\n",
       "    <tr>\n",
       "      <th>1</th>\n",
       "      <td>90</td>\n",
       "      <td>peter</td>\n",
       "    </tr>\n",
       "    <tr>\n",
       "      <th>2</th>\n",
       "      <td>90</td>\n",
       "      <td>peter</td>\n",
       "    </tr>\n",
       "  </tbody>\n",
       "</table>\n",
       "</div>"
      ],
      "text/plain": [
       "   mark   name\n",
       "0    99   john\n",
       "1    90  peter\n",
       "2    90  peter"
      ]
     },
     "execution_count": 2,
     "metadata": {},
     "output_type": "execute_result"
    }
   ],
   "source": [
    "data = [{\"mark\":99,\"name\":\"john\"},{\"mark\":90,\"name\":\"peter\"},{\"mark\":90,\"name\":\"peter\"}]\n",
    "df = pd.DataFrame(data)\n",
    "df"
   ]
  },
  {
   "cell_type": "markdown",
   "metadata": {},
   "source": [
    "**From a list of lists**"
   ]
  },
  {
   "cell_type": "code",
   "execution_count": 3,
   "metadata": {},
   "outputs": [
    {
     "data": {
      "text/html": [
       "<div>\n",
       "<style scoped>\n",
       "    .dataframe tbody tr th:only-of-type {\n",
       "        vertical-align: middle;\n",
       "    }\n",
       "\n",
       "    .dataframe tbody tr th {\n",
       "        vertical-align: top;\n",
       "    }\n",
       "\n",
       "    .dataframe thead th {\n",
       "        text-align: right;\n",
       "    }\n",
       "</style>\n",
       "<table border=\"1\" class=\"dataframe\">\n",
       "  <thead>\n",
       "    <tr style=\"text-align: right;\">\n",
       "      <th></th>\n",
       "      <th>First Name</th>\n",
       "      <th>Last Name</th>\n",
       "    </tr>\n",
       "  </thead>\n",
       "  <tbody>\n",
       "    <tr>\n",
       "      <th>0</th>\n",
       "      <td>John</td>\n",
       "      <td>Darwin</td>\n",
       "    </tr>\n",
       "    <tr>\n",
       "      <th>1</th>\n",
       "      <td>Peter</td>\n",
       "      <td>Cooper</td>\n",
       "    </tr>\n",
       "  </tbody>\n",
       "</table>\n",
       "</div>"
      ],
      "text/plain": [
       "  First Name Last Name\n",
       "0       John    Darwin\n",
       "1      Peter    Cooper"
      ]
     },
     "execution_count": 3,
     "metadata": {},
     "output_type": "execute_result"
    }
   ],
   "source": [
    "data = [['John','Darwin'],['Peter','Cooper']]\n",
    "df = pd.DataFrame(data, columns =['First Name', 'Last Name'])\n",
    "df"
   ]
  },
  {
   "cell_type": "markdown",
   "metadata": {},
   "source": [
    "**From arrays**"
   ]
  },
  {
   "cell_type": "code",
   "execution_count": 4,
   "metadata": {},
   "outputs": [
    {
     "name": "stdout",
     "output_type": "stream",
     "text": [
      "[[5.8 2.8]\n",
      " [6.  2.2]]\n",
      "   Column1  Column2\n",
      "0      5.8      2.8\n",
      "1      6.0      2.2\n"
     ]
    }
   ],
   "source": [
    "import numpy as np\n",
    "import pandas as pd\n",
    "\n",
    "# Creating a 2 dimensional numpy array\n",
    "data = np.array([[5.8, 2.8], [6.0, 2.2]])\n",
    "print(data)\n",
    "\n",
    "# Creating pandas dataframe from numpy array\n",
    "adf = pd.DataFrame({'Column1': data[:, 0], 'Column2': data[:, 1]})\n",
    "print(adf)"
   ]
  },
  {
   "cell_type": "markdown",
   "metadata": {},
   "source": [
    "**From a Pandas Series**"
   ]
  },
  {
   "cell_type": "code",
   "execution_count": 5,
   "metadata": {},
   "outputs": [
    {
     "data": {
      "text/html": [
       "<div>\n",
       "<style scoped>\n",
       "    .dataframe tbody tr th:only-of-type {\n",
       "        vertical-align: middle;\n",
       "    }\n",
       "\n",
       "    .dataframe tbody tr th {\n",
       "        vertical-align: top;\n",
       "    }\n",
       "\n",
       "    .dataframe thead th {\n",
       "        text-align: right;\n",
       "    }\n",
       "</style>\n",
       "<table border=\"1\" class=\"dataframe\">\n",
       "  <thead>\n",
       "    <tr style=\"text-align: right;\">\n",
       "      <th></th>\n",
       "      <th>vals</th>\n",
       "    </tr>\n",
       "  </thead>\n",
       "  <tbody>\n",
       "    <tr>\n",
       "      <th>0</th>\n",
       "      <td>a</td>\n",
       "    </tr>\n",
       "    <tr>\n",
       "      <th>1</th>\n",
       "      <td>b</td>\n",
       "    </tr>\n",
       "    <tr>\n",
       "      <th>2</th>\n",
       "      <td>c</td>\n",
       "    </tr>\n",
       "  </tbody>\n",
       "</table>\n",
       "</div>"
      ],
      "text/plain": [
       "  vals\n",
       "0    a\n",
       "1    b\n",
       "2    c"
      ]
     },
     "execution_count": 5,
     "metadata": {},
     "output_type": "execute_result"
    }
   ],
   "source": [
    "s = pd.Series([\"a\", \"b\", \"c\"],\n",
    "              name=\"vals\")\n",
    "s.to_frame()"
   ]
  },
  {
   "cell_type": "markdown",
   "metadata": {},
   "source": [
    "**Specify cells, index and headers**"
   ]
  },
  {
   "cell_type": "code",
   "execution_count": 6,
   "metadata": {},
   "outputs": [
    {
     "data": {
      "text/html": [
       "<div>\n",
       "<style scoped>\n",
       "    .dataframe tbody tr th:only-of-type {\n",
       "        vertical-align: middle;\n",
       "    }\n",
       "\n",
       "    .dataframe tbody tr th {\n",
       "        vertical-align: top;\n",
       "    }\n",
       "\n",
       "    .dataframe thead th {\n",
       "        text-align: right;\n",
       "    }\n",
       "</style>\n",
       "<table border=\"1\" class=\"dataframe\">\n",
       "  <thead>\n",
       "    <tr style=\"text-align: right;\">\n",
       "      <th></th>\n",
       "      <th>A</th>\n",
       "      <th>B</th>\n",
       "      <th>C</th>\n",
       "    </tr>\n",
       "  </thead>\n",
       "  <tbody>\n",
       "    <tr>\n",
       "      <th>4</th>\n",
       "      <td>0</td>\n",
       "      <td>2</td>\n",
       "      <td>3</td>\n",
       "    </tr>\n",
       "    <tr>\n",
       "      <th>5</th>\n",
       "      <td>0</td>\n",
       "      <td>4</td>\n",
       "      <td>1</td>\n",
       "    </tr>\n",
       "    <tr>\n",
       "      <th>6</th>\n",
       "      <td>10</td>\n",
       "      <td>20</td>\n",
       "      <td>30</td>\n",
       "    </tr>\n",
       "  </tbody>\n",
       "</table>\n",
       "</div>"
      ],
      "text/plain": [
       "    A   B   C\n",
       "4   0   2   3\n",
       "5   0   4   1\n",
       "6  10  20  30"
      ]
     },
     "execution_count": 6,
     "metadata": {},
     "output_type": "execute_result"
    }
   ],
   "source": [
    "# Specify the content of a cell\n",
    "abcdf = pd.DataFrame([[0, 2, 3], [0, 4, 1], [10, 20, 30]], index=[4, 5, 6], columns=['A', 'B', 'C'])\n",
    "abcdf"
   ]
  },
  {
   "cell_type": "markdown",
   "metadata": {},
   "source": [
    "**Get the content of a cell**"
   ]
  },
  {
   "cell_type": "code",
   "execution_count": 7,
   "metadata": {},
   "outputs": [
    {
     "data": {
      "text/plain": [
       "2"
      ]
     },
     "execution_count": 7,
     "metadata": {},
     "output_type": "execute_result"
    }
   ],
   "source": [
    "abcdf.at[4, 'B']"
   ]
  },
  {
   "cell_type": "markdown",
   "metadata": {},
   "source": [
    "**Changing the content of a cell**"
   ]
  },
  {
   "cell_type": "code",
   "execution_count": 8,
   "metadata": {},
   "outputs": [
    {
     "data": {
      "text/html": [
       "<div>\n",
       "<style scoped>\n",
       "    .dataframe tbody tr th:only-of-type {\n",
       "        vertical-align: middle;\n",
       "    }\n",
       "\n",
       "    .dataframe tbody tr th {\n",
       "        vertical-align: top;\n",
       "    }\n",
       "\n",
       "    .dataframe thead th {\n",
       "        text-align: right;\n",
       "    }\n",
       "</style>\n",
       "<table border=\"1\" class=\"dataframe\">\n",
       "  <thead>\n",
       "    <tr style=\"text-align: right;\">\n",
       "      <th></th>\n",
       "      <th>A</th>\n",
       "      <th>B</th>\n",
       "      <th>C</th>\n",
       "    </tr>\n",
       "  </thead>\n",
       "  <tbody>\n",
       "    <tr>\n",
       "      <th>4</th>\n",
       "      <td>0</td>\n",
       "      <td>3</td>\n",
       "      <td>3</td>\n",
       "    </tr>\n",
       "    <tr>\n",
       "      <th>5</th>\n",
       "      <td>0</td>\n",
       "      <td>4</td>\n",
       "      <td>1</td>\n",
       "    </tr>\n",
       "    <tr>\n",
       "      <th>6</th>\n",
       "      <td>10</td>\n",
       "      <td>20</td>\n",
       "      <td>30</td>\n",
       "    </tr>\n",
       "  </tbody>\n",
       "</table>\n",
       "</div>"
      ],
      "text/plain": [
       "    A   B   C\n",
       "4   0   3   3\n",
       "5   0   4   1\n",
       "6  10  20  30"
      ]
     },
     "execution_count": 8,
     "metadata": {},
     "output_type": "execute_result"
    }
   ],
   "source": [
    "abcdf.at[4, 'B'] = 3\n",
    "abcdf"
   ]
  },
  {
   "cell_type": "markdown",
   "metadata": {},
   "source": [
    "**From a csv file**"
   ]
  },
  {
   "cell_type": "code",
   "execution_count": 9,
   "metadata": {},
   "outputs": [
    {
     "data": {
      "text/html": [
       "<div>\n",
       "<style scoped>\n",
       "    .dataframe tbody tr th:only-of-type {\n",
       "        vertical-align: middle;\n",
       "    }\n",
       "\n",
       "    .dataframe tbody tr th {\n",
       "        vertical-align: top;\n",
       "    }\n",
       "\n",
       "    .dataframe thead th {\n",
       "        text-align: right;\n",
       "    }\n",
       "</style>\n",
       "<table border=\"1\" class=\"dataframe\">\n",
       "  <thead>\n",
       "    <tr style=\"text-align: right;\">\n",
       "      <th></th>\n",
       "      <th>Food</th>\n",
       "      <th>Measure</th>\n",
       "      <th>Grams</th>\n",
       "      <th>Calories</th>\n",
       "      <th>Protein</th>\n",
       "      <th>Fat</th>\n",
       "      <th>Sat.Fat</th>\n",
       "      <th>Fiber</th>\n",
       "      <th>Carbs</th>\n",
       "      <th>Category</th>\n",
       "    </tr>\n",
       "  </thead>\n",
       "  <tbody>\n",
       "    <tr>\n",
       "      <th>0</th>\n",
       "      <td>Cows' milk</td>\n",
       "      <td>1 qt.</td>\n",
       "      <td>976</td>\n",
       "      <td>660</td>\n",
       "      <td>32</td>\n",
       "      <td>40</td>\n",
       "      <td>36</td>\n",
       "      <td>0</td>\n",
       "      <td>48</td>\n",
       "      <td>Dairy products</td>\n",
       "    </tr>\n",
       "    <tr>\n",
       "      <th>1</th>\n",
       "      <td>Milk skim</td>\n",
       "      <td>1 qt.</td>\n",
       "      <td>984</td>\n",
       "      <td>360</td>\n",
       "      <td>36</td>\n",
       "      <td>t</td>\n",
       "      <td>t</td>\n",
       "      <td>0</td>\n",
       "      <td>52</td>\n",
       "      <td>Dairy products</td>\n",
       "    </tr>\n",
       "    <tr>\n",
       "      <th>2</th>\n",
       "      <td>Buttermilk</td>\n",
       "      <td>1 cup</td>\n",
       "      <td>246</td>\n",
       "      <td>127</td>\n",
       "      <td>9</td>\n",
       "      <td>5</td>\n",
       "      <td>4</td>\n",
       "      <td>0</td>\n",
       "      <td>13</td>\n",
       "      <td>Dairy products</td>\n",
       "    </tr>\n",
       "    <tr>\n",
       "      <th>3</th>\n",
       "      <td>Evaporated, undiluted</td>\n",
       "      <td>1 cup</td>\n",
       "      <td>252</td>\n",
       "      <td>345</td>\n",
       "      <td>16</td>\n",
       "      <td>20</td>\n",
       "      <td>18</td>\n",
       "      <td>0</td>\n",
       "      <td>24</td>\n",
       "      <td>Dairy products</td>\n",
       "    </tr>\n",
       "    <tr>\n",
       "      <th>4</th>\n",
       "      <td>Fortified milk</td>\n",
       "      <td>6 cups</td>\n",
       "      <td>1,419</td>\n",
       "      <td>1,373</td>\n",
       "      <td>89</td>\n",
       "      <td>42</td>\n",
       "      <td>23</td>\n",
       "      <td>1.4</td>\n",
       "      <td>119</td>\n",
       "      <td>Dairy products</td>\n",
       "    </tr>\n",
       "  </tbody>\n",
       "</table>\n",
       "</div>"
      ],
      "text/plain": [
       "                    Food Measure  Grams Calories Protein Fat Sat.Fat Fiber  \\\n",
       "0             Cows' milk   1 qt.    976      660      32  40      36     0   \n",
       "1              Milk skim   1 qt.    984      360      36   t       t     0   \n",
       "2             Buttermilk   1 cup    246      127       9   5       4     0   \n",
       "3  Evaporated, undiluted   1 cup    252      345      16  20      18     0   \n",
       "4         Fortified milk  6 cups  1,419    1,373      89  42      23   1.4   \n",
       "\n",
       "  Carbs        Category  \n",
       "0    48  Dairy products  \n",
       "1    52  Dairy products  \n",
       "2    13  Dairy products  \n",
       "3    24  Dairy products  \n",
       "4   119  Dairy products  "
      ]
     },
     "execution_count": 9,
     "metadata": {},
     "output_type": "execute_result"
    }
   ],
   "source": [
    "import pandas as pd\n",
    "# Create a dataframe from a csv file\n",
    "food_df = pd.read_csv(\"data/food.csv\", sep = \",\")\n",
    "\n",
    "\n",
    "# Print out the top **From a csv file**5 rows\n",
    "food_df.head()"
   ]
  },
  {
   "cell_type": "markdown",
   "metadata": {},
   "source": [
    "**From a json file**"
   ]
  },
  {
   "cell_type": "code",
   "execution_count": 10,
   "metadata": {},
   "outputs": [
    {
     "data": {
      "text/html": [
       "<div>\n",
       "<style scoped>\n",
       "    .dataframe tbody tr th:only-of-type {\n",
       "        vertical-align: middle;\n",
       "    }\n",
       "\n",
       "    .dataframe tbody tr th {\n",
       "        vertical-align: top;\n",
       "    }\n",
       "\n",
       "    .dataframe thead th {\n",
       "        text-align: right;\n",
       "    }\n",
       "</style>\n",
       "<table border=\"1\" class=\"dataframe\">\n",
       "  <thead>\n",
       "    <tr style=\"text-align: right;\">\n",
       "      <th></th>\n",
       "      <th>question</th>\n",
       "      <th>author_name</th>\n",
       "      <th>date</th>\n",
       "      <th>flair</th>\n",
       "      <th>answers</th>\n",
       "    </tr>\n",
       "  </thead>\n",
       "  <tbody>\n",
       "    <tr>\n",
       "      <th>0</th>\n",
       "      <td>ELI5: They said \"the water doesn't have an exp...</td>\n",
       "      <td>natefigs1</td>\n",
       "      <td>2020-02-23</td>\n",
       "      <td>Chemistry</td>\n",
       "      <td>[{'date': '19/02/20', 'score': 14100, 'text': ...</td>\n",
       "    </tr>\n",
       "    <tr>\n",
       "      <th>1</th>\n",
       "      <td>ELI5: Can a soap be dirty? In a sense that the...</td>\n",
       "      <td>RetardedmammalGG</td>\n",
       "      <td>2020-02-23</td>\n",
       "      <td>Chemistry</td>\n",
       "      <td>[{'date': '16/02/20', 'score': 9600, 'text': '...</td>\n",
       "    </tr>\n",
       "    <tr>\n",
       "      <th>2</th>\n",
       "      <td>ELI5 Why is it that Oreos get soggy in regular...</td>\n",
       "      <td>barefootess</td>\n",
       "      <td>2020-02-23</td>\n",
       "      <td>Chemistry</td>\n",
       "      <td>[{'date': '04/02/20', 'score': 6900, 'text': '...</td>\n",
       "    </tr>\n",
       "    <tr>\n",
       "      <th>3</th>\n",
       "      <td>ELI5: How is that Alcohol 70% is better than A...</td>\n",
       "      <td>pixie_laluna</td>\n",
       "      <td>2020-02-23</td>\n",
       "      <td>Chemistry</td>\n",
       "      <td>[{'date': '24/01/20', 'score': 18100, 'text': ...</td>\n",
       "    </tr>\n",
       "    <tr>\n",
       "      <th>4</th>\n",
       "      <td>ELI5: How do whipped cream containers work?</td>\n",
       "      <td>BananaBob55</td>\n",
       "      <td>2020-02-23</td>\n",
       "      <td>Chemistry</td>\n",
       "      <td>[{'date': '24/01/20', 'score': 4000, 'text': '...</td>\n",
       "    </tr>\n",
       "  </tbody>\n",
       "</table>\n",
       "</div>"
      ],
      "text/plain": [
       "                                            question       author_name  \\\n",
       "0  ELI5: They said \"the water doesn't have an exp...         natefigs1   \n",
       "1  ELI5: Can a soap be dirty? In a sense that the...  RetardedmammalGG   \n",
       "2  ELI5 Why is it that Oreos get soggy in regular...       barefootess   \n",
       "3  ELI5: How is that Alcohol 70% is better than A...      pixie_laluna   \n",
       "4        ELI5: How do whipped cream containers work?       BananaBob55   \n",
       "\n",
       "        date      flair                                            answers  \n",
       "0 2020-02-23  Chemistry  [{'date': '19/02/20', 'score': 14100, 'text': ...  \n",
       "1 2020-02-23  Chemistry  [{'date': '16/02/20', 'score': 9600, 'text': '...  \n",
       "2 2020-02-23  Chemistry  [{'date': '04/02/20', 'score': 6900, 'text': '...  \n",
       "3 2020-02-23  Chemistry  [{'date': '24/01/20', 'score': 18100, 'text': ...  \n",
       "4 2020-02-23  Chemistry  [{'date': '24/01/20', 'score': 4000, 'text': '...  "
      ]
     },
     "execution_count": 10,
     "metadata": {},
     "output_type": "execute_result"
    }
   ],
   "source": [
    "import pandas as pd\n",
    "eli5df = pd.read_json('data/eli5.json')\n",
    "eli5df.head()"
   ]
  },
  {
   "cell_type": "markdown",
   "metadata": {},
   "source": [
    "## Inspecting a dataframe"
   ]
  },
  {
   "cell_type": "markdown",
   "metadata": {},
   "source": [
    "**Number of rows and columns**"
   ]
  },
  {
   "cell_type": "code",
   "execution_count": 11,
   "metadata": {},
   "outputs": [
    {
     "name": "stdout",
     "output_type": "stream",
     "text": [
      "There are 335 rows and 10 columns\n"
     ]
    }
   ],
   "source": [
    "# How many rows and columns ?\n",
    "rows, cols = food_df.shape\n",
    "print(\"There are %d rows and %d columns\"%(rows,cols))"
   ]
  },
  {
   "cell_type": "code",
   "execution_count": 12,
   "metadata": {},
   "outputs": [
    {
     "data": {
      "text/plain": [
       "RangeIndex(start=0, stop=2, step=1)"
      ]
     },
     "execution_count": 12,
     "metadata": {},
     "output_type": "execute_result"
    }
   ],
   "source": [
    "#View the number of rows\n",
    "df.index"
   ]
  },
  {
   "cell_type": "markdown",
   "metadata": {},
   "source": [
    "**Headers**"
   ]
  },
  {
   "cell_type": "code",
   "execution_count": 13,
   "metadata": {},
   "outputs": [
    {
     "data": {
      "text/plain": [
       "Index(['question', 'author_name', 'date', 'flair', 'answers'], dtype='object')"
      ]
     },
     "execution_count": 13,
     "metadata": {},
     "output_type": "execute_result"
    }
   ],
   "source": [
    "# View the headers\n",
    "eli5df.columns"
   ]
  },
  {
   "cell_type": "markdown",
   "metadata": {},
   "source": [
    "**Dispersion statistics**"
   ]
  },
  {
   "cell_type": "code",
   "execution_count": 14,
   "metadata": {},
   "outputs": [
    {
     "data": {
      "text/html": [
       "<div>\n",
       "<style scoped>\n",
       "    .dataframe tbody tr th:only-of-type {\n",
       "        vertical-align: middle;\n",
       "    }\n",
       "\n",
       "    .dataframe tbody tr th {\n",
       "        vertical-align: top;\n",
       "    }\n",
       "\n",
       "    .dataframe thead th {\n",
       "        text-align: right;\n",
       "    }\n",
       "</style>\n",
       "<table border=\"1\" class=\"dataframe\">\n",
       "  <thead>\n",
       "    <tr style=\"text-align: right;\">\n",
       "      <th></th>\n",
       "      <th>Food</th>\n",
       "      <th>Measure</th>\n",
       "      <th>Grams</th>\n",
       "      <th>Calories</th>\n",
       "      <th>Protein</th>\n",
       "      <th>Fat</th>\n",
       "      <th>Sat.Fat</th>\n",
       "      <th>Fiber</th>\n",
       "      <th>Carbs</th>\n",
       "      <th>Category</th>\n",
       "    </tr>\n",
       "  </thead>\n",
       "  <tbody>\n",
       "    <tr>\n",
       "      <th>count</th>\n",
       "      <td>335</td>\n",
       "      <td>335</td>\n",
       "      <td>335</td>\n",
       "      <td>334</td>\n",
       "      <td>335</td>\n",
       "      <td>335</td>\n",
       "      <td>333</td>\n",
       "      <td>335</td>\n",
       "      <td>335</td>\n",
       "      <td>335</td>\n",
       "    </tr>\n",
       "    <tr>\n",
       "      <th>unique</th>\n",
       "      <td>329</td>\n",
       "      <td>61</td>\n",
       "      <td>103</td>\n",
       "      <td>152</td>\n",
       "      <td>40</td>\n",
       "      <td>45</td>\n",
       "      <td>38</td>\n",
       "      <td>57</td>\n",
       "      <td>80</td>\n",
       "      <td>16</td>\n",
       "    </tr>\n",
       "    <tr>\n",
       "      <th>top</th>\n",
       "      <td>Butter</td>\n",
       "      <td>1 cup</td>\n",
       "      <td>100</td>\n",
       "      <td>100</td>\n",
       "      <td>1</td>\n",
       "      <td>t</td>\n",
       "      <td>0</td>\n",
       "      <td>0</td>\n",
       "      <td>0</td>\n",
       "      <td>Breads, cereals, fastfood,grains</td>\n",
       "    </tr>\n",
       "    <tr>\n",
       "      <th>freq</th>\n",
       "      <td>3</td>\n",
       "      <td>120</td>\n",
       "      <td>38</td>\n",
       "      <td>14</td>\n",
       "      <td>53</td>\n",
       "      <td>115</td>\n",
       "      <td>174</td>\n",
       "      <td>116</td>\n",
       "      <td>45</td>\n",
       "      <td>45</td>\n",
       "    </tr>\n",
       "  </tbody>\n",
       "</table>\n",
       "</div>"
      ],
      "text/plain": [
       "          Food Measure Grams Calories Protein  Fat Sat.Fat Fiber Carbs  \\\n",
       "count      335     335   335      334     335  335     333   335   335   \n",
       "unique     329      61   103      152      40   45      38    57    80   \n",
       "top     Butter   1 cup   100      100       1    t       0     0     0   \n",
       "freq         3     120    38       14      53  115     174   116    45   \n",
       "\n",
       "                                Category  \n",
       "count                                335  \n",
       "unique                                16  \n",
       "top     Breads, cereals, fastfood,grains  \n",
       "freq                                  45  "
      ]
     },
     "execution_count": 14,
     "metadata": {},
     "output_type": "execute_result"
    }
   ],
   "source": [
    "# Get Dispersion Statistics\n",
    "food_df.describe()"
   ]
  },
  {
   "cell_type": "markdown",
   "metadata": {},
   "source": [
    "**Checking for NULLs**"
   ]
  },
  {
   "cell_type": "code",
   "execution_count": 15,
   "metadata": {},
   "outputs": [
    {
     "data": {
      "text/plain": [
       "Food        0\n",
       "Measure     0\n",
       "Grams       0\n",
       "Calories    1\n",
       "Protein     0\n",
       "Fat         0\n",
       "Sat.Fat     2\n",
       "Fiber       0\n",
       "Carbs       0\n",
       "Category    0\n",
       "dtype: int64"
      ]
     },
     "execution_count": 15,
     "metadata": {},
     "output_type": "execute_result"
    }
   ],
   "source": [
    "# Get the number of nulls for each columns\n",
    "food_df.isnull().sum(axis = 0)"
   ]
  },
  {
   "cell_type": "markdown",
   "metadata": {},
   "source": [
    "## Creating subframes"
   ]
  },
  {
   "cell_type": "markdown",
   "metadata": {},
   "source": [
    "**Extracting a column**"
   ]
  },
  {
   "cell_type": "code",
   "execution_count": 16,
   "metadata": {},
   "outputs": [
    {
     "data": {
      "text/plain": [
       "0    ELI5: They said \"the water doesn't have an exp...\n",
       "1    ELI5: Can a soap be dirty? In a sense that the...\n",
       "2    ELI5 Why is it that Oreos get soggy in regular...\n",
       "3    ELI5: How is that Alcohol 70% is better than A...\n",
       "4          ELI5: How do whipped cream containers work?\n",
       "Name: question, dtype: object"
      ]
     },
     "execution_count": 16,
     "metadata": {},
     "output_type": "execute_result"
    }
   ],
   "source": [
    "# Retrieve a column (first 5 rows)\n",
    "eli5df['question'].head()"
   ]
  },
  {
   "cell_type": "markdown",
   "metadata": {},
   "source": [
    "**Converting a column to a list**"
   ]
  },
  {
   "cell_type": "code",
   "execution_count": 17,
   "metadata": {},
   "outputs": [],
   "source": [
    "# eli5df['question'].tolist()"
   ]
  },
  {
   "cell_type": "markdown",
   "metadata": {},
   "source": [
    "**Extracting multiple columns**"
   ]
  },
  {
   "cell_type": "code",
   "execution_count": 18,
   "metadata": {},
   "outputs": [
    {
     "data": {
      "text/html": [
       "<div>\n",
       "<style scoped>\n",
       "    .dataframe tbody tr th:only-of-type {\n",
       "        vertical-align: middle;\n",
       "    }\n",
       "\n",
       "    .dataframe tbody tr th {\n",
       "        vertical-align: top;\n",
       "    }\n",
       "\n",
       "    .dataframe thead th {\n",
       "        text-align: right;\n",
       "    }\n",
       "</style>\n",
       "<table border=\"1\" class=\"dataframe\">\n",
       "  <thead>\n",
       "    <tr style=\"text-align: right;\">\n",
       "      <th></th>\n",
       "      <th>question</th>\n",
       "      <th>author_name</th>\n",
       "    </tr>\n",
       "  </thead>\n",
       "  <tbody>\n",
       "    <tr>\n",
       "      <th>0</th>\n",
       "      <td>ELI5: They said \"the water doesn't have an exp...</td>\n",
       "      <td>natefigs1</td>\n",
       "    </tr>\n",
       "    <tr>\n",
       "      <th>1</th>\n",
       "      <td>ELI5: Can a soap be dirty? In a sense that the...</td>\n",
       "      <td>RetardedmammalGG</td>\n",
       "    </tr>\n",
       "    <tr>\n",
       "      <th>2</th>\n",
       "      <td>ELI5 Why is it that Oreos get soggy in regular...</td>\n",
       "      <td>barefootess</td>\n",
       "    </tr>\n",
       "    <tr>\n",
       "      <th>3</th>\n",
       "      <td>ELI5: How is that Alcohol 70% is better than A...</td>\n",
       "      <td>pixie_laluna</td>\n",
       "    </tr>\n",
       "    <tr>\n",
       "      <th>4</th>\n",
       "      <td>ELI5: How do whipped cream containers work?</td>\n",
       "      <td>BananaBob55</td>\n",
       "    </tr>\n",
       "  </tbody>\n",
       "</table>\n",
       "</div>"
      ],
      "text/plain": [
       "                                            question       author_name\n",
       "0  ELI5: They said \"the water doesn't have an exp...         natefigs1\n",
       "1  ELI5: Can a soap be dirty? In a sense that the...  RetardedmammalGG\n",
       "2  ELI5 Why is it that Oreos get soggy in regular...       barefootess\n",
       "3  ELI5: How is that Alcohol 70% is better than A...      pixie_laluna\n",
       "4        ELI5: How do whipped cream containers work?       BananaBob55"
      ]
     },
     "execution_count": 18,
     "metadata": {},
     "output_type": "execute_result"
    }
   ],
   "source": [
    "# Retrieve multiple columns (\n",
    "eli5df[['question','author_name']].head()"
   ]
  },
  {
   "cell_type": "markdown",
   "metadata": {},
   "source": [
    "**Extracting a row**"
   ]
  },
  {
   "cell_type": "code",
   "execution_count": 19,
   "metadata": {},
   "outputs": [
    {
     "data": {
      "text/plain": [
       "question       ELI5: Can a soap be dirty? In a sense that the...\n",
       "author_name                                     RetardedmammalGG\n",
       "date                                         2020-02-23 00:00:00\n",
       "flair                                                  Chemistry\n",
       "answers        [{'date': '16/02/20', 'score': 9600, 'text': '...\n",
       "Name: 1, dtype: object"
      ]
     },
     "execution_count": 19,
     "metadata": {},
     "output_type": "execute_result"
    }
   ],
   "source": [
    "# Retrieve row\n",
    "eli5df.loc[1]"
   ]
  },
  {
   "cell_type": "markdown",
   "metadata": {},
   "source": [
    "**Extracting multiple rows**"
   ]
  },
  {
   "cell_type": "code",
   "execution_count": 20,
   "metadata": {},
   "outputs": [
    {
     "data": {
      "text/html": [
       "<div>\n",
       "<style scoped>\n",
       "    .dataframe tbody tr th:only-of-type {\n",
       "        vertical-align: middle;\n",
       "    }\n",
       "\n",
       "    .dataframe tbody tr th {\n",
       "        vertical-align: top;\n",
       "    }\n",
       "\n",
       "    .dataframe thead th {\n",
       "        text-align: right;\n",
       "    }\n",
       "</style>\n",
       "<table border=\"1\" class=\"dataframe\">\n",
       "  <thead>\n",
       "    <tr style=\"text-align: right;\">\n",
       "      <th></th>\n",
       "      <th>question</th>\n",
       "      <th>author_name</th>\n",
       "      <th>date</th>\n",
       "      <th>flair</th>\n",
       "      <th>answers</th>\n",
       "    </tr>\n",
       "  </thead>\n",
       "  <tbody>\n",
       "    <tr>\n",
       "      <th>1</th>\n",
       "      <td>ELI5: Can a soap be dirty? In a sense that the...</td>\n",
       "      <td>RetardedmammalGG</td>\n",
       "      <td>2020-02-23</td>\n",
       "      <td>Chemistry</td>\n",
       "      <td>[{'date': '16/02/20', 'score': 9600, 'text': '...</td>\n",
       "    </tr>\n",
       "    <tr>\n",
       "      <th>2</th>\n",
       "      <td>ELI5 Why is it that Oreos get soggy in regular...</td>\n",
       "      <td>barefootess</td>\n",
       "      <td>2020-02-23</td>\n",
       "      <td>Chemistry</td>\n",
       "      <td>[{'date': '04/02/20', 'score': 6900, 'text': '...</td>\n",
       "    </tr>\n",
       "  </tbody>\n",
       "</table>\n",
       "</div>"
      ],
      "text/plain": [
       "                                            question       author_name  \\\n",
       "1  ELI5: Can a soap be dirty? In a sense that the...  RetardedmammalGG   \n",
       "2  ELI5 Why is it that Oreos get soggy in regular...       barefootess   \n",
       "\n",
       "        date      flair                                            answers  \n",
       "1 2020-02-23  Chemistry  [{'date': '16/02/20', 'score': 9600, 'text': '...  \n",
       "2 2020-02-23  Chemistry  [{'date': '04/02/20', 'score': 6900, 'text': '...  "
      ]
     },
     "execution_count": 20,
     "metadata": {},
     "output_type": "execute_result"
    }
   ],
   "source": [
    "# Retrieve multiple rows\n",
    "eli5df.loc[1:2]"
   ]
  },
  {
   "cell_type": "markdown",
   "metadata": {},
   "source": [
    "**Dropping some columns**"
   ]
  },
  {
   "cell_type": "code",
   "execution_count": 21,
   "metadata": {},
   "outputs": [
    {
     "data": {
      "text/html": [
       "<div>\n",
       "<style scoped>\n",
       "    .dataframe tbody tr th:only-of-type {\n",
       "        vertical-align: middle;\n",
       "    }\n",
       "\n",
       "    .dataframe tbody tr th {\n",
       "        vertical-align: top;\n",
       "    }\n",
       "\n",
       "    .dataframe thead th {\n",
       "        text-align: right;\n",
       "    }\n",
       "</style>\n",
       "<table border=\"1\" class=\"dataframe\">\n",
       "  <thead>\n",
       "    <tr style=\"text-align: right;\">\n",
       "      <th></th>\n",
       "      <th>date</th>\n",
       "      <th>flair</th>\n",
       "      <th>answers</th>\n",
       "    </tr>\n",
       "  </thead>\n",
       "  <tbody>\n",
       "    <tr>\n",
       "      <th>0</th>\n",
       "      <td>2020-02-23</td>\n",
       "      <td>Chemistry</td>\n",
       "      <td>[{'date': '19/02/20', 'score': 14100, 'text': ...</td>\n",
       "    </tr>\n",
       "    <tr>\n",
       "      <th>1</th>\n",
       "      <td>2020-02-23</td>\n",
       "      <td>Chemistry</td>\n",
       "      <td>[{'date': '16/02/20', 'score': 9600, 'text': '...</td>\n",
       "    </tr>\n",
       "    <tr>\n",
       "      <th>2</th>\n",
       "      <td>2020-02-23</td>\n",
       "      <td>Chemistry</td>\n",
       "      <td>[{'date': '04/02/20', 'score': 6900, 'text': '...</td>\n",
       "    </tr>\n",
       "    <tr>\n",
       "      <th>3</th>\n",
       "      <td>2020-02-23</td>\n",
       "      <td>Chemistry</td>\n",
       "      <td>[{'date': '24/01/20', 'score': 18100, 'text': ...</td>\n",
       "    </tr>\n",
       "    <tr>\n",
       "      <th>4</th>\n",
       "      <td>2020-02-23</td>\n",
       "      <td>Chemistry</td>\n",
       "      <td>[{'date': '24/01/20', 'score': 4000, 'text': '...</td>\n",
       "    </tr>\n",
       "  </tbody>\n",
       "</table>\n",
       "</div>"
      ],
      "text/plain": [
       "        date      flair                                            answers\n",
       "0 2020-02-23  Chemistry  [{'date': '19/02/20', 'score': 14100, 'text': ...\n",
       "1 2020-02-23  Chemistry  [{'date': '16/02/20', 'score': 9600, 'text': '...\n",
       "2 2020-02-23  Chemistry  [{'date': '04/02/20', 'score': 6900, 'text': '...\n",
       "3 2020-02-23  Chemistry  [{'date': '24/01/20', 'score': 18100, 'text': ...\n",
       "4 2020-02-23  Chemistry  [{'date': '24/01/20', 'score': 4000, 'text': '..."
      ]
     },
     "execution_count": 21,
     "metadata": {},
     "output_type": "execute_result"
    }
   ],
   "source": [
    "# Creating a new frame by dropping some columns\n",
    "X = eli5df.drop(['question','author_name'], axis = 1)\n",
    "X.head()"
   ]
  },
  {
   "cell_type": "markdown",
   "metadata": {},
   "source": [
    "## Modifying  a dataframe"
   ]
  },
  {
   "cell_type": "markdown",
   "metadata": {},
   "source": [
    "**Retrieve a subframe that satisfies a condition**"
   ]
  },
  {
   "cell_type": "code",
   "execution_count": 22,
   "metadata": {},
   "outputs": [
    {
     "data": {
      "text/html": [
       "<div>\n",
       "<style scoped>\n",
       "    .dataframe tbody tr th:only-of-type {\n",
       "        vertical-align: middle;\n",
       "    }\n",
       "\n",
       "    .dataframe tbody tr th {\n",
       "        vertical-align: top;\n",
       "    }\n",
       "\n",
       "    .dataframe thead th {\n",
       "        text-align: right;\n",
       "    }\n",
       "</style>\n",
       "<table border=\"1\" class=\"dataframe\">\n",
       "  <thead>\n",
       "    <tr style=\"text-align: right;\">\n",
       "      <th></th>\n",
       "      <th>question</th>\n",
       "      <th>author_name</th>\n",
       "      <th>date</th>\n",
       "      <th>flair</th>\n",
       "      <th>answers</th>\n",
       "    </tr>\n",
       "  </thead>\n",
       "  <tbody>\n",
       "    <tr>\n",
       "      <th>200</th>\n",
       "      <td>ELI5 How do direction work in space because no...</td>\n",
       "      <td>yashpatil__</td>\n",
       "      <td>2020-02-23</td>\n",
       "      <td>Physics</td>\n",
       "      <td>[{'date': '23/02/20', 'score': None, 'text': '...</td>\n",
       "    </tr>\n",
       "    <tr>\n",
       "      <th>201</th>\n",
       "      <td>ELI5: Why does sleeping in a car feel differen...</td>\n",
       "      <td>lmaoyeahh2</td>\n",
       "      <td>2020-02-23</td>\n",
       "      <td>Physics</td>\n",
       "      <td>[{'date': '19/02/20', 'score': None, 'text': '...</td>\n",
       "    </tr>\n",
       "    <tr>\n",
       "      <th>202</th>\n",
       "      <td>ELI5: Why is it, when you try to wipe away dro...</td>\n",
       "      <td>alloftheabove12</td>\n",
       "      <td>2020-02-23</td>\n",
       "      <td>Physics</td>\n",
       "      <td>[{'date': '14/02/20', 'score': None, 'text': N...</td>\n",
       "    </tr>\n",
       "    <tr>\n",
       "      <th>203</th>\n",
       "      <td>ELI5: If the notion that electrons orbit aroun...</td>\n",
       "      <td>DUIofPussy</td>\n",
       "      <td>2020-02-23</td>\n",
       "      <td>Physics</td>\n",
       "      <td>[{'date': '24/01/20', 'score': 4500, 'text': '...</td>\n",
       "    </tr>\n",
       "    <tr>\n",
       "      <th>204</th>\n",
       "      <td>ELI5: Radiocarbon dating is based on the half-...</td>\n",
       "      <td>KevinMcAlisterAtHome</td>\n",
       "      <td>2020-02-23</td>\n",
       "      <td>Physics</td>\n",
       "      <td>[{'date': '24/01/20', 'score': 2200, 'text': '...</td>\n",
       "    </tr>\n",
       "    <tr>\n",
       "      <th>...</th>\n",
       "      <td>...</td>\n",
       "      <td>...</td>\n",
       "      <td>...</td>\n",
       "      <td>...</td>\n",
       "      <td>...</td>\n",
       "    </tr>\n",
       "    <tr>\n",
       "      <th>295</th>\n",
       "      <td>ELI5: How do counterweights on construction cr...</td>\n",
       "      <td>PDWAMMO</td>\n",
       "      <td>2020-02-23</td>\n",
       "      <td>Physics</td>\n",
       "      <td>[{'date': '02/02/20', 'score': 8, 'text': 'Som...</td>\n",
       "    </tr>\n",
       "    <tr>\n",
       "      <th>296</th>\n",
       "      <td>ELI5: How does radiation work? Why is it good ...</td>\n",
       "      <td>curiousfrosty</td>\n",
       "      <td>2020-02-23</td>\n",
       "      <td>Physics</td>\n",
       "      <td>[{'date': '13/02/20', 'score': 8, 'text': 'Rad...</td>\n",
       "    </tr>\n",
       "    <tr>\n",
       "      <th>297</th>\n",
       "      <td>ELI5: What does „Star collapses under its own ...</td>\n",
       "      <td>Copywithoutexample</td>\n",
       "      <td>2020-02-23</td>\n",
       "      <td>Physics</td>\n",
       "      <td>[{'date': '19/02/20', 'score': 6, 'text': 'The...</td>\n",
       "    </tr>\n",
       "    <tr>\n",
       "      <th>298</th>\n",
       "      <td>ELI5: Is the universe actually expanding and g...</td>\n",
       "      <td>phyllislis</td>\n",
       "      <td>2020-02-23</td>\n",
       "      <td>Physics</td>\n",
       "      <td>[{'date': '24/01/20', 'score': 13, 'text': 'Th...</td>\n",
       "    </tr>\n",
       "    <tr>\n",
       "      <th>299</th>\n",
       "      <td>ELI5: How does the end of a whip travel faster...</td>\n",
       "      <td>BigRedCowboy</td>\n",
       "      <td>2020-02-23</td>\n",
       "      <td>Physics</td>\n",
       "      <td>[{'date': '05/02/20', 'score': 12, 'text': 'So...</td>\n",
       "    </tr>\n",
       "  </tbody>\n",
       "</table>\n",
       "<p>100 rows × 5 columns</p>\n",
       "</div>"
      ],
      "text/plain": [
       "                                              question           author_name  \\\n",
       "200  ELI5 How do direction work in space because no...           yashpatil__   \n",
       "201  ELI5: Why does sleeping in a car feel differen...            lmaoyeahh2   \n",
       "202  ELI5: Why is it, when you try to wipe away dro...       alloftheabove12   \n",
       "203  ELI5: If the notion that electrons orbit aroun...            DUIofPussy   \n",
       "204  ELI5: Radiocarbon dating is based on the half-...  KevinMcAlisterAtHome   \n",
       "..                                                 ...                   ...   \n",
       "295  ELI5: How do counterweights on construction cr...               PDWAMMO   \n",
       "296  ELI5: How does radiation work? Why is it good ...         curiousfrosty   \n",
       "297  ELI5: What does „Star collapses under its own ...    Copywithoutexample   \n",
       "298  ELI5: Is the universe actually expanding and g...            phyllislis   \n",
       "299  ELI5: How does the end of a whip travel faster...          BigRedCowboy   \n",
       "\n",
       "          date    flair                                            answers  \n",
       "200 2020-02-23  Physics  [{'date': '23/02/20', 'score': None, 'text': '...  \n",
       "201 2020-02-23  Physics  [{'date': '19/02/20', 'score': None, 'text': '...  \n",
       "202 2020-02-23  Physics  [{'date': '14/02/20', 'score': None, 'text': N...  \n",
       "203 2020-02-23  Physics  [{'date': '24/01/20', 'score': 4500, 'text': '...  \n",
       "204 2020-02-23  Physics  [{'date': '24/01/20', 'score': 2200, 'text': '...  \n",
       "..         ...      ...                                                ...  \n",
       "295 2020-02-23  Physics  [{'date': '02/02/20', 'score': 8, 'text': 'Som...  \n",
       "296 2020-02-23  Physics  [{'date': '13/02/20', 'score': 8, 'text': 'Rad...  \n",
       "297 2020-02-23  Physics  [{'date': '19/02/20', 'score': 6, 'text': 'The...  \n",
       "298 2020-02-23  Physics  [{'date': '24/01/20', 'score': 13, 'text': 'Th...  \n",
       "299 2020-02-23  Physics  [{'date': '05/02/20', 'score': 12, 'text': 'So...  \n",
       "\n",
       "[100 rows x 5 columns]"
      ]
     },
     "execution_count": 22,
     "metadata": {},
     "output_type": "execute_result"
    }
   ],
   "source": [
    "# Retrieve a subframe that satisfies a condition\n",
    "eli5df.head()\n",
    "eli5df[eli5df[\"flair\"] == \"Physics\"]"
   ]
  },
  {
   "cell_type": "markdown",
   "metadata": {},
   "source": [
    "**Shuffling a pandas frame**"
   ]
  },
  {
   "cell_type": "code",
   "execution_count": 23,
   "metadata": {},
   "outputs": [
    {
     "data": {
      "text/html": [
       "<div>\n",
       "<style scoped>\n",
       "    .dataframe tbody tr th:only-of-type {\n",
       "        vertical-align: middle;\n",
       "    }\n",
       "\n",
       "    .dataframe tbody tr th {\n",
       "        vertical-align: top;\n",
       "    }\n",
       "\n",
       "    .dataframe thead th {\n",
       "        text-align: right;\n",
       "    }\n",
       "</style>\n",
       "<table border=\"1\" class=\"dataframe\">\n",
       "  <thead>\n",
       "    <tr style=\"text-align: right;\">\n",
       "      <th></th>\n",
       "      <th>question</th>\n",
       "      <th>author_name</th>\n",
       "      <th>date</th>\n",
       "      <th>flair</th>\n",
       "      <th>answers</th>\n",
       "    </tr>\n",
       "  </thead>\n",
       "  <tbody>\n",
       "    <tr>\n",
       "      <th>0</th>\n",
       "      <td>ELI5: They said \"the water doesn't have an exp...</td>\n",
       "      <td>natefigs1</td>\n",
       "      <td>2020-02-23</td>\n",
       "      <td>Chemistry</td>\n",
       "      <td>[{'date': '19/02/20', 'score': 14100, 'text': ...</td>\n",
       "    </tr>\n",
       "    <tr>\n",
       "      <th>1</th>\n",
       "      <td>ELI5: Can a soap be dirty? In a sense that the...</td>\n",
       "      <td>RetardedmammalGG</td>\n",
       "      <td>2020-02-23</td>\n",
       "      <td>Chemistry</td>\n",
       "      <td>[{'date': '16/02/20', 'score': 9600, 'text': '...</td>\n",
       "    </tr>\n",
       "    <tr>\n",
       "      <th>2</th>\n",
       "      <td>ELI5 Why is it that Oreos get soggy in regular...</td>\n",
       "      <td>barefootess</td>\n",
       "      <td>2020-02-23</td>\n",
       "      <td>Chemistry</td>\n",
       "      <td>[{'date': '04/02/20', 'score': 6900, 'text': '...</td>\n",
       "    </tr>\n",
       "    <tr>\n",
       "      <th>3</th>\n",
       "      <td>ELI5: How is that Alcohol 70% is better than A...</td>\n",
       "      <td>pixie_laluna</td>\n",
       "      <td>2020-02-23</td>\n",
       "      <td>Chemistry</td>\n",
       "      <td>[{'date': '24/01/20', 'score': 18100, 'text': ...</td>\n",
       "    </tr>\n",
       "    <tr>\n",
       "      <th>4</th>\n",
       "      <td>ELI5: How do whipped cream containers work?</td>\n",
       "      <td>BananaBob55</td>\n",
       "      <td>2020-02-23</td>\n",
       "      <td>Chemistry</td>\n",
       "      <td>[{'date': '24/01/20', 'score': 4000, 'text': '...</td>\n",
       "    </tr>\n",
       "    <tr>\n",
       "      <th>...</th>\n",
       "      <td>...</td>\n",
       "      <td>...</td>\n",
       "      <td>...</td>\n",
       "      <td>...</td>\n",
       "      <td>...</td>\n",
       "    </tr>\n",
       "    <tr>\n",
       "      <th>295</th>\n",
       "      <td>ELI5: How do counterweights on construction cr...</td>\n",
       "      <td>PDWAMMO</td>\n",
       "      <td>2020-02-23</td>\n",
       "      <td>Physics</td>\n",
       "      <td>[{'date': '02/02/20', 'score': 8, 'text': 'Som...</td>\n",
       "    </tr>\n",
       "    <tr>\n",
       "      <th>296</th>\n",
       "      <td>ELI5: How does radiation work? Why is it good ...</td>\n",
       "      <td>curiousfrosty</td>\n",
       "      <td>2020-02-23</td>\n",
       "      <td>Physics</td>\n",
       "      <td>[{'date': '13/02/20', 'score': 8, 'text': 'Rad...</td>\n",
       "    </tr>\n",
       "    <tr>\n",
       "      <th>297</th>\n",
       "      <td>ELI5: What does „Star collapses under its own ...</td>\n",
       "      <td>Copywithoutexample</td>\n",
       "      <td>2020-02-23</td>\n",
       "      <td>Physics</td>\n",
       "      <td>[{'date': '19/02/20', 'score': 6, 'text': 'The...</td>\n",
       "    </tr>\n",
       "    <tr>\n",
       "      <th>298</th>\n",
       "      <td>ELI5: Is the universe actually expanding and g...</td>\n",
       "      <td>phyllislis</td>\n",
       "      <td>2020-02-23</td>\n",
       "      <td>Physics</td>\n",
       "      <td>[{'date': '24/01/20', 'score': 13, 'text': 'Th...</td>\n",
       "    </tr>\n",
       "    <tr>\n",
       "      <th>299</th>\n",
       "      <td>ELI5: How does the end of a whip travel faster...</td>\n",
       "      <td>BigRedCowboy</td>\n",
       "      <td>2020-02-23</td>\n",
       "      <td>Physics</td>\n",
       "      <td>[{'date': '05/02/20', 'score': 12, 'text': 'So...</td>\n",
       "    </tr>\n",
       "  </tbody>\n",
       "</table>\n",
       "<p>300 rows × 5 columns</p>\n",
       "</div>"
      ],
      "text/plain": [
       "                                              question         author_name  \\\n",
       "0    ELI5: They said \"the water doesn't have an exp...           natefigs1   \n",
       "1    ELI5: Can a soap be dirty? In a sense that the...    RetardedmammalGG   \n",
       "2    ELI5 Why is it that Oreos get soggy in regular...         barefootess   \n",
       "3    ELI5: How is that Alcohol 70% is better than A...        pixie_laluna   \n",
       "4          ELI5: How do whipped cream containers work?         BananaBob55   \n",
       "..                                                 ...                 ...   \n",
       "295  ELI5: How do counterweights on construction cr...             PDWAMMO   \n",
       "296  ELI5: How does radiation work? Why is it good ...       curiousfrosty   \n",
       "297  ELI5: What does „Star collapses under its own ...  Copywithoutexample   \n",
       "298  ELI5: Is the universe actually expanding and g...          phyllislis   \n",
       "299  ELI5: How does the end of a whip travel faster...        BigRedCowboy   \n",
       "\n",
       "          date      flair                                            answers  \n",
       "0   2020-02-23  Chemistry  [{'date': '19/02/20', 'score': 14100, 'text': ...  \n",
       "1   2020-02-23  Chemistry  [{'date': '16/02/20', 'score': 9600, 'text': '...  \n",
       "2   2020-02-23  Chemistry  [{'date': '04/02/20', 'score': 6900, 'text': '...  \n",
       "3   2020-02-23  Chemistry  [{'date': '24/01/20', 'score': 18100, 'text': ...  \n",
       "4   2020-02-23  Chemistry  [{'date': '24/01/20', 'score': 4000, 'text': '...  \n",
       "..         ...        ...                                                ...  \n",
       "295 2020-02-23    Physics  [{'date': '02/02/20', 'score': 8, 'text': 'Som...  \n",
       "296 2020-02-23    Physics  [{'date': '13/02/20', 'score': 8, 'text': 'Rad...  \n",
       "297 2020-02-23    Physics  [{'date': '19/02/20', 'score': 6, 'text': 'The...  \n",
       "298 2020-02-23    Physics  [{'date': '24/01/20', 'score': 13, 'text': 'Th...  \n",
       "299 2020-02-23    Physics  [{'date': '05/02/20', 'score': 12, 'text': 'So...  \n",
       "\n",
       "[300 rows x 5 columns]"
      ]
     },
     "execution_count": 23,
     "metadata": {},
     "output_type": "execute_result"
    }
   ],
   "source": [
    "eli5df"
   ]
  },
  {
   "cell_type": "code",
   "execution_count": 24,
   "metadata": {},
   "outputs": [
    {
     "data": {
      "text/html": [
       "<div>\n",
       "<style scoped>\n",
       "    .dataframe tbody tr th:only-of-type {\n",
       "        vertical-align: middle;\n",
       "    }\n",
       "\n",
       "    .dataframe tbody tr th {\n",
       "        vertical-align: top;\n",
       "    }\n",
       "\n",
       "    .dataframe thead th {\n",
       "        text-align: right;\n",
       "    }\n",
       "</style>\n",
       "<table border=\"1\" class=\"dataframe\">\n",
       "  <thead>\n",
       "    <tr style=\"text-align: right;\">\n",
       "      <th></th>\n",
       "      <th>date</th>\n",
       "      <th>flair</th>\n",
       "      <th>answers</th>\n",
       "    </tr>\n",
       "  </thead>\n",
       "  <tbody>\n",
       "    <tr>\n",
       "      <th>171</th>\n",
       "      <td>2020-02-23</td>\n",
       "      <td>Other</td>\n",
       "      <td>[{'date': '12/02/20', 'score': 2, 'text': 'Is ...</td>\n",
       "    </tr>\n",
       "    <tr>\n",
       "      <th>4</th>\n",
       "      <td>2020-02-23</td>\n",
       "      <td>Chemistry</td>\n",
       "      <td>[{'date': '24/01/20', 'score': 4000, 'text': '...</td>\n",
       "    </tr>\n",
       "    <tr>\n",
       "      <th>183</th>\n",
       "      <td>2020-02-23</td>\n",
       "      <td>Other</td>\n",
       "      <td>[{'date': '07/02/20', 'score': 14, 'text': 'Th...</td>\n",
       "    </tr>\n",
       "    <tr>\n",
       "      <th>39</th>\n",
       "      <td>2020-02-23</td>\n",
       "      <td>Chemistry</td>\n",
       "      <td>[{'date': '14/02/20', 'score': 11, 'text': 'Fo...</td>\n",
       "    </tr>\n",
       "    <tr>\n",
       "      <th>165</th>\n",
       "      <td>2020-02-23</td>\n",
       "      <td>Other</td>\n",
       "      <td>[{'date': '16/02/20', 'score': 18, 'text': 'Me...</td>\n",
       "    </tr>\n",
       "  </tbody>\n",
       "</table>\n",
       "</div>"
      ],
      "text/plain": [
       "          date      flair                                            answers\n",
       "171 2020-02-23      Other  [{'date': '12/02/20', 'score': 2, 'text': 'Is ...\n",
       "4   2020-02-23  Chemistry  [{'date': '24/01/20', 'score': 4000, 'text': '...\n",
       "183 2020-02-23      Other  [{'date': '07/02/20', 'score': 14, 'text': 'Th...\n",
       "39  2020-02-23  Chemistry  [{'date': '14/02/20', 'score': 11, 'text': 'Fo...\n",
       "165 2020-02-23      Other  [{'date': '16/02/20', 'score': 18, 'text': 'Me..."
      ]
     },
     "execution_count": 24,
     "metadata": {},
     "output_type": "execute_result"
    }
   ],
   "source": [
    "from sklearn.utils import shuffle\n",
    "df = shuffle(X)\n",
    "df.head()"
   ]
  },
  {
   "cell_type": "markdown",
   "metadata": {},
   "source": [
    "**Applying a function to a column**"
   ]
  },
  {
   "cell_type": "code",
   "execution_count": 25,
   "metadata": {
    "scrolled": true
   },
   "outputs": [
    {
     "data": {
      "text/plain": [
       "0    26\n",
       "1    18\n",
       "2    15\n",
       "3    14\n",
       "4     7\n",
       "Name: question, dtype: int64"
      ]
     },
     "execution_count": 25,
     "metadata": {},
     "output_type": "execute_result"
    }
   ],
   "source": [
    "# Applying a function to a column\n",
    "def list_len(string):\n",
    "    return len(string.split(' '))\n",
    "    \n",
    "eli5df[\"question\"].apply(list_len).head()"
   ]
  },
  {
   "cell_type": "markdown",
   "metadata": {},
   "source": [
    "**Getting the type of a column**"
   ]
  },
  {
   "cell_type": "code",
   "execution_count": 26,
   "metadata": {},
   "outputs": [
    {
     "data": {
      "text/plain": [
       "dtype('O')"
      ]
     },
     "execution_count": 26,
     "metadata": {},
     "output_type": "execute_result"
    }
   ],
   "source": [
    "eli5df[\"question\"].dtypes"
   ]
  },
  {
   "cell_type": "markdown",
   "metadata": {},
   "source": [
    "**Concatenating two frames**"
   ]
  },
  {
   "cell_type": "code",
   "execution_count": 27,
   "metadata": {},
   "outputs": [
    {
     "data": {
      "text/html": [
       "<div>\n",
       "<style scoped>\n",
       "    .dataframe tbody tr th:only-of-type {\n",
       "        vertical-align: middle;\n",
       "    }\n",
       "\n",
       "    .dataframe tbody tr th {\n",
       "        vertical-align: top;\n",
       "    }\n",
       "\n",
       "    .dataframe thead th {\n",
       "        text-align: right;\n",
       "    }\n",
       "</style>\n",
       "<table border=\"1\" class=\"dataframe\">\n",
       "  <thead>\n",
       "    <tr style=\"text-align: right;\">\n",
       "      <th></th>\n",
       "      <th>question</th>\n",
       "      <th>Headers</th>\n",
       "    </tr>\n",
       "  </thead>\n",
       "  <tbody>\n",
       "    <tr>\n",
       "      <th>0</th>\n",
       "      <td>ELI5: They said \"the water doesn't have an exp...</td>\n",
       "      <td>26</td>\n",
       "    </tr>\n",
       "    <tr>\n",
       "      <th>1</th>\n",
       "      <td>ELI5: Can a soap be dirty? In a sense that the...</td>\n",
       "      <td>18</td>\n",
       "    </tr>\n",
       "    <tr>\n",
       "      <th>2</th>\n",
       "      <td>ELI5 Why is it that Oreos get soggy in regular...</td>\n",
       "      <td>15</td>\n",
       "    </tr>\n",
       "    <tr>\n",
       "      <th>3</th>\n",
       "      <td>ELI5: How is that Alcohol 70% is better than A...</td>\n",
       "      <td>14</td>\n",
       "    </tr>\n",
       "    <tr>\n",
       "      <th>4</th>\n",
       "      <td>ELI5: How do whipped cream containers work?</td>\n",
       "      <td>7</td>\n",
       "    </tr>\n",
       "    <tr>\n",
       "      <th>...</th>\n",
       "      <td>...</td>\n",
       "      <td>...</td>\n",
       "    </tr>\n",
       "    <tr>\n",
       "      <th>295</th>\n",
       "      <td>ELI5: How do counterweights on construction cr...</td>\n",
       "      <td>15</td>\n",
       "    </tr>\n",
       "    <tr>\n",
       "      <th>296</th>\n",
       "      <td>ELI5: How does radiation work? Why is it good ...</td>\n",
       "      <td>17</td>\n",
       "    </tr>\n",
       "    <tr>\n",
       "      <th>297</th>\n",
       "      <td>ELI5: What does „Star collapses under its own ...</td>\n",
       "      <td>14</td>\n",
       "    </tr>\n",
       "    <tr>\n",
       "      <th>298</th>\n",
       "      <td>ELI5: Is the universe actually expanding and g...</td>\n",
       "      <td>35</td>\n",
       "    </tr>\n",
       "    <tr>\n",
       "      <th>299</th>\n",
       "      <td>ELI5: How does the end of a whip travel faster...</td>\n",
       "      <td>22</td>\n",
       "    </tr>\n",
       "  </tbody>\n",
       "</table>\n",
       "<p>300 rows × 2 columns</p>\n",
       "</div>"
      ],
      "text/plain": [
       "                                              question  Headers\n",
       "0    ELI5: They said \"the water doesn't have an exp...       26\n",
       "1    ELI5: Can a soap be dirty? In a sense that the...       18\n",
       "2    ELI5 Why is it that Oreos get soggy in regular...       15\n",
       "3    ELI5: How is that Alcohol 70% is better than A...       14\n",
       "4          ELI5: How do whipped cream containers work?        7\n",
       "..                                                 ...      ...\n",
       "295  ELI5: How do counterweights on construction cr...       15\n",
       "296  ELI5: How does radiation work? Why is it good ...       17\n",
       "297  ELI5: What does „Star collapses under its own ...       14\n",
       "298  ELI5: Is the universe actually expanding and g...       35\n",
       "299  ELI5: How does the end of a whip travel faster...       22\n",
       "\n",
       "[300 rows x 2 columns]"
      ]
     },
     "execution_count": 27,
     "metadata": {},
     "output_type": "execute_result"
    }
   ],
   "source": [
    "Q = eli5df[\"question\"]\n",
    "Qcounts = eli5df[\"question\"].apply(list_len)\n",
    "C = pd.Series(Qcounts,name=\"Headers\")\n",
    "newdf = pd.concat([Q,C],axis = 1)\n",
    "newdf"
   ]
  },
  {
   "cell_type": "markdown",
   "metadata": {},
   "source": [
    "**Extracting all text from a colum**"
   ]
  },
  {
   "cell_type": "code",
   "execution_count": 28,
   "metadata": {},
   "outputs": [
    {
     "data": {
      "text/plain": [
       "'de la porte brown van de Berg Pater Caret Starlet'"
      ]
     },
     "execution_count": 28,
     "metadata": {},
     "output_type": "execute_result"
    }
   ],
   "source": [
    "import pandas as pd\n",
    "data = {'Family_Name':[\"de la porte\", \"brown\", \"van de Berg\", \"Pater\",\"Caret\",\"Starlet\"]}\n",
    "\n",
    "# Create a pd DataFrame. \n",
    "df = pd.DataFrame(data) \n",
    "  \n",
    "# print the dataframe\n",
    "df\n",
    "df['Family_Name'].str.cat(sep=\" \")"
   ]
  },
  {
   "cell_type": "markdown",
   "metadata": {},
   "source": [
    "**Handling Columns with List values**"
   ]
  },
  {
   "cell_type": "code",
   "execution_count": 29,
   "metadata": {},
   "outputs": [
    {
     "data": {
      "text/html": [
       "<div>\n",
       "<style scoped>\n",
       "    .dataframe tbody tr th:only-of-type {\n",
       "        vertical-align: middle;\n",
       "    }\n",
       "\n",
       "    .dataframe tbody tr th {\n",
       "        vertical-align: top;\n",
       "    }\n",
       "\n",
       "    .dataframe thead th {\n",
       "        text-align: right;\n",
       "    }\n",
       "</style>\n",
       "<table border=\"1\" class=\"dataframe\">\n",
       "  <thead>\n",
       "    <tr style=\"text-align: right;\">\n",
       "      <th></th>\n",
       "      <th>Marks</th>\n",
       "      <th>Name</th>\n",
       "    </tr>\n",
       "  </thead>\n",
       "  <tbody>\n",
       "    <tr>\n",
       "      <th>0</th>\n",
       "      <td>99</td>\n",
       "      <td>[Tom, Jack]</td>\n",
       "    </tr>\n",
       "    <tr>\n",
       "      <th>1</th>\n",
       "      <td>98</td>\n",
       "      <td>[nick]</td>\n",
       "    </tr>\n",
       "    <tr>\n",
       "      <th>2</th>\n",
       "      <td>95</td>\n",
       "      <td>[juli, peter, paul]</td>\n",
       "    </tr>\n",
       "  </tbody>\n",
       "</table>\n",
       "</div>"
      ],
      "text/plain": [
       "   Marks                 Name\n",
       "0     99          [Tom, Jack]\n",
       "1     98               [nick]\n",
       "2     95  [juli, peter, paul]"
      ]
     },
     "execution_count": 29,
     "metadata": {},
     "output_type": "execute_result"
    }
   ],
   "source": [
    "data = {'Marks':[99, 98, 95],\n",
    "        'Name':[['Tom', 'Jack'], ['nick'], ['juli','peter','paul']]}\n",
    "\n",
    "# Create a pd DataFrame. \n",
    "df = pd.DataFrame(data) \n",
    "df.head()"
   ]
  },
  {
   "cell_type": "code",
   "execution_count": 30,
   "metadata": {},
   "outputs": [
    {
     "name": "stdout",
     "output_type": "stream",
     "text": [
      "['Tom', 'Jack']\n",
      "['nick']\n",
      "['juli', 'peter', 'paul']\n"
     ]
    },
    {
     "data": {
      "text/plain": [
       "['Tom', 'Jack', 'nick', 'juli', 'peter', 'paul']"
      ]
     },
     "execution_count": 30,
     "metadata": {},
     "output_type": "execute_result"
    }
   ],
   "source": [
    "df.index\n",
    "l = []\n",
    "for i in range(df.shape[0]):\n",
    "    print(df[\"Name\"][i])\n",
    "    l = l+(df[\"Name\"][i])\n",
    "l\n"
   ]
  },
  {
   "cell_type": "markdown",
   "metadata": {},
   "source": [
    "**Get the size of each group**\n",
    "\n",
    "For each value in a  colum, get the number of rows having that value"
   ]
  },
  {
   "cell_type": "code",
   "execution_count": 31,
   "metadata": {},
   "outputs": [
    {
     "name": "stdout",
     "output_type": "stream",
     "text": [
      "Marks\n",
      "95    1\n",
      "98    1\n",
      "99    1\n",
      "dtype: int64\n"
     ]
    }
   ],
   "source": [
    "# size of each group\n",
    "print(df.groupby('Marks').size())"
   ]
  },
  {
   "cell_type": "markdown",
   "metadata": {},
   "source": [
    "## Exporting a dataframe to a file"
   ]
  },
  {
   "cell_type": "code",
   "execution_count": 32,
   "metadata": {},
   "outputs": [],
   "source": [
    "# to a csv file\n",
    "df.to_csv('file_name.csv', encoding='utf-8')"
   ]
  },
  {
   "cell_type": "code",
   "execution_count": 33,
   "metadata": {},
   "outputs": [],
   "source": [
    "# to an excel file\n",
    "# install with '''python -m pip install openpyxl'''\n",
    "df.to_excel('file_name.xlsx', encoding='utf-8')"
   ]
  },
  {
   "cell_type": "code",
   "execution_count": null,
   "metadata": {},
   "outputs": [],
   "source": [
    "# Iterating over one column - `f` is some function that processes your data\n",
    "result = [f(x) for x in df['col']]\n",
    "# Iterating over two columns, use `zip`\n",
    "result = [f(x, y) for x, y in zip(df['col1'], df['col2'])]\n",
    "# Iterating over multiple columns - same data type\n",
    "result = [f(row[0], ..., row[n]) for row in df[['col1', ...,'coln']].to_numpy()]\n",
    "# Iterating over multiple columns - differing data type\n",
    "result = [f(row[0], ..., row[n]) for row in zip(df['col1'], ..., df['coln'])]\n"
   ]
  }
 ],
 "metadata": {
  "kernelspec": {
   "display_name": "Python 3",
   "language": "python",
   "name": "python3"
  },
  "language_info": {
   "codemirror_mode": {
    "name": "ipython",
    "version": 3
   },
   "file_extension": ".py",
   "mimetype": "text/x-python",
   "name": "python",
   "nbconvert_exporter": "python",
   "pygments_lexer": "ipython3",
   "version": "3.10.10"
  },
  "vscode": {
   "interpreter": {
    "hash": "3de7a084b318d7b8bf96005cb5db4da14a27f60df0465391ef48a4c336f03bfe"
   }
  }
 },
 "nbformat": 4,
 "nbformat_minor": 4
}
