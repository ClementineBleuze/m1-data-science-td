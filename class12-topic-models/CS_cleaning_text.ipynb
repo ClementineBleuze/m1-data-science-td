{
 "cells": [
  {
   "cell_type": "markdown",
   "metadata": {},
   "source": [
    "# Cleaning wkp_sorted files\n",
    "\n",
    "- load files into pd dataframe\n",
    "- rm headers using regexp\n",
    "- use Stanza and NLTK list of stopwords to remove from the text all tokens that\n",
    "   - contains a non alphabetical character OR\n",
    "   - has less than 2 characters OR\n",
    "   - has a postag in ['ADV','PRON','CCONJ','PUNCT','PART','DET','ADP','SPACE'] OR\n",
    "   - is a stopword\n",
    "- add filtered text to dataframe"
   ]
  },
  {
   "cell_type": "markdown",
   "metadata": {},
   "source": [
    " #### Load data into pandas dataframe"
   ]
  },
  {
   "cell_type": "code",
   "execution_count": null,
   "metadata": {
    "scrolled": true
   },
   "outputs": [],
   "source": [
    "import pandas as pd\n",
    "from sklearn.datasets import load_files\n",
    "# Loading all files in \"dir\" directory into a pandas dataframe\n",
    "DATA_DIR = \"../10_clustering/wkp_sorted/\"\n",
    "data = load_files(DATA_DIR, encoding=\"utf-8\", decode_error=\"replace\")\n",
    "df = pd.DataFrame({'text': data['data'], 'label': data['target']})\n",
    "df.head()"
   ]
  },
  {
   "cell_type": "markdown",
   "metadata": {},
   "source": [
    " #### Remove headers"
   ]
  },
  {
   "cell_type": "code",
   "execution_count": null,
   "metadata": {},
   "outputs": [],
   "source": [
    "import re\n",
    "def rm_headers(text):\n",
    "    return re.sub('=+ (\\w+) =+', \"\", text)\n",
    "\n",
    "no_headers = df[\"text\"].apply(rm_headers)\n",
    "\n",
    "X = pd.Series(no_headers,name=\"clean_text\")\n",
    "df = pd.concat([df,X],axis = 1)\n",
    "df"
   ]
  },
  {
   "cell_type": "markdown",
   "metadata": {},
   "source": [
    " #### Remove tokens that  \n",
    "   - contains a non alphabetical character OR\n",
    "   - have less than 2 characters OR\n",
    "   - have a postag in ['ADV','PRON','CCONJ','PUNCT','PART','DET','ADP','SPACE'] OR\n",
    "   - are a stopword"
   ]
  },
  {
   "cell_type": "code",
   "execution_count": null,
   "metadata": {},
   "outputs": [],
   "source": [
    "import stanza\n",
    "\n",
    "# Download Stanza models\n",
    "stanza.download('en')\n",
    "\n",
    "# Initialize the default English pipeline\n",
    "nlp = stanza.Pipeline(lang=\"en\", processors='tokenize,pos,lemma')"
   ]
  },
  {
   "cell_type": "code",
   "execution_count": null,
   "metadata": {
    "scrolled": true
   },
   "outputs": [],
   "source": [
    "import nltk\n",
    "from nltk.corpus import stopwords\n",
    "nltk.download('stopwords')"
   ]
  },
  {
   "cell_type": "code",
   "execution_count": null,
   "metadata": {},
   "outputs": [],
   "source": [
    "#stopwords.words(\"english\")"
   ]
  },
  {
   "cell_type": "code",
   "execution_count": null,
   "metadata": {},
   "outputs": [],
   "source": [
    "def clean_up(text):\n",
    "    removal=['ADV','PRON','CCONJ','PUNCT','PART','DET','ADP','SPACE']\n",
    "    text_out = []\n",
    "    doc= nlp(text)\n",
    "    tokens = [(tok.text,tok.upos,tok.lemma) for stce in doc.sentences for tok in stce.words]\n",
    "    #print(list(zip(*tokens))[0])\n",
    "    for (token,upos,lemma) in tokens:\n",
    "        if  token.isalpha() and len(token)>2 and upos not in removal  and token not in stopwords.words(\"english\"):\n",
    "            text_out.append(lemma)\n",
    "    return \" \".join(text_out)"
   ]
  },
  {
   "cell_type": "code",
   "execution_count": null,
   "metadata": {},
   "outputs": [],
   "source": [
    "lemmas = [clean_up(x) for x in df['text']]"
   ]
  },
  {
   "cell_type": "markdown",
   "metadata": {},
   "source": [
    " #### Add filtered data to pandas dataframe"
   ]
  },
  {
   "cell_type": "code",
   "execution_count": null,
   "metadata": {},
   "outputs": [],
   "source": [
    "X = pd.Series(lemmas,name=\"out_text\")\n",
    "df = pd.concat([df['text'],X],axis = 1)\n",
    "df"
   ]
  },
  {
   "cell_type": "code",
   "execution_count": null,
   "metadata": {},
   "outputs": [],
   "source": []
  }
 ],
 "metadata": {
  "kernelspec": {
   "display_name": "Python 3",
   "language": "python",
   "name": "python3"
  },
  "language_info": {
   "codemirror_mode": {
    "name": "ipython",
    "version": 3
   },
   "file_extension": ".py",
   "mimetype": "text/x-python",
   "name": "python",
   "nbconvert_exporter": "python",
   "pygments_lexer": "ipython3",
   "version": "3.8.5"
  }
 },
 "nbformat": 4,
 "nbformat_minor": 4
}
