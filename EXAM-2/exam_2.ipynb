{
 "cells": [
  {
   "attachments": {},
   "cell_type": "markdown",
   "metadata": {},
   "source": [
    "## Exam 2: Pandas, Vizualisation, Linguistic Preprocessing, Machine Learning\n",
    "\n",
    "#### Student name: Clémentine Bleuze.\n",
    "\n",
    "- The exam has 18 questions. \n",
    "- The exam is designed so that you do not need to do all questions sequentially. In other words, if you fail to complete a given question, it it still possible to move on and do some of the other questions. \n",
    "- The exams is structured into 6 sections\n",
    "   - A. File handling (1 exercise, 3 points)\n",
    "   - B. Pandas dataframe (6 exercises, 9 points)\n",
    "   - C. Vizualisation (3 exercises, 8 points)\n",
    "   - D. Tokenization and Sentence Segmentation (2 exercises, 6 points)\n",
    "   - E. Statistics (2 exercises, 4 points)\n",
    "   - F. Classification (4 exercises, 10 points)"
   ]
  },
  {
   "cell_type": "code",
   "execution_count": 1,
   "metadata": {},
   "outputs": [
    {
     "name": "stderr",
     "output_type": "stream",
     "text": [
      "[nltk_data] Downloading package punkt to\n",
      "[nltk_data]     C:\\Users\\bleuze3u\\AppData\\Roaming\\nltk_data...\n",
      "[nltk_data]   Package punkt is already up-to-date!\n"
     ]
    }
   ],
   "source": [
    "# All imports\n",
    "import os\n",
    "import pandas as pd\n",
    "from matplotlib import pyplot as plt\n",
    "import nltk\n",
    "nltk.download('punkt')\n",
    "from sklearn.model_selection import train_test_split\n",
    "from sklearn.utils import shuffle\n",
    "from sklearn.linear_model import Perceptron\n",
    "from sklearn.metrics import accuracy_score\n",
    "from sklearn.feature_extraction.text import TfidfVectorizer"
   ]
  },
  {
   "cell_type": "markdown",
   "metadata": {},
   "source": [
    "### A. File Handling\n",
    "- Printing out the names of the files contained in a directory"
   ]
  },
  {
   "cell_type": "markdown",
   "metadata": {},
   "source": [
    "#### Exercise 1.  Write code that output the list of files present in the data directory (3 points)\n",
    "\n",
    "The expected output is:\n",
    "\n",
    "chatgpt_fullwiki_eval.csv   \n",
    "pg_dyn_fullwiki_rl3_eval.csv   \n",
    "para_led_fullwiki_rl3_eval.csv   \n",
    "ctrl_conbart_dyn_fullwiki_rl3_eval.csv   \n",
    "para_led_dyn_fullwiki_rl3_eval.csv"
   ]
  },
  {
   "cell_type": "code",
   "execution_count": 2,
   "metadata": {},
   "outputs": [
    {
     "name": "stdout",
     "output_type": "stream",
     "text": [
      "chatgpt_fullwiki_eval.csv\n",
      "ctrl_conbart_dyn_fullwiki_rl3.csv\n",
      "para_led_dyn_fullwiki_rl3.csv\n",
      "pg_dyn_fullwiki_rl3.csv\n"
     ]
    }
   ],
   "source": [
    "datadir = \"eval/\"\n",
    "\n",
    "# Print the name of all files contained in the data directory\n",
    "for filename in os.listdir(datadir):\n",
    "    print(filename)"
   ]
  },
  {
   "cell_type": "markdown",
   "metadata": {},
   "source": [
    "### B. Pandas Dataframe\n",
    "- Loading and Examining some data\n",
    "- Producing the average value for a column"
   ]
  },
  {
   "cell_type": "markdown",
   "metadata": {},
   "source": [
    "#### Exercise 2.  Load the file chatgpt_fullwiki_eval.csv  into a panda dataframe (1 point)"
   ]
  },
  {
   "cell_type": "code",
   "execution_count": 3,
   "metadata": {},
   "outputs": [
    {
     "data": {
      "text/html": [
       "<div>\n",
       "<style scoped>\n",
       "    .dataframe tbody tr th:only-of-type {\n",
       "        vertical-align: middle;\n",
       "    }\n",
       "\n",
       "    .dataframe tbody tr th {\n",
       "        vertical-align: top;\n",
       "    }\n",
       "\n",
       "    .dataframe thead th {\n",
       "        text-align: right;\n",
       "    }\n",
       "</style>\n",
       "<table border=\"1\" class=\"dataframe\">\n",
       "  <thead>\n",
       "    <tr style=\"text-align: right;\">\n",
       "      <th></th>\n",
       "      <th>title</th>\n",
       "      <th>pair_id</th>\n",
       "      <th>complex</th>\n",
       "      <th>simple</th>\n",
       "      <th>para_id</th>\n",
       "      <th>c_len</th>\n",
       "      <th>s_len</th>\n",
       "      <th>p_len</th>\n",
       "      <th>num_c_sents</th>\n",
       "      <th>num_s_sents</th>\n",
       "      <th>max_p_len</th>\n",
       "      <th>category</th>\n",
       "      <th>common_category</th>\n",
       "      <th>num_paras</th>\n",
       "      <th>subject</th>\n",
       "      <th>qafacteval</th>\n",
       "      <th>pred</th>\n",
       "      <th>summac</th>\n",
       "      <th>qafacteval_r</th>\n",
       "    </tr>\n",
       "  </thead>\n",
       "  <tbody>\n",
       "    <tr>\n",
       "      <th>0</th>\n",
       "      <td>John Shaft</td>\n",
       "      <td>42044</td>\n",
       "      <td>['John Shaft I is a fictional character create...</td>\n",
       "      <td>['John Shaft is a fictional character.', 'He i...</td>\n",
       "      <td>[0, 0, 0, 0, 1, 1, 2, 2, 3, 3, 4]</td>\n",
       "      <td>358</td>\n",
       "      <td>109</td>\n",
       "      <td>[160, 77, 55, 54, 12]</td>\n",
       "      <td>11</td>\n",
       "      <td>8</td>\n",
       "      <td>160</td>\n",
       "      <td>['film character', 'literary character', 'fict...</td>\n",
       "      <td>fictional human</td>\n",
       "      <td>5</td>\n",
       "      <td>biographical</td>\n",
       "      <td>3.665564</td>\n",
       "      <td>John Shaft is a famous fictional character cre...</td>\n",
       "      <td>0.391310</td>\n",
       "      <td>2.607325</td>\n",
       "    </tr>\n",
       "    <tr>\n",
       "      <th>1</th>\n",
       "      <td>Acronis</td>\n",
       "      <td>51633</td>\n",
       "      <td>['Acronis International GmbH, simply referred ...</td>\n",
       "      <td>['Acronis Inc. is an American software company...</td>\n",
       "      <td>[0, 0, 0, 0, 0, 1, 1, 1, 2, 2, 3, 3, 3, 4, 4, ...</td>\n",
       "      <td>745</td>\n",
       "      <td>209</td>\n",
       "      <td>[118, 89, 60, 73, 55, 48, 89, 84, 129]</td>\n",
       "      <td>27</td>\n",
       "      <td>9</td>\n",
       "      <td>129</td>\n",
       "      <td>['software company', 'business', 'technology c...</td>\n",
       "      <td>business</td>\n",
       "      <td>9</td>\n",
       "      <td>industry</td>\n",
       "      <td>2.352182</td>\n",
       "      <td>Acronis is a technology company with headquart...</td>\n",
       "      <td>0.527585</td>\n",
       "      <td>0.702490</td>\n",
       "    </tr>\n",
       "    <tr>\n",
       "      <th>2</th>\n",
       "      <td>Tower Commission</td>\n",
       "      <td>86530</td>\n",
       "      <td>['The Tower Commission was commissioned on Dec...</td>\n",
       "      <td>['The Tower Commission was created on 26 Novem...</td>\n",
       "      <td>[0, 0, 1, 1, 1, 2, 2, 2, 3, 4, 5, 5, 6, 7, 7]</td>\n",
       "      <td>513</td>\n",
       "      <td>157</td>\n",
       "      <td>[110, 98, 113, 32, 23, 73, 29, 35]</td>\n",
       "      <td>15</td>\n",
       "      <td>4</td>\n",
       "      <td>113</td>\n",
       "      <td>['organization']</td>\n",
       "      <td>organization</td>\n",
       "      <td>8</td>\n",
       "      <td>industry</td>\n",
       "      <td>4.422851</td>\n",
       "      <td>The Tower Commission was set up by President R...</td>\n",
       "      <td>0.608918</td>\n",
       "      <td>2.246722</td>\n",
       "    </tr>\n",
       "    <tr>\n",
       "      <th>3</th>\n",
       "      <td>WWE SmackDown vs. Raw 2007</td>\n",
       "      <td>47683</td>\n",
       "      <td>[\"WWE SmackDown vs. Raw 2007 is a professional...</td>\n",
       "      <td>['WWE SmackDown vs. Raw 2007 is a wrestling vi...</td>\n",
       "      <td>[0, 0, 0, 0, 0, 0, 1, 1, 1, 2, 2, 2, 2, 2, 3, ...</td>\n",
       "      <td>1859</td>\n",
       "      <td>159</td>\n",
       "      <td>[136, 86, 121, 70, 83, 94, 25, 89, 48, 46, 50,...</td>\n",
       "      <td>66</td>\n",
       "      <td>6</td>\n",
       "      <td>164</td>\n",
       "      <td>['video game']</td>\n",
       "      <td>video game</td>\n",
       "      <td>23</td>\n",
       "      <td>media</td>\n",
       "      <td>2.961381</td>\n",
       "      <td>WWE SmackDown vs. Raw 2007 is a wrestling vide...</td>\n",
       "      <td>0.878862</td>\n",
       "      <td>0.671188</td>\n",
       "    </tr>\n",
       "    <tr>\n",
       "      <th>4</th>\n",
       "      <td>Bassoles-Aulers</td>\n",
       "      <td>52013</td>\n",
       "      <td>['Bassoles-Aulers is a commune in the departme...</td>\n",
       "      <td>['Bassoles-Aulers is a commune.', 'It is found...</td>\n",
       "      <td>[0, 1, 2, 2, 2, 2, 2, 3, 4, 5]</td>\n",
       "      <td>283</td>\n",
       "      <td>34</td>\n",
       "      <td>[34, 25, 159, 30, 19, 16]</td>\n",
       "      <td>10</td>\n",
       "      <td>2</td>\n",
       "      <td>159</td>\n",
       "      <td>['commune of France']</td>\n",
       "      <td>commune of France</td>\n",
       "      <td>6</td>\n",
       "      <td>location</td>\n",
       "      <td>3.582690</td>\n",
       "      <td>Bassoles-Aulers is a town in the Aisne departm...</td>\n",
       "      <td>0.443724</td>\n",
       "      <td>2.871982</td>\n",
       "    </tr>\n",
       "  </tbody>\n",
       "</table>\n",
       "</div>"
      ],
      "text/plain": [
       "                        title  pair_id  \\\n",
       "0                  John Shaft    42044   \n",
       "1                     Acronis    51633   \n",
       "2            Tower Commission    86530   \n",
       "3  WWE SmackDown vs. Raw 2007    47683   \n",
       "4             Bassoles-Aulers    52013   \n",
       "\n",
       "                                             complex  \\\n",
       "0  ['John Shaft I is a fictional character create...   \n",
       "1  ['Acronis International GmbH, simply referred ...   \n",
       "2  ['The Tower Commission was commissioned on Dec...   \n",
       "3  [\"WWE SmackDown vs. Raw 2007 is a professional...   \n",
       "4  ['Bassoles-Aulers is a commune in the departme...   \n",
       "\n",
       "                                              simple  \\\n",
       "0  ['John Shaft is a fictional character.', 'He i...   \n",
       "1  ['Acronis Inc. is an American software company...   \n",
       "2  ['The Tower Commission was created on 26 Novem...   \n",
       "3  ['WWE SmackDown vs. Raw 2007 is a wrestling vi...   \n",
       "4  ['Bassoles-Aulers is a commune.', 'It is found...   \n",
       "\n",
       "                                             para_id  c_len  s_len  \\\n",
       "0                  [0, 0, 0, 0, 1, 1, 2, 2, 3, 3, 4]    358    109   \n",
       "1  [0, 0, 0, 0, 0, 1, 1, 1, 2, 2, 3, 3, 3, 4, 4, ...    745    209   \n",
       "2      [0, 0, 1, 1, 1, 2, 2, 2, 3, 4, 5, 5, 6, 7, 7]    513    157   \n",
       "3  [0, 0, 0, 0, 0, 0, 1, 1, 1, 2, 2, 2, 2, 2, 3, ...   1859    159   \n",
       "4                     [0, 1, 2, 2, 2, 2, 2, 3, 4, 5]    283     34   \n",
       "\n",
       "                                               p_len  num_c_sents  \\\n",
       "0                              [160, 77, 55, 54, 12]           11   \n",
       "1             [118, 89, 60, 73, 55, 48, 89, 84, 129]           27   \n",
       "2                 [110, 98, 113, 32, 23, 73, 29, 35]           15   \n",
       "3  [136, 86, 121, 70, 83, 94, 25, 89, 48, 46, 50,...           66   \n",
       "4                          [34, 25, 159, 30, 19, 16]           10   \n",
       "\n",
       "   num_s_sents  max_p_len                                           category  \\\n",
       "0            8        160  ['film character', 'literary character', 'fict...   \n",
       "1            9        129  ['software company', 'business', 'technology c...   \n",
       "2            4        113                                   ['organization']   \n",
       "3            6        164                                     ['video game']   \n",
       "4            2        159                              ['commune of France']   \n",
       "\n",
       "     common_category  num_paras       subject  qafacteval  \\\n",
       "0    fictional human          5  biographical    3.665564   \n",
       "1           business          9      industry    2.352182   \n",
       "2       organization          8      industry    4.422851   \n",
       "3         video game         23         media    2.961381   \n",
       "4  commune of France          6      location    3.582690   \n",
       "\n",
       "                                                pred    summac  qafacteval_r  \n",
       "0  John Shaft is a famous fictional character cre...  0.391310      2.607325  \n",
       "1  Acronis is a technology company with headquart...  0.527585      0.702490  \n",
       "2  The Tower Commission was set up by President R...  0.608918      2.246722  \n",
       "3  WWE SmackDown vs. Raw 2007 is a wrestling vide...  0.878862      0.671188  \n",
       "4  Bassoles-Aulers is a town in the Aisne departm...  0.443724      2.871982  "
      ]
     },
     "execution_count": 3,
     "metadata": {},
     "output_type": "execute_result"
    }
   ],
   "source": [
    "# We will directly read the data into a pandas DataFrame directly from the .csv file\n",
    "df = pd.read_csv(datadir + \"chatgpt_fullwiki_eval.csv\")\n",
    "\n",
    "# Checking everything is ok\n",
    "df.head()"
   ]
  },
  {
   "cell_type": "markdown",
   "metadata": {},
   "source": [
    "#### Exercise 3. Print out the columns headers  (1 point)"
   ]
  },
  {
   "cell_type": "code",
   "execution_count": 4,
   "metadata": {},
   "outputs": [
    {
     "name": "stdout",
     "output_type": "stream",
     "text": [
      "Columns of the considered dataset are: ['title', 'pair_id', 'complex', 'simple', 'para_id', 'c_len', 's_len', 'p_len', 'num_c_sents', 'num_s_sents', 'max_p_len', 'category', 'common_category', 'num_paras', 'subject', 'qafacteval', 'pred', 'summac', 'qafacteval_r']\n"
     ]
    }
   ],
   "source": [
    "print(f\"Columns of the considered dataset are: {list(df.columns)}\")"
   ]
  },
  {
   "cell_type": "markdown",
   "metadata": {},
   "source": [
    "#### Exercise 4. Print out the number of rows and columns (1 point)"
   ]
  },
  {
   "cell_type": "code",
   "execution_count": 5,
   "metadata": {},
   "outputs": [
    {
     "name": "stdout",
     "output_type": "stream",
     "text": [
      "The dataset contains 1000 rows and 19 columns.\n"
     ]
    }
   ],
   "source": [
    "sh = df.shape\n",
    "print(f\"The dataset contains {sh[0]} rows and {sh[1]} columns.\")"
   ]
  },
  {
   "cell_type": "markdown",
   "metadata": {},
   "source": [
    "#### Exercise 5. Print out the set of subjects which occur in the 'subject' (2 points)\n",
    "\n",
    "- Note: We are asking for a set so the subject types, not the subject occurrences \n",
    "- Expected result: 'biographical', 'industry', 'media', 'location', 'science'\n",
    "- Hint: is you use the correct pandas method, this can be done in one short line"
   ]
  },
  {
   "cell_type": "code",
   "execution_count": 6,
   "metadata": {},
   "outputs": [
    {
     "name": "stdout",
     "output_type": "stream",
     "text": [
      "The dataset contains 5 different subjects: ['biographical', 'industry', 'media', 'location', 'science'].\n"
     ]
    }
   ],
   "source": [
    "# The function 'unique' allows to do this directly\n",
    "subjects = list(pd.unique(df[\"subject\"]))\n",
    "print(f\"The dataset contains {len(subjects)} different subjects: {subjects}.\")"
   ]
  },
  {
   "cell_type": "markdown",
   "metadata": {},
   "source": [
    "#### Exercise 6. Print out the number of items belonging to each  subjects (2 points)\n",
    "\n",
    "- Hint: is you use the correct pandas method, this can be done in one short line\n",
    "- Expected result:  \n",
    "\n",
    "biographical    200   \n",
    "industry        200   \n",
    "location        200   \n",
    "media           200   \n",
    "science         200   "
   ]
  },
  {
   "cell_type": "code",
   "execution_count": 7,
   "metadata": {},
   "outputs": [
    {
     "name": "stdout",
     "output_type": "stream",
     "text": [
      "biographical    200\n",
      "industry        200\n",
      "media           200\n",
      "location        200\n",
      "science         200\n",
      "Name: subject, dtype: int64\n"
     ]
    }
   ],
   "source": [
    "# This is done using the function 'value_counts'\n",
    "print(df[\"subject\"].value_counts())"
   ]
  },
  {
   "cell_type": "markdown",
   "metadata": {},
   "source": [
    "#### Exercise 7.  Compute and print out the average value for the \"qafacteval\" and the \"summac\" columns in the dataframe you created (2 points)\n",
    "\n",
    "Expected results: \n",
    "\n",
    "QAFactEval: 3.612652418367106   \n",
    "SUMMAC: 0.7333019569516182"
   ]
  },
  {
   "cell_type": "code",
   "execution_count": 10,
   "metadata": {},
   "outputs": [
    {
     "name": "stdout",
     "output_type": "stream",
     "text": [
      "qafacteval    3.619174\n",
      "summac        0.503797\n",
      "dtype: float64\n"
     ]
    }
   ],
   "source": [
    "# This is done using the 'mean' function\n",
    "me = df[[\"qafacteval\", \"summac\"]].mean()\n",
    "print(me)"
   ]
  },
  {
   "cell_type": "markdown",
   "metadata": {},
   "source": [
    "## C. Visualisation\n",
    "We now use the data from the  chatgpt_fullwiki_eval.csv file  (or the dataframe you created in Exercise 2) to create some vizualisations\n",
    "- Note: the \"c_len\" columns stores the length of complex sentences\n",
    "\n",
    "There are 3 exercises:\n",
    "- Exercise 8. Create the histogram for \"c_len' (the length of complex sentences) \n",
    "- Exercise 9. Create a similar histogram but considering only sentences which come from the \"media\" subject\n",
    "- Exercise 10. Create 5 histograms for \"c_len', one for each of the five subjects, with the subject as title"
   ]
  },
  {
   "cell_type": "markdown",
   "metadata": {},
   "source": [
    "#### Exercise 8.  Create the histogram for the \"c_len\" columns (3 points)\n",
    "- The data is contained in the file chatgpt_fullwiki_eval.csv (and the dataframe you created in the previous exercises)\n",
    "- Note: the \"c_len\" columns stores the length of complex sentences "
   ]
  },
  {
   "cell_type": "code",
   "execution_count": 12,
   "metadata": {},
   "outputs": [
    {
     "data": {
      "text/plain": [
       "Text(0.5, 0, 'c_len')"
      ]
     },
     "execution_count": 12,
     "metadata": {},
     "output_type": "execute_result"
    },
    {
     "data": {
      "image/png": "[encoded data removed]",
      "text/plain": [
       "<Figure size 640x480 with 1 Axes>"
      ]
     },
     "metadata": {},
     "output_type": "display_data"
    }
   ],
   "source": [
    "# Histogram plot for c_len on all the data\n",
    "df[\"c_len\"].plot.hist(bins=20)\n",
    "plt.title(\"Histogram of the length of complex sentences\")\n",
    "plt.xlabel(\"c_len\")"
   ]
  },
  {
   "cell_type": "markdown",
   "metadata": {},
   "source": [
    "#### Exercise 9.  Create the histogram for \"c_len' (the length of complex sentences) only for those items  whose subject belong to the 'media' category (3 points)"
   ]
  },
  {
   "cell_type": "code",
   "execution_count": 13,
   "metadata": {},
   "outputs": [
    {
     "data": {
      "text/plain": [
       "Text(0.5, 0, 'c_len')"
      ]
     },
     "execution_count": 13,
     "metadata": {},
     "output_type": "execute_result"
    },
    {
     "data": {
      "image/png": "[encoded data removed]",
      "text/plain": [
       "<Figure size 640x480 with 1 Axes>"
      ]
     },
     "metadata": {},
     "output_type": "display_data"
    }
   ],
   "source": [
    "# Same histogram but only for the subject \"media\"\n",
    "df[\"c_len\"][df[\"subject\"] == \"media\"].plot.hist(bins=20)\n",
    "plt.title(\"Histogram of the length of complex sentences for the subject 'media'\")\n",
    "plt.xlabel(\"c_len\")"
   ]
  },
  {
   "cell_type": "markdown",
   "metadata": {},
   "source": [
    "#### Exercise 10.  Create the histogram for \"c_len' (the length of complex sentences) for each of the five subjects  with the subject as title (2 points)"
   ]
  },
  {
   "cell_type": "code",
   "execution_count": 29,
   "metadata": {},
   "outputs": [
    {
     "data": {
      "text/plain": [
       "(0.0, 1.0, 0.0, 1.0)"
      ]
     },
     "execution_count": 29,
     "metadata": {},
     "output_type": "execute_result"
    },
    {
     "data": {
      "image/png": "[encoded data removed]",
      "text/plain": [
       "<Figure size 640x480 with 6 Axes>"
      ]
     },
     "metadata": {},
     "output_type": "display_data"
    }
   ],
   "source": [
    "# Version 1: as multiple histograms\n",
    "fig, ax = plt.subplots(3,2)\n",
    "# Add some space between the subplots for readability of the titles and legends\n",
    "fig.subplots_adjust(hspace=0.5, wspace=0.6)\n",
    "\n",
    "for i, subj in enumerate(pd.unique(df[\"subject\"])):\n",
    "\n",
    "    r = i // 2\n",
    "    c = i % 2\n",
    "\n",
    "    ax[r,c].set_title(subj, fontsize=10)\n",
    "    \n",
    "    df[\"c_len\"][df[\"subject\"] == subj].plot.hist(bins=20, ax=ax[r,c])\n",
    "\n",
    "# Hide the last subplot\n",
    "ax[2,1].axis('off')"
   ]
  },
  {
   "cell_type": "code",
   "execution_count": 30,
   "metadata": {},
   "outputs": [
    {
     "data": {
      "text/plain": [
       "Text(0.5, 1.0, 'Histogram of the length of the context by subject')"
      ]
     },
     "execution_count": 30,
     "metadata": {},
     "output_type": "execute_result"
    },
    {
     "data": {
      "image/png": "[encoded data removed]",
      "text/plain": [
       "<Figure size 640x480 with 1 Axes>"
      ]
     },
     "metadata": {},
     "output_type": "display_data"
    }
   ],
   "source": [
    "# Version 2: As a single histogram\n",
    "\n",
    "for subj in pd.unique(df[\"subject\"]):\n",
    "    df[\"c_len\"][df[\"subject\"] == subj].plot.hist(bins=20, alpha=0.5, label=subj)\n",
    "\n",
    "# Adding the legend\n",
    "plt.legend(bbox_to_anchor=(1.05, 1), loc='upper left', borderaxespad=0.)\n",
    "plt.title(\"Histogram of the length of the context by subject\")"
   ]
  },
  {
   "cell_type": "markdown",
   "metadata": {},
   "source": [
    "## D. Tokenization and Sentence Segmentation"
   ]
  },
  {
   "cell_type": "code",
   "execution_count": 31,
   "metadata": {},
   "outputs": [
    {
     "data": {
      "text/plain": [
       "Index(['id', 'mr', 'team', 'text', 'category', 'type', 'bleu', 'meteor', 'ter',\n",
       "       'systemtype', 'triplesize', 'fluency', 'grammar', 'semantics'],\n",
       "      dtype='object')"
      ]
     },
     "execution_count": 31,
     "metadata": {},
     "output_type": "execute_result"
    }
   ],
   "source": [
    "df = pd.read_csv(\"wnlg_results.csv\",on_bad_lines='skip')\n",
    "df[\"text\"] = df[\"text\"].fillna(\"\")\n",
    "df.columns"
   ]
  },
  {
   "cell_type": "code",
   "execution_count": 32,
   "metadata": {},
   "outputs": [
    {
     "data": {
      "text/html": [
       "<div>\n",
       "<style scoped>\n",
       "    .dataframe tbody tr th:only-of-type {\n",
       "        vertical-align: middle;\n",
       "    }\n",
       "\n",
       "    .dataframe tbody tr th {\n",
       "        vertical-align: top;\n",
       "    }\n",
       "\n",
       "    .dataframe thead th {\n",
       "        text-align: right;\n",
       "    }\n",
       "</style>\n",
       "<table border=\"1\" class=\"dataframe\">\n",
       "  <thead>\n",
       "    <tr style=\"text-align: right;\">\n",
       "      <th></th>\n",
       "      <th>id</th>\n",
       "      <th>mr</th>\n",
       "      <th>team</th>\n",
       "      <th>text</th>\n",
       "      <th>category</th>\n",
       "      <th>type</th>\n",
       "      <th>bleu</th>\n",
       "      <th>meteor</th>\n",
       "      <th>ter</th>\n",
       "      <th>systemtype</th>\n",
       "      <th>triplesize</th>\n",
       "      <th>fluency</th>\n",
       "      <th>grammar</th>\n",
       "      <th>semantics</th>\n",
       "    </tr>\n",
       "  </thead>\n",
       "  <tbody>\n",
       "    <tr>\n",
       "      <th>0</th>\n",
       "      <td>1</td>\n",
       "      <td>(29075)_1950_DA | discoverer | Carl_A._Wirtanen</td>\n",
       "      <td>adapt</td>\n",
       "      <td>the 29075 club is the dictcoverer, carl a. wir...</td>\n",
       "      <td>CelestialBody</td>\n",
       "      <td>unseen</td>\n",
       "      <td>0.041</td>\n",
       "      <td>0.185956</td>\n",
       "      <td>90.909</td>\n",
       "      <td>neural</td>\n",
       "      <td>1triple</td>\n",
       "      <td>1.666667</td>\n",
       "      <td>1.666667</td>\n",
       "      <td>1.333333</td>\n",
       "    </tr>\n",
       "    <tr>\n",
       "      <th>1</th>\n",
       "      <td>2</td>\n",
       "      <td>(29075)_1950_DA | discoverer | Carl_A._Wirtanen</td>\n",
       "      <td>baseline</td>\n",
       "      <td>the administrative government is governed by t...</td>\n",
       "      <td>CelestialBody</td>\n",
       "      <td>unseen</td>\n",
       "      <td>0.034</td>\n",
       "      <td>0.046764</td>\n",
       "      <td>90.909</td>\n",
       "      <td>neural</td>\n",
       "      <td>1triple</td>\n",
       "      <td>2.750000</td>\n",
       "      <td>2.750000</td>\n",
       "      <td>1.000000</td>\n",
       "    </tr>\n",
       "    <tr>\n",
       "      <th>2</th>\n",
       "      <td>3</td>\n",
       "      <td>(29075)_1950_DA | discoverer | Carl_A._Wirtanen</td>\n",
       "      <td>melbourne</td>\n",
       "      <td>1950 da is carl a. wirtanen.</td>\n",
       "      <td>CelestialBody</td>\n",
       "      <td>unseen</td>\n",
       "      <td>0.066</td>\n",
       "      <td>0.320360</td>\n",
       "      <td>81.818</td>\n",
       "      <td>neural</td>\n",
       "      <td>1triple</td>\n",
       "      <td>2.000000</td>\n",
       "      <td>2.333333</td>\n",
       "      <td>1.000000</td>\n",
       "    </tr>\n",
       "    <tr>\n",
       "      <th>3</th>\n",
       "      <td>4</td>\n",
       "      <td>(29075)_1950_DA | discoverer | Carl_A._Wirtanen</td>\n",
       "      <td>pkuwriter</td>\n",
       "      <td>carl a. wirtanen discovered (29075) 1950 da.</td>\n",
       "      <td>CelestialBody</td>\n",
       "      <td>unseen</td>\n",
       "      <td>0.045</td>\n",
       "      <td>0.561305</td>\n",
       "      <td>54.545</td>\n",
       "      <td>neural</td>\n",
       "      <td>1triple</td>\n",
       "      <td>3.000000</td>\n",
       "      <td>2.666667</td>\n",
       "      <td>2.333333</td>\n",
       "    </tr>\n",
       "    <tr>\n",
       "      <th>4</th>\n",
       "      <td>5</td>\n",
       "      <td>(29075)_1950_DA | discoverer | Carl_A._Wirtanen</td>\n",
       "      <td>tilburg-nmt</td>\n",
       "      <td>the chair of (29075) 1950 da is carl a. wirtanen.</td>\n",
       "      <td>CelestialBody</td>\n",
       "      <td>unseen</td>\n",
       "      <td>0.076</td>\n",
       "      <td>0.430547</td>\n",
       "      <td>81.818</td>\n",
       "      <td>neural</td>\n",
       "      <td>1triple</td>\n",
       "      <td>1.750000</td>\n",
       "      <td>2.250000</td>\n",
       "      <td>1.500000</td>\n",
       "    </tr>\n",
       "  </tbody>\n",
       "</table>\n",
       "</div>"
      ],
      "text/plain": [
       "   id                                               mr         team  \\\n",
       "0   1  (29075)_1950_DA | discoverer | Carl_A._Wirtanen        adapt   \n",
       "1   2  (29075)_1950_DA | discoverer | Carl_A._Wirtanen     baseline   \n",
       "2   3  (29075)_1950_DA | discoverer | Carl_A._Wirtanen    melbourne   \n",
       "3   4  (29075)_1950_DA | discoverer | Carl_A._Wirtanen    pkuwriter   \n",
       "4   5  (29075)_1950_DA | discoverer | Carl_A._Wirtanen  tilburg-nmt   \n",
       "\n",
       "                                                text       category    type  \\\n",
       "0  the 29075 club is the dictcoverer, carl a. wir...  CelestialBody  unseen   \n",
       "1  the administrative government is governed by t...  CelestialBody  unseen   \n",
       "2                       1950 da is carl a. wirtanen.  CelestialBody  unseen   \n",
       "3       carl a. wirtanen discovered (29075) 1950 da.  CelestialBody  unseen   \n",
       "4  the chair of (29075) 1950 da is carl a. wirtanen.  CelestialBody  unseen   \n",
       "\n",
       "    bleu    meteor     ter systemtype triplesize   fluency   grammar  \\\n",
       "0  0.041  0.185956  90.909     neural    1triple  1.666667  1.666667   \n",
       "1  0.034  0.046764  90.909     neural    1triple  2.750000  2.750000   \n",
       "2  0.066  0.320360  81.818     neural    1triple  2.000000  2.333333   \n",
       "3  0.045  0.561305  54.545     neural    1triple  3.000000  2.666667   \n",
       "4  0.076  0.430547  81.818     neural    1triple  1.750000  2.250000   \n",
       "\n",
       "   semantics  \n",
       "0   1.333333  \n",
       "1   1.000000  \n",
       "2   1.000000  \n",
       "3   2.333333  \n",
       "4   1.500000  "
      ]
     },
     "execution_count": 32,
     "metadata": {},
     "output_type": "execute_result"
    }
   ],
   "source": [
    "df.head()"
   ]
  },
  {
   "cell_type": "markdown",
   "metadata": {},
   "source": [
    "#### Exercise 11. Extend the df dataframe created above with two columns named \"num_tokens\" and \"num_sents\" (4 points)\n",
    "\n",
    "- For each row in the df dataframe created above, compute the number of tokens and of sentences appearing in the 'text' column\n",
    "- Add the result in the corresponding new columns\n",
    "\n",
    "The headers of your dataframe should now look like this:\n",
    "\n",
    "['id', 'mr', 'team', 'text', 'category', 'type', 'bleu', 'meteor', 'ter',\n",
    "       'systemtype', 'triplesize', 'fluency', 'grammar', 'semantics',\n",
    "       'num_tokens', 'num_sentences']"
   ]
  },
  {
   "cell_type": "code",
   "execution_count": 33,
   "metadata": {},
   "outputs": [],
   "source": [
    "# We will need a linguistic library to count the sentences and tokens\n",
    "# Here I choose nltk"
   ]
  },
  {
   "cell_type": "code",
   "execution_count": 34,
   "metadata": {},
   "outputs": [],
   "source": [
    "# We can use pandas function 'apply'\n",
    "df[\"num_tokens\"] = df[\"text\"].apply(lambda x: len(nltk.word_tokenize(x)))\n",
    "df[\"num_sentences\"] = df[\"text\"].apply(lambda x: len(nltk.sent_tokenize(x)))"
   ]
  },
  {
   "cell_type": "code",
   "execution_count": 35,
   "metadata": {},
   "outputs": [
    {
     "data": {
      "text/html": [
       "<div>\n",
       "<style scoped>\n",
       "    .dataframe tbody tr th:only-of-type {\n",
       "        vertical-align: middle;\n",
       "    }\n",
       "\n",
       "    .dataframe tbody tr th {\n",
       "        vertical-align: top;\n",
       "    }\n",
       "\n",
       "    .dataframe thead th {\n",
       "        text-align: right;\n",
       "    }\n",
       "</style>\n",
       "<table border=\"1\" class=\"dataframe\">\n",
       "  <thead>\n",
       "    <tr style=\"text-align: right;\">\n",
       "      <th></th>\n",
       "      <th>text</th>\n",
       "      <th>num_tokens</th>\n",
       "      <th>num_sentences</th>\n",
       "    </tr>\n",
       "  </thead>\n",
       "  <tbody>\n",
       "    <tr>\n",
       "      <th>0</th>\n",
       "      <td>the 29075 club is the dictcoverer, carl a. wir...</td>\n",
       "      <td>11</td>\n",
       "      <td>1</td>\n",
       "    </tr>\n",
       "    <tr>\n",
       "      <th>1</th>\n",
       "      <td>the administrative government is governed by t...</td>\n",
       "      <td>10</td>\n",
       "      <td>1</td>\n",
       "    </tr>\n",
       "    <tr>\n",
       "      <th>2</th>\n",
       "      <td>1950 da is carl a. wirtanen.</td>\n",
       "      <td>7</td>\n",
       "      <td>1</td>\n",
       "    </tr>\n",
       "    <tr>\n",
       "      <th>3</th>\n",
       "      <td>carl a. wirtanen discovered (29075) 1950 da.</td>\n",
       "      <td>10</td>\n",
       "      <td>1</td>\n",
       "    </tr>\n",
       "    <tr>\n",
       "      <th>4</th>\n",
       "      <td>the chair of (29075) 1950 da is carl a. wirtanen.</td>\n",
       "      <td>13</td>\n",
       "      <td>1</td>\n",
       "    </tr>\n",
       "  </tbody>\n",
       "</table>\n",
       "</div>"
      ],
      "text/plain": [
       "                                                text  num_tokens  \\\n",
       "0  the 29075 club is the dictcoverer, carl a. wir...          11   \n",
       "1  the administrative government is governed by t...          10   \n",
       "2                       1950 da is carl a. wirtanen.           7   \n",
       "3       carl a. wirtanen discovered (29075) 1950 da.          10   \n",
       "4  the chair of (29075) 1950 da is carl a. wirtanen.          13   \n",
       "\n",
       "   num_sentences  \n",
       "0              1  \n",
       "1              1  \n",
       "2              1  \n",
       "3              1  \n",
       "4              1  "
      ]
     },
     "execution_count": 35,
     "metadata": {},
     "output_type": "execute_result"
    }
   ],
   "source": [
    "df[[\"text\", \"num_tokens\", \"num_sentences\"]].head()"
   ]
  },
  {
   "cell_type": "markdown",
   "metadata": {},
   "source": [
    "#### Exercise 12. Create boxplots for the number of tokens produced by each of the four type of systems (2 points)\n",
    "\n",
    "The \"systemtype\" column indicates a system type (the type of system used to generate to sentences). \n",
    "There are 4 system types ('neural', 'template', 'smt', 'human'). \n",
    "\n",
    "- Create a boxplot for each system type and assign it the correponding title"
   ]
  },
  {
   "cell_type": "code",
   "execution_count": 36,
   "metadata": {},
   "outputs": [
    {
     "name": "stdout",
     "output_type": "stream",
     "text": [
      "['neural', 'template', 'smt', 'human']\n"
     ]
    }
   ],
   "source": [
    "# Checking the different types of systems\n",
    "systems = list(pd.unique(df[\"systemtype\"]))\n",
    "print(systems)"
   ]
  },
  {
   "cell_type": "code",
   "execution_count": 37,
   "metadata": {},
   "outputs": [
    {
     "name": "stderr",
     "output_type": "stream",
     "text": [
      "No artists with labels found to put in legend.  Note that artists whose label start with an underscore are ignored when legend() is called with no argument.\n"
     ]
    },
    {
     "data": {
      "text/plain": [
       "<matplotlib.legend.Legend at 0x128ed94c430>"
      ]
     },
     "execution_count": 37,
     "metadata": {},
     "output_type": "execute_result"
    },
    {
     "data": {
      "image/png": "[encoded data removed]",
      "text/plain": [
       "<Figure size 640x480 with 4 Axes>"
      ]
     },
     "metadata": {},
     "output_type": "display_data"
    }
   ],
   "source": [
    "# Version 1: as multiple boxplots\n",
    "fig, ax = plt.subplots(2, 2)\n",
    "\n",
    "for i, sys in enumerate(systems):\n",
    "    \n",
    "    r = i // 2\n",
    "    c = i % 2\n",
    "\n",
    "    ax[r,c].set_title(sys)\n",
    "    \n",
    "    # Plot the corresponding boxplot\n",
    "    df[\"num_tokens\"][df[\"systemtype\"] == sys].plot.box(ax=ax[r,c])\n",
    "\n",
    "# Add the legend\n",
    "plt.legend(bbox_to_anchor=(1.05, 1), loc='upper left', borderaxespad=0.)"
   ]
  },
  {
   "cell_type": "code",
   "execution_count": 38,
   "metadata": {},
   "outputs": [
    {
     "data": {
      "text/plain": [
       "<AxesSubplot: title={'center': 'num_tokens'}, xlabel='systemtype'>"
      ]
     },
     "execution_count": 38,
     "metadata": {},
     "output_type": "execute_result"
    },
    {
     "data": {
      "image/png": "[encoded data removed]",
      "text/plain": [
       "<Figure size 640x480 with 1 Axes>"
      ]
     },
     "metadata": {},
     "output_type": "display_data"
    }
   ],
   "source": [
    "# Version 2: as a single boxplot\n",
    "df.boxplot(column=\"num_tokens\", by=\"systemtype\", grid = False)"
   ]
  },
  {
   "cell_type": "markdown",
   "metadata": {},
   "source": [
    "## E. Statistics\n",
    "\n",
    "Correlation and scatter plots"
   ]
  },
  {
   "cell_type": "markdown",
   "metadata": {},
   "source": [
    "#### Exercise 13.  Compute the correlation between number of tokens and number of sentences (2 points)\n",
    "- Note: if you did not do Exercise 11, you can load the \"tokens_and_sentences.csv\" file and use its \"num_tokens\" and \"num_sentences\" columns as input values."
   ]
  },
  {
   "cell_type": "code",
   "execution_count": 39,
   "metadata": {},
   "outputs": [
    {
     "data": {
      "text/html": [
       "<div>\n",
       "<style scoped>\n",
       "    .dataframe tbody tr th:only-of-type {\n",
       "        vertical-align: middle;\n",
       "    }\n",
       "\n",
       "    .dataframe tbody tr th {\n",
       "        vertical-align: top;\n",
       "    }\n",
       "\n",
       "    .dataframe thead th {\n",
       "        text-align: right;\n",
       "    }\n",
       "</style>\n",
       "<table border=\"1\" class=\"dataframe\">\n",
       "  <thead>\n",
       "    <tr style=\"text-align: right;\">\n",
       "      <th></th>\n",
       "      <th>num_tokens</th>\n",
       "      <th>num_sentences</th>\n",
       "    </tr>\n",
       "  </thead>\n",
       "  <tbody>\n",
       "    <tr>\n",
       "      <th>num_tokens</th>\n",
       "      <td>1.000000</td>\n",
       "      <td>0.740418</td>\n",
       "    </tr>\n",
       "    <tr>\n",
       "      <th>num_sentences</th>\n",
       "      <td>0.740418</td>\n",
       "      <td>1.000000</td>\n",
       "    </tr>\n",
       "  </tbody>\n",
       "</table>\n",
       "</div>"
      ],
      "text/plain": [
       "               num_tokens  num_sentences\n",
       "num_tokens       1.000000       0.740418\n",
       "num_sentences    0.740418       1.000000"
      ]
     },
     "execution_count": 39,
     "metadata": {},
     "output_type": "execute_result"
    }
   ],
   "source": [
    "df[[\"num_tokens\", \"num_sentences\"]].corr()\n",
    "# So we see a 0.74 (positive) correlation between the number of tokens and sentences. This is not surprising,\n",
    "# as we intuitively expect that the more sentences there are, the more tokens there are.\n",
    "# NB: this is, by default, the pearson correlation."
   ]
  },
  {
   "cell_type": "markdown",
   "metadata": {},
   "source": [
    "#### Exercise 14.  Compute a scatter plot where x is the number of tokens and y the number of sentences (2 points)\n",
    "- Note: if you did not do Exercise 11, you can load the \"tokens_and_sentences.csv\" file and use its \"num_tokens\" and \"num_sentences\" columns as input values."
   ]
  },
  {
   "cell_type": "code",
   "execution_count": 40,
   "metadata": {},
   "outputs": [
    {
     "data": {
      "text/plain": [
       "Text(0.5, 1.0, 'Scatter plot of the number of tokens and sentences')"
      ]
     },
     "execution_count": 40,
     "metadata": {},
     "output_type": "execute_result"
    },
    {
     "data": {
      "image/png": "[encoded data removed]",
      "text/plain": [
       "<Figure size 640x480 with 1 Axes>"
      ]
     },
     "metadata": {},
     "output_type": "display_data"
    }
   ],
   "source": [
    "df[[\"num_tokens\", \"num_sentences\"]].plot.scatter(x = \"num_tokens\", y = \"num_sentences\")\n",
    "plt.title(\"Scatter plot of the number of tokens and sentences\")"
   ]
  },
  {
   "cell_type": "markdown",
   "metadata": {},
   "source": [
    "## F. Classification\n",
    "\n",
    "Classify answers from the ELI Reddit corpus.   \n",
    "- The ELI Reddit corpus gathers question/answer pairs from the \"Explain Like I am 5\" Reddit forum.\n",
    "- In the eli5questions.csv file, the \"answer\" column is the text of an answer and the \"topic\" column indicates the topic of the answer which is either 'Chemistry', 'Other' or 'Physics"
   ]
  },
  {
   "cell_type": "code",
   "execution_count": 41,
   "metadata": {},
   "outputs": [
    {
     "data": {
      "text/plain": [
       "id                                                        1\n",
       "answer    In Europe you have the time of bottling printe...\n",
       "score                                                1400.0\n",
       "topic                                             Chemistry\n",
       "Name: 1, dtype: object"
      ]
     },
     "execution_count": 41,
     "metadata": {},
     "output_type": "execute_result"
    }
   ],
   "source": [
    "df = pd.read_csv(\"eli5questions.csv\")\n",
    "df.iloc[1]"
   ]
  },
  {
   "cell_type": "code",
   "execution_count": 42,
   "metadata": {},
   "outputs": [
    {
     "data": {
      "text/plain": [
       "Index(['id', 'answer', 'score', 'topic'], dtype='object')"
      ]
     },
     "execution_count": 42,
     "metadata": {},
     "output_type": "execute_result"
    }
   ],
   "source": [
    "df.columns"
   ]
  },
  {
   "cell_type": "code",
   "execution_count": 43,
   "metadata": {},
   "outputs": [
    {
     "data": {
      "text/plain": [
       "id                                                        1\n",
       "answer    In Europe you have the time of bottling printe...\n",
       "score                                                1400.0\n",
       "topic                                             Chemistry\n",
       "Name: 1, dtype: object"
      ]
     },
     "execution_count": 43,
     "metadata": {},
     "output_type": "execute_result"
    }
   ],
   "source": [
    "df.iloc[1]"
   ]
  },
  {
   "cell_type": "code",
   "execution_count": 44,
   "metadata": {},
   "outputs": [
    {
     "data": {
      "text/plain": [
       "array(['Chemistry', 'Other', 'Physics'], dtype=object)"
      ]
     },
     "execution_count": 44,
     "metadata": {},
     "output_type": "execute_result"
    }
   ],
   "source": [
    "df['topic'].unique()"
   ]
  },
  {
   "cell_type": "code",
   "execution_count": 45,
   "metadata": {},
   "outputs": [
    {
     "data": {
      "text/html": [
       "<div>\n",
       "<style scoped>\n",
       "    .dataframe tbody tr th:only-of-type {\n",
       "        vertical-align: middle;\n",
       "    }\n",
       "\n",
       "    .dataframe tbody tr th {\n",
       "        vertical-align: top;\n",
       "    }\n",
       "\n",
       "    .dataframe thead th {\n",
       "        text-align: right;\n",
       "    }\n",
       "</style>\n",
       "<table border=\"1\" class=\"dataframe\">\n",
       "  <thead>\n",
       "    <tr style=\"text-align: right;\">\n",
       "      <th></th>\n",
       "      <th>id</th>\n",
       "      <th>answer</th>\n",
       "      <th>score</th>\n",
       "      <th>topic</th>\n",
       "    </tr>\n",
       "  </thead>\n",
       "  <tbody>\n",
       "    <tr>\n",
       "      <th>0</th>\n",
       "      <td>0</td>\n",
       "      <td>Whoever said that is wrong.The FDA and IWBA ca...</td>\n",
       "      <td>14100.0</td>\n",
       "      <td>Chemistry</td>\n",
       "    </tr>\n",
       "    <tr>\n",
       "      <th>1</th>\n",
       "      <td>1</td>\n",
       "      <td>In Europe you have the time of bottling printe...</td>\n",
       "      <td>1400.0</td>\n",
       "      <td>Chemistry</td>\n",
       "    </tr>\n",
       "    <tr>\n",
       "      <th>2</th>\n",
       "      <td>2</td>\n",
       "      <td>I’d hate to be “that guy” but I was looking an...</td>\n",
       "      <td>47.0</td>\n",
       "      <td>Chemistry</td>\n",
       "    </tr>\n",
       "    <tr>\n",
       "      <th>3</th>\n",
       "      <td>3</td>\n",
       "      <td>I've heard of several studies that conclude th...</td>\n",
       "      <td>195.0</td>\n",
       "      <td>Chemistry</td>\n",
       "    </tr>\n",
       "    <tr>\n",
       "      <th>4</th>\n",
       "      <td>4</td>\n",
       "      <td>UV and heat will degrade the material however.</td>\n",
       "      <td>15.0</td>\n",
       "      <td>Chemistry</td>\n",
       "    </tr>\n",
       "  </tbody>\n",
       "</table>\n",
       "</div>"
      ],
      "text/plain": [
       "   id                                             answer    score      topic\n",
       "0   0  Whoever said that is wrong.The FDA and IWBA ca...  14100.0  Chemistry\n",
       "1   1  In Europe you have the time of bottling printe...   1400.0  Chemistry\n",
       "2   2  I’d hate to be “that guy” but I was looking an...     47.0  Chemistry\n",
       "3   3  I've heard of several studies that conclude th...    195.0  Chemistry\n",
       "4   4     UV and heat will degrade the material however.     15.0  Chemistry"
      ]
     },
     "execution_count": 45,
     "metadata": {},
     "output_type": "execute_result"
    }
   ],
   "source": [
    "df.head()"
   ]
  },
  {
   "cell_type": "markdown",
   "metadata": {},
   "source": [
    "#### Exercise 15. Add a \"label\" column  (4 points)\n",
    "- Machine learning only works on numbers so to train the classifier we need to convert the text labels (Chemistry, Physics, Others) to integers the idea being that each topic is assigned to a unique interger e.g., 1 for 'Chemistry', 1 for \"Other\" and 3 for \"Physics\". The exercise requires you to create a 'label' column whose content is the topic of the answers in their integer form .\n",
    "- To help you out I outline how this can be done in 3 steps. Feel free to do it differently if you wish."
   ]
  },
  {
   "cell_type": "code",
   "execution_count": 46,
   "metadata": {},
   "outputs": [],
   "source": [
    "# Collecting topics\n",
    "topics = list(df['topic'].unique())\n",
    "\n",
    "# Creating an indexing dictionary\n",
    "d = {}\n",
    "for i, t in enumerate(topics):\n",
    "    d[t] = i + 1 # because I'd rather start at 1 than 0\n",
    "\n",
    "# Converting topics into integers\n",
    "df[\"label\"] = df[\"topic\"].apply(lambda t: d[t])"
   ]
  },
  {
   "cell_type": "code",
   "execution_count": 47,
   "metadata": {},
   "outputs": [
    {
     "name": "stdout",
     "output_type": "stream",
     "text": [
      "{'Chemistry': 1, 'Other': 2, 'Physics': 3}\n"
     ]
    }
   ],
   "source": [
    "print(d)"
   ]
  },
  {
   "cell_type": "code",
   "execution_count": 48,
   "metadata": {},
   "outputs": [
    {
     "data": {
      "text/html": [
       "<div>\n",
       "<style scoped>\n",
       "    .dataframe tbody tr th:only-of-type {\n",
       "        vertical-align: middle;\n",
       "    }\n",
       "\n",
       "    .dataframe tbody tr th {\n",
       "        vertical-align: top;\n",
       "    }\n",
       "\n",
       "    .dataframe thead th {\n",
       "        text-align: right;\n",
       "    }\n",
       "</style>\n",
       "<table border=\"1\" class=\"dataframe\">\n",
       "  <thead>\n",
       "    <tr style=\"text-align: right;\">\n",
       "      <th></th>\n",
       "      <th>id</th>\n",
       "      <th>answer</th>\n",
       "      <th>score</th>\n",
       "      <th>topic</th>\n",
       "      <th>label</th>\n",
       "    </tr>\n",
       "  </thead>\n",
       "  <tbody>\n",
       "    <tr>\n",
       "      <th>0</th>\n",
       "      <td>0</td>\n",
       "      <td>Whoever said that is wrong.The FDA and IWBA ca...</td>\n",
       "      <td>14100.0</td>\n",
       "      <td>Chemistry</td>\n",
       "      <td>1</td>\n",
       "    </tr>\n",
       "    <tr>\n",
       "      <th>1</th>\n",
       "      <td>1</td>\n",
       "      <td>In Europe you have the time of bottling printe...</td>\n",
       "      <td>1400.0</td>\n",
       "      <td>Chemistry</td>\n",
       "      <td>1</td>\n",
       "    </tr>\n",
       "    <tr>\n",
       "      <th>2</th>\n",
       "      <td>2</td>\n",
       "      <td>I’d hate to be “that guy” but I was looking an...</td>\n",
       "      <td>47.0</td>\n",
       "      <td>Chemistry</td>\n",
       "      <td>1</td>\n",
       "    </tr>\n",
       "    <tr>\n",
       "      <th>3</th>\n",
       "      <td>3</td>\n",
       "      <td>I've heard of several studies that conclude th...</td>\n",
       "      <td>195.0</td>\n",
       "      <td>Chemistry</td>\n",
       "      <td>1</td>\n",
       "    </tr>\n",
       "    <tr>\n",
       "      <th>4</th>\n",
       "      <td>4</td>\n",
       "      <td>UV and heat will degrade the material however.</td>\n",
       "      <td>15.0</td>\n",
       "      <td>Chemistry</td>\n",
       "      <td>1</td>\n",
       "    </tr>\n",
       "  </tbody>\n",
       "</table>\n",
       "</div>"
      ],
      "text/plain": [
       "   id                                             answer    score      topic  \\\n",
       "0   0  Whoever said that is wrong.The FDA and IWBA ca...  14100.0  Chemistry   \n",
       "1   1  In Europe you have the time of bottling printe...   1400.0  Chemistry   \n",
       "2   2  I’d hate to be “that guy” but I was looking an...     47.0  Chemistry   \n",
       "3   3  I've heard of several studies that conclude th...    195.0  Chemistry   \n",
       "4   4     UV and heat will degrade the material however.     15.0  Chemistry   \n",
       "\n",
       "   label  \n",
       "0      1  \n",
       "1      1  \n",
       "2      1  \n",
       "3      1  \n",
       "4      1  "
      ]
     },
     "execution_count": 48,
     "metadata": {},
     "output_type": "execute_result"
    }
   ],
   "source": [
    "df.head()"
   ]
  },
  {
   "cell_type": "markdown",
   "metadata": {},
   "source": [
    "#### Exercise 16.  Create training and test data (2 points)\n",
    "- The classifier takes as input a text x and output a topic label e.g., 1, 2 or 3. \n",
    "- To train the classifier we need X, a list of texts (from the 'answer' column) and Y, the corresponding list of integer labels (from the 'label' column)\n",
    "- Extract texts (answers) and labels from the dataframe and split the resulting data into train and test"
   ]
  },
  {
   "cell_type": "markdown",
   "metadata": {},
   "source": [
    "**Note:** If you did not do Exercise 15, use the code below to load the text and label data directly from the eli5_with_labels.csv file"
   ]
  },
  {
   "cell_type": "code",
   "execution_count": 77,
   "metadata": {},
   "outputs": [],
   "source": [
    "# df.to_csv('eli5_with_labels.csv', encoding='utf-8', index = False)\n",
    "# df = pd.read_csv(\"eli5_with_labels.csv\", sep = \",\")\n",
    "# df.columns"
   ]
  },
  {
   "cell_type": "code",
   "execution_count": 49,
   "metadata": {},
   "outputs": [],
   "source": [
    "# before splitting, we need to shuffle the data\n",
    "from sklearn.utils import shuffle\n",
    "df = shuffle(df, random_state = 42)\n",
    "\n",
    "X = df[\"answer\"] # the input\n",
    "Y = df[\"label\"] # the output"
   ]
  },
  {
   "cell_type": "code",
   "execution_count": 50,
   "metadata": {},
   "outputs": [],
   "source": [
    "X_train, X_test, Y_train, Y_test = train_test_split(X, Y, test_size=0.2)"
   ]
  },
  {
   "cell_type": "code",
   "execution_count": 51,
   "metadata": {},
   "outputs": [
    {
     "name": "stdout",
     "output_type": "stream",
     "text": [
      "(1736,)\n",
      "(434,)\n",
      "(1736,)\n",
      "(434,)\n"
     ]
    }
   ],
   "source": [
    "print(X_train.shape)\n",
    "print(X_test.shape)\n",
    "print(Y_train.shape)\n",
    "print(Y_test.shape)"
   ]
  },
  {
   "cell_type": "markdown",
   "metadata": {},
   "source": [
    "#### Exercise 17. Vectorize the data (2 points)"
   ]
  },
  {
   "cell_type": "code",
   "execution_count": 52,
   "metadata": {},
   "outputs": [
    {
     "name": "stderr",
     "output_type": "stream",
     "text": [
      "c:\\Users\\bleuze3u\\AppData\\Local\\Programs\\Python\\Python310\\lib\\site-packages\\sklearn\\feature_extraction\\text.py:528: UserWarning: The parameter 'token_pattern' will not be used since 'tokenizer' is not None'\n",
      "  warnings.warn(\n"
     ]
    }
   ],
   "source": [
    "# We will vectorize the data using Tf Idf\n",
    "vect = TfidfVectorizer(stop_words=\"english\",\n",
    "                       tokenizer = nltk.word_tokenize,\n",
    "                       use_idf= True)\n",
    "\n",
    "# Fit and transform the vectorizer on the training set and the test set\n",
    "X_train_vect = vect.fit_transform(X_train)\n",
    "X_test_vect = vect.transform(X_test)"
   ]
  },
  {
   "cell_type": "code",
   "execution_count": 53,
   "metadata": {},
   "outputs": [
    {
     "name": "stdout",
     "output_type": "stream",
     "text": [
      "11908 ['!' '#' '$' ... '😉' '😭' '🥇']\n"
     ]
    }
   ],
   "source": [
    "feats = vect.get_feature_names_out()\n",
    "print(len(feats), feats)"
   ]
  },
  {
   "cell_type": "code",
   "execution_count": 54,
   "metadata": {},
   "outputs": [],
   "source": [
    "## We see that we have a very large number of features (11874). In parallel, I will replicate the experiment,\n",
    "# This time using only 500 features, in order to see if this affects the results. Actually, some pre-precessing\n",
    "# (removing punctuation for instance) could help reduce the total number of features.\n",
    "\n",
    "red_vect = TfidfVectorizer(stop_words=\"english\",\n",
    "                        tokenizer = nltk.word_tokenize,\n",
    "                        max_features=500,\n",
    "                        use_idf= True)\n",
    "\n",
    "red_X_train_vect = red_vect.fit_transform(X_train)\n",
    "red_X_test_vect = red_vect.transform(X_test)"
   ]
  },
  {
   "cell_type": "code",
   "execution_count": 55,
   "metadata": {},
   "outputs": [
    {
     "name": "stdout",
     "output_type": "stream",
     "text": [
      "(1736, 11908) (1736, 500)\n"
     ]
    }
   ],
   "source": [
    "print(X_train_vect.shape, red_X_train_vect.shape)"
   ]
  },
  {
   "cell_type": "markdown",
   "metadata": {},
   "source": [
    "#### Exercise  18. Train a Perceptron model, apply it to the test data and print out the accuracy (2 points)"
   ]
  },
  {
   "cell_type": "code",
   "execution_count": 56,
   "metadata": {},
   "outputs": [
    {
     "name": "stdout",
     "output_type": "stream",
     "text": [
      "      expected  predicted\n",
      "285          1          1\n",
      "890          2          1\n",
      "592          1          2\n",
      "1180         2          1\n",
      "1608         3          3\n",
      "\n",
      "Accuracy:  0.6889400921658986\n"
     ]
    }
   ],
   "source": [
    "# All features\n",
    "# create a perceptron object\n",
    "p = Perceptron(random_state=42)\n",
    "\n",
    "# train the perceptron\n",
    "p.fit(X_train_vect, Y_train)\n",
    "\n",
    "# test the model\n",
    "Y_pred = p.predict(X_test_vect) \n",
    "\n",
    "# print expected vs predicted\n",
    "pred_vs_exp = pd.DataFrame({\"expected\": Y_test, \"predicted\": Y_pred})\n",
    "print(pred_vs_exp.head())\n",
    "\n",
    "# print accuracy\n",
    "print(\"\\nAccuracy: \", accuracy_score(Y_test, Y_pred))"
   ]
  },
  {
   "cell_type": "code",
   "execution_count": 57,
   "metadata": {},
   "outputs": [
    {
     "name": "stdout",
     "output_type": "stream",
     "text": [
      "      expected  predicted\n",
      "285          1          1\n",
      "890          2          1\n",
      "592          1          2\n",
      "1180         2          1\n",
      "1608         3          3\n",
      "\n",
      "Accuracy:  0.5184331797235023\n",
      "This is a lower accuracy than with all features\n"
     ]
    }
   ],
   "source": [
    "# Now using only 500 features\n",
    "# create a perceptron object\n",
    "p = Perceptron(random_state=42)\n",
    "\n",
    "# train the perceptron\n",
    "p.fit(red_X_train_vect, Y_train)\n",
    "\n",
    "# test the model\n",
    "Y_pred = p.predict(red_X_test_vect) \n",
    "\n",
    "# print expected vs predicted\n",
    "pred_vs_exp = pd.DataFrame({\"expected\": Y_test, \"predicted\": Y_pred})\n",
    "print(pred_vs_exp.head())\n",
    "\n",
    "# print accuracy\n",
    "print(\"\\nAccuracy: \", accuracy_score(Y_test, Y_pred))\n",
    "print(\"This is a lower accuracy than with all features\")"
   ]
  }
 ],
 "metadata": {
  "kernelspec": {
   "display_name": "Python 3",
   "language": "python",
   "name": "python3"
  },
  "language_info": {
   "codemirror_mode": {
    "name": "ipython",
    "version": 3
   },
   "file_extension": ".py",
   "mimetype": "text/x-python",
   "name": "python",
   "nbconvert_exporter": "python",
   "pygments_lexer": "ipython3",
   "version": "3.10.10"
  },
  "vscode": {
   "interpreter": {
    "hash": "3de7a084b318d7b8bf96005cb5db4da14a27f60df0465391ef48a4c336f03bfe"
   }
  }
 },
 "nbformat": 4,
 "nbformat_minor": 4
}
