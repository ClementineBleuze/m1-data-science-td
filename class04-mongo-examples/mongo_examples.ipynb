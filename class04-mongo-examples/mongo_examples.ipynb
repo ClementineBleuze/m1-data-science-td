{
 "cells": [
  {
   "attachments": {},
   "cell_type": "markdown",
   "id": "c9b5e4b6",
   "metadata": {},
   "source": [
    "# MongoDB"
   ]
  },
  {
   "cell_type": "code",
   "execution_count": 1,
   "id": "a3fedecc",
   "metadata": {},
   "outputs": [
    {
     "data": {
      "text/plain": [
       "list"
      ]
     },
     "execution_count": 1,
     "metadata": {},
     "output_type": "execute_result"
    }
   ],
   "source": [
    "import pymongo\n",
    "from pymongo import MongoClient\n",
    "\n",
    "cars = [ {'name': 'Audi', 'price': 52642},\n",
    "    {'name': 'Mercedes', 'price': 57127},\n",
    "    {'name': 'Skoda', 'price': 9000},\n",
    "    {'name': 'Volvo', 'price': 29000},\n",
    "    {'name': 'Bentley', 'price': 350000},\n",
    "    {'name': 'Citroen', 'price': 21000},\n",
    "    {'name': 'Hummer', 'price': 41400},\n",
    "    {'name': 'Volkswagen', 'price': 21600} ]\n",
    "\n",
    "type(cars)"
   ]
  },
  {
   "cell_type": "code",
   "execution_count": 4,
   "id": "8960a8db",
   "metadata": {},
   "outputs": [
    {
     "ename": "ServerSelectionTimeoutError",
     "evalue": "127.0.0.1:27017: [WinError 10061] Aucune connexion n’a pu être établie car l’ordinateur cible l’a expressément refusée, Timeout: 30s, Topology Description: <TopologyDescription id: 640eccf0cf1b1c2daaf94890, topology_type: Unknown, servers: [<ServerDescription ('127.0.0.1', 27017) server_type: Unknown, rtt: None, error=AutoReconnect('127.0.0.1:27017: [WinError 10061] Aucune connexion n’a pu être établie car l’ordinateur cible l’a expressément refusée')>]>",
     "output_type": "error",
     "traceback": [
      "\u001b[1;31m---------------------------------------------------------------------------\u001b[0m",
      "\u001b[1;31mServerSelectionTimeoutError\u001b[0m               Traceback (most recent call last)",
      "Cell \u001b[1;32mIn[4], line 4\u001b[0m\n\u001b[0;32m      2\u001b[0m \u001b[39mwith\u001b[39;00m client:\n\u001b[0;32m      3\u001b[0m     db \u001b[39m=\u001b[39m client\u001b[39m.\u001b[39mtestdb\n\u001b[1;32m----> 4\u001b[0m     db\u001b[39m.\u001b[39;49mcars\u001b[39m.\u001b[39;49minsert_many(cars)\n",
      "File \u001b[1;32mc:\\Users\\bleuze3u\\AppData\\Local\\Programs\\Python\\Python310\\lib\\site-packages\\pymongo\\_csot.py:105\u001b[0m, in \u001b[0;36mapply.<locals>.csot_wrapper\u001b[1;34m(self, *args, **kwargs)\u001b[0m\n\u001b[0;32m    103\u001b[0m         \u001b[39mwith\u001b[39;00m _TimeoutContext(timeout):\n\u001b[0;32m    104\u001b[0m             \u001b[39mreturn\u001b[39;00m func(\u001b[39mself\u001b[39m, \u001b[39m*\u001b[39margs, \u001b[39m*\u001b[39m\u001b[39m*\u001b[39mkwargs)\n\u001b[1;32m--> 105\u001b[0m \u001b[39mreturn\u001b[39;00m func(\u001b[39mself\u001b[39m, \u001b[39m*\u001b[39margs, \u001b[39m*\u001b[39m\u001b[39m*\u001b[39mkwargs)\n",
      "File \u001b[1;32mc:\\Users\\bleuze3u\\AppData\\Local\\Programs\\Python\\Python310\\lib\\site-packages\\pymongo\\collection.py:714\u001b[0m, in \u001b[0;36mCollection.insert_many\u001b[1;34m(self, documents, ordered, bypass_document_validation, session, comment)\u001b[0m\n\u001b[0;32m    712\u001b[0m blk \u001b[39m=\u001b[39m _Bulk(\u001b[39mself\u001b[39m, ordered, bypass_document_validation, comment\u001b[39m=\u001b[39mcomment)\n\u001b[0;32m    713\u001b[0m blk\u001b[39m.\u001b[39mops \u001b[39m=\u001b[39m [doc \u001b[39mfor\u001b[39;00m doc \u001b[39min\u001b[39;00m gen()]\n\u001b[1;32m--> 714\u001b[0m blk\u001b[39m.\u001b[39;49mexecute(write_concern, session\u001b[39m=\u001b[39;49msession)\n\u001b[0;32m    715\u001b[0m \u001b[39mreturn\u001b[39;00m InsertManyResult(inserted_ids, write_concern\u001b[39m.\u001b[39macknowledged)\n",
      "File \u001b[1;32mc:\\Users\\bleuze3u\\AppData\\Local\\Programs\\Python\\Python310\\lib\\site-packages\\pymongo\\bulk.py:513\u001b[0m, in \u001b[0;36m_Bulk.execute\u001b[1;34m(self, write_concern, session)\u001b[0m\n\u001b[0;32m    511\u001b[0m         \u001b[39mself\u001b[39m\u001b[39m.\u001b[39mexecute_no_results(sock_info, generator, write_concern)\n\u001b[0;32m    512\u001b[0m \u001b[39melse\u001b[39;00m:\n\u001b[1;32m--> 513\u001b[0m     \u001b[39mreturn\u001b[39;00m \u001b[39mself\u001b[39;49m\u001b[39m.\u001b[39;49mexecute_command(generator, write_concern, session)\n",
      "File \u001b[1;32mc:\\Users\\bleuze3u\\AppData\\Local\\Programs\\Python\\Python310\\lib\\site-packages\\pymongo\\bulk.py:390\u001b[0m, in \u001b[0;36m_Bulk.execute_command\u001b[1;34m(self, generator, write_concern, session)\u001b[0m\n\u001b[0;32m    385\u001b[0m     \u001b[39mself\u001b[39m\u001b[39m.\u001b[39m_execute_command(\n\u001b[0;32m    386\u001b[0m         generator, write_concern, session, sock_info, op_id, retryable, full_result\n\u001b[0;32m    387\u001b[0m     )\n\u001b[0;32m    389\u001b[0m client \u001b[39m=\u001b[39m \u001b[39mself\u001b[39m\u001b[39m.\u001b[39mcollection\u001b[39m.\u001b[39mdatabase\u001b[39m.\u001b[39mclient\n\u001b[1;32m--> 390\u001b[0m \u001b[39mwith\u001b[39;00m client\u001b[39m.\u001b[39m_tmp_session(session) \u001b[39mas\u001b[39;00m s:\n\u001b[0;32m    391\u001b[0m     client\u001b[39m.\u001b[39m_retry_with_session(\u001b[39mself\u001b[39m\u001b[39m.\u001b[39mis_retryable, retryable_bulk, s, \u001b[39mself\u001b[39m)\n\u001b[0;32m    393\u001b[0m \u001b[39mif\u001b[39;00m full_result[\u001b[39m\"\u001b[39m\u001b[39mwriteErrors\u001b[39m\u001b[39m\"\u001b[39m] \u001b[39mor\u001b[39;00m full_result[\u001b[39m\"\u001b[39m\u001b[39mwriteConcernErrors\u001b[39m\u001b[39m\"\u001b[39m]:\n",
      "File \u001b[1;32mc:\\Users\\bleuze3u\\AppData\\Local\\Programs\\Python\\Python310\\lib\\contextlib.py:135\u001b[0m, in \u001b[0;36m_GeneratorContextManager.__enter__\u001b[1;34m(self)\u001b[0m\n\u001b[0;32m    133\u001b[0m \u001b[39mdel\u001b[39;00m \u001b[39mself\u001b[39m\u001b[39m.\u001b[39margs, \u001b[39mself\u001b[39m\u001b[39m.\u001b[39mkwds, \u001b[39mself\u001b[39m\u001b[39m.\u001b[39mfunc\n\u001b[0;32m    134\u001b[0m \u001b[39mtry\u001b[39;00m:\n\u001b[1;32m--> 135\u001b[0m     \u001b[39mreturn\u001b[39;00m \u001b[39mnext\u001b[39;49m(\u001b[39mself\u001b[39;49m\u001b[39m.\u001b[39;49mgen)\n\u001b[0;32m    136\u001b[0m \u001b[39mexcept\u001b[39;00m \u001b[39mStopIteration\u001b[39;00m:\n\u001b[0;32m    137\u001b[0m     \u001b[39mraise\u001b[39;00m \u001b[39mRuntimeError\u001b[39;00m(\u001b[39m\"\u001b[39m\u001b[39mgenerator didn\u001b[39m\u001b[39m'\u001b[39m\u001b[39mt yield\u001b[39m\u001b[39m\"\u001b[39m) \u001b[39mfrom\u001b[39;00m \u001b[39mNone\u001b[39m\n",
      "File \u001b[1;32mc:\\Users\\bleuze3u\\AppData\\Local\\Programs\\Python\\Python310\\lib\\site-packages\\pymongo\\mongo_client.py:1757\u001b[0m, in \u001b[0;36mMongoClient._tmp_session\u001b[1;34m(self, session, close)\u001b[0m\n\u001b[0;32m   1754\u001b[0m     \u001b[39myield\u001b[39;00m session\n\u001b[0;32m   1755\u001b[0m     \u001b[39mreturn\u001b[39;00m\n\u001b[1;32m-> 1757\u001b[0m s \u001b[39m=\u001b[39m \u001b[39mself\u001b[39;49m\u001b[39m.\u001b[39;49m_ensure_session(session)\n\u001b[0;32m   1758\u001b[0m \u001b[39mif\u001b[39;00m s:\n\u001b[0;32m   1759\u001b[0m     \u001b[39mtry\u001b[39;00m:\n",
      "File \u001b[1;32mc:\\Users\\bleuze3u\\AppData\\Local\\Programs\\Python\\Python310\\lib\\site-packages\\pymongo\\mongo_client.py:1740\u001b[0m, in \u001b[0;36mMongoClient._ensure_session\u001b[1;34m(self, session)\u001b[0m\n\u001b[0;32m   1735\u001b[0m     \u001b[39mreturn\u001b[39;00m session\n\u001b[0;32m   1737\u001b[0m \u001b[39mtry\u001b[39;00m:\n\u001b[0;32m   1738\u001b[0m     \u001b[39m# Don't make implicit sessions causally consistent. Applications\u001b[39;00m\n\u001b[0;32m   1739\u001b[0m     \u001b[39m# should always opt-in.\u001b[39;00m\n\u001b[1;32m-> 1740\u001b[0m     \u001b[39mreturn\u001b[39;00m \u001b[39mself\u001b[39;49m\u001b[39m.\u001b[39;49m__start_session(\u001b[39mTrue\u001b[39;49;00m, causal_consistency\u001b[39m=\u001b[39;49m\u001b[39mFalse\u001b[39;49;00m)\n\u001b[0;32m   1741\u001b[0m \u001b[39mexcept\u001b[39;00m (ConfigurationError, InvalidOperation):\n\u001b[0;32m   1742\u001b[0m     \u001b[39m# Sessions not supported.\u001b[39;00m\n\u001b[0;32m   1743\u001b[0m     \u001b[39mreturn\u001b[39;00m \u001b[39mNone\u001b[39;00m\n",
      "File \u001b[1;32mc:\\Users\\bleuze3u\\AppData\\Local\\Programs\\Python\\Python310\\lib\\site-packages\\pymongo\\mongo_client.py:1685\u001b[0m, in \u001b[0;36mMongoClient.__start_session\u001b[1;34m(self, implicit, **kwargs)\u001b[0m\n\u001b[0;32m   1682\u001b[0m \u001b[39mdef\u001b[39;00m \u001b[39m__start_session\u001b[39m(\u001b[39mself\u001b[39m, implicit, \u001b[39m*\u001b[39m\u001b[39m*\u001b[39mkwargs):\n\u001b[0;32m   1683\u001b[0m     \u001b[39m# Raises ConfigurationError if sessions are not supported.\u001b[39;00m\n\u001b[0;32m   1684\u001b[0m     \u001b[39mif\u001b[39;00m implicit:\n\u001b[1;32m-> 1685\u001b[0m         \u001b[39mself\u001b[39;49m\u001b[39m.\u001b[39;49m_topology\u001b[39m.\u001b[39;49m_check_implicit_session_support()\n\u001b[0;32m   1686\u001b[0m         server_session \u001b[39m=\u001b[39m _EmptyServerSession()\n\u001b[0;32m   1687\u001b[0m     \u001b[39melse\u001b[39;00m:\n",
      "File \u001b[1;32mc:\\Users\\bleuze3u\\AppData\\Local\\Programs\\Python\\Python310\\lib\\site-packages\\pymongo\\topology.py:538\u001b[0m, in \u001b[0;36mTopology._check_implicit_session_support\u001b[1;34m(self)\u001b[0m\n\u001b[0;32m    536\u001b[0m \u001b[39mdef\u001b[39;00m \u001b[39m_check_implicit_session_support\u001b[39m(\u001b[39mself\u001b[39m):\n\u001b[0;32m    537\u001b[0m     \u001b[39mwith\u001b[39;00m \u001b[39mself\u001b[39m\u001b[39m.\u001b[39m_lock:\n\u001b[1;32m--> 538\u001b[0m         \u001b[39mself\u001b[39;49m\u001b[39m.\u001b[39;49m_check_session_support()\n",
      "File \u001b[1;32mc:\\Users\\bleuze3u\\AppData\\Local\\Programs\\Python\\Python310\\lib\\site-packages\\pymongo\\topology.py:554\u001b[0m, in \u001b[0;36mTopology._check_session_support\u001b[1;34m(self)\u001b[0m\n\u001b[0;32m    550\u001b[0m         \u001b[39mself\u001b[39m\u001b[39m.\u001b[39m_select_servers_loop(\n\u001b[0;32m    551\u001b[0m             any_server_selector, \u001b[39mself\u001b[39m\u001b[39m.\u001b[39mget_server_selection_timeout(), \u001b[39mNone\u001b[39;00m\n\u001b[0;32m    552\u001b[0m         )\n\u001b[0;32m    553\u001b[0m \u001b[39melif\u001b[39;00m \u001b[39mnot\u001b[39;00m \u001b[39mself\u001b[39m\u001b[39m.\u001b[39m_description\u001b[39m.\u001b[39mreadable_servers:\n\u001b[1;32m--> 554\u001b[0m     \u001b[39mself\u001b[39;49m\u001b[39m.\u001b[39;49m_select_servers_loop(\n\u001b[0;32m    555\u001b[0m         readable_server_selector, \u001b[39mself\u001b[39;49m\u001b[39m.\u001b[39;49mget_server_selection_timeout(), \u001b[39mNone\u001b[39;49;00m\n\u001b[0;32m    556\u001b[0m     )\n\u001b[0;32m    558\u001b[0m session_timeout \u001b[39m=\u001b[39m \u001b[39mself\u001b[39m\u001b[39m.\u001b[39m_description\u001b[39m.\u001b[39mlogical_session_timeout_minutes\n\u001b[0;32m    559\u001b[0m \u001b[39mif\u001b[39;00m session_timeout \u001b[39mis\u001b[39;00m \u001b[39mNone\u001b[39;00m:\n",
      "File \u001b[1;32mc:\\Users\\bleuze3u\\AppData\\Local\\Programs\\Python\\Python310\\lib\\site-packages\\pymongo\\topology.py:238\u001b[0m, in \u001b[0;36mTopology._select_servers_loop\u001b[1;34m(self, selector, timeout, address)\u001b[0m\n\u001b[0;32m    235\u001b[0m \u001b[39mwhile\u001b[39;00m \u001b[39mnot\u001b[39;00m server_descriptions:\n\u001b[0;32m    236\u001b[0m     \u001b[39m# No suitable servers.\u001b[39;00m\n\u001b[0;32m    237\u001b[0m     \u001b[39mif\u001b[39;00m timeout \u001b[39m==\u001b[39m \u001b[39m0\u001b[39m \u001b[39mor\u001b[39;00m now \u001b[39m>\u001b[39m end_time:\n\u001b[1;32m--> 238\u001b[0m         \u001b[39mraise\u001b[39;00m ServerSelectionTimeoutError(\n\u001b[0;32m    239\u001b[0m             \u001b[39m\"\u001b[39m\u001b[39m%s\u001b[39;00m\u001b[39m, Timeout: \u001b[39m\u001b[39m%s\u001b[39;00m\u001b[39ms, Topology Description: \u001b[39m\u001b[39m%r\u001b[39;00m\u001b[39m\"\u001b[39m\n\u001b[0;32m    240\u001b[0m             \u001b[39m%\u001b[39m (\u001b[39mself\u001b[39m\u001b[39m.\u001b[39m_error_message(selector), timeout, \u001b[39mself\u001b[39m\u001b[39m.\u001b[39mdescription)\n\u001b[0;32m    241\u001b[0m         )\n\u001b[0;32m    243\u001b[0m     \u001b[39mself\u001b[39m\u001b[39m.\u001b[39m_ensure_opened()\n\u001b[0;32m    244\u001b[0m     \u001b[39mself\u001b[39m\u001b[39m.\u001b[39m_request_check_all()\n",
      "\u001b[1;31mServerSelectionTimeoutError\u001b[0m: 127.0.0.1:27017: [WinError 10061] Aucune connexion n’a pu être établie car l’ordinateur cible l’a expressément refusée, Timeout: 30s, Topology Description: <TopologyDescription id: 640eccf0cf1b1c2daaf94890, topology_type: Unknown, servers: [<ServerDescription ('127.0.0.1', 27017) server_type: Unknown, rtt: None, error=AutoReconnect('127.0.0.1:27017: [WinError 10061] Aucune connexion n’a pu être établie car l’ordinateur cible l’a expressément refusée')>]>"
     ]
    }
   ],
   "source": [
    "client = MongoClient('mongodb://127.0.0.1:27017/')\n",
    "with client:\n",
    "    db = client.testdb\n",
    "    db.cars.insert_many(cars)"
   ]
  },
  {
   "cell_type": "code",
   "execution_count": 9,
   "id": "07304b42",
   "metadata": {},
   "outputs": [],
   "source": [
    "client.close()"
   ]
  },
  {
   "cell_type": "code",
   "execution_count": 10,
   "id": "40891818",
   "metadata": {},
   "outputs": [
    {
     "name": "stdout",
     "output_type": "stream",
     "text": [
      "['cars']\n"
     ]
    }
   ],
   "source": [
    "from pymongo import MongoClient\n",
    "client = MongoClient('mongodb://localhost:27017/')\n",
    "with client:\n",
    "    db = client.testdb\n",
    "    print(db.list_collection_names())"
   ]
  },
  {
   "cell_type": "code",
   "execution_count": 11,
   "id": "5b981b3b",
   "metadata": {},
   "outputs": [],
   "source": [
    "from pymongo import MongoClient\n",
    "client = MongoClient('mongodb://localhost:27017/')\n",
    "with client:\n",
    "    db = client.testdb\n",
    "    db.cars.drop()"
   ]
  },
  {
   "cell_type": "code",
   "execution_count": 13,
   "id": "9ff5bc2f",
   "metadata": {},
   "outputs": [
    {
     "name": "stdout",
     "output_type": "stream",
     "text": [
      "Audi 52642\n",
      "Mercedes 57127\n",
      "Skoda 9000\n",
      "Volvo 29000\n",
      "Bentley 350000\n",
      "Citroen 21000\n",
      "Hummer 41400\n",
      "Volkswagen 21600\n"
     ]
    }
   ],
   "source": [
    "from pymongo import MongoClient\n",
    "client = MongoClient('mongodb://localhost:27017/')\n",
    "with client:\n",
    "    db = client.testdb\n",
    "    cars = db.cars.find()\n",
    "    for car in cars:\n",
    "        print('{0} {1}'.format(car['name'],\n",
    "                            car['price']))"
   ]
  },
  {
   "cell_type": "code",
   "execution_count": 14,
   "id": "b31d71fd",
   "metadata": {},
   "outputs": [
    {
     "name": "stdout",
     "output_type": "stream",
     "text": [
      "Audi\n",
      "Mercedes\n",
      "Bentley\n"
     ]
    }
   ],
   "source": [
    "from pymongo import MongoClient\n",
    "client = MongoClient('mongodb://localhost:27017/')\n",
    "with client:\n",
    "    db = client.testdb\n",
    "    expensive = db.cars.find({'price': {'$gt': 50000}})\n",
    "    for ecar in expensive:\n",
    "        print(ecar['name'])"
   ]
  },
  {
   "cell_type": "code",
   "execution_count": 15,
   "id": "809d4020",
   "metadata": {},
   "outputs": [
    {
     "name": "stdout",
     "output_type": "stream",
     "text": [
      "There are 8 cars\n"
     ]
    }
   ],
   "source": [
    "from pymongo import MongoClient\n",
    "client = MongoClient('mongodb://localhost:27017/')\n",
    "with client:\n",
    "    db = client.testdb\n",
    "    n_cars = db.cars.count_documents({})\n",
    "    print(\"There are {} cars\".format(n_cars))"
   ]
  },
  {
   "cell_type": "code",
   "execution_count": 16,
   "id": "04ed6b96",
   "metadata": {},
   "outputs": [
    {
     "name": "stdout",
     "output_type": "stream",
     "text": [
      "{'_id': ObjectId('63da22b82f5c60b60620494a'), 'name': 'Audi'}\n",
      "{'_id': ObjectId('63da22b82f5c60b60620494b'), 'name': 'Mercedes'}\n",
      "{'_id': ObjectId('63da22b82f5c60b60620494c'), 'name': 'Skoda'}\n",
      "{'_id': ObjectId('63da22b82f5c60b60620494d'), 'name': 'Volvo'}\n",
      "{'_id': ObjectId('63da22b82f5c60b60620494e'), 'name': 'Bentley'}\n",
      "{'_id': ObjectId('63da22b82f5c60b60620494f'), 'name': 'Citroen'}\n",
      "{'_id': ObjectId('63da22b82f5c60b606204950'), 'name': 'Hummer'}\n",
      "{'_id': ObjectId('63da22b82f5c60b606204951'), 'name': 'Volkswagen'}\n"
     ]
    }
   ],
   "source": [
    "from pymongo import MongoClient\n",
    "client = MongoClient('mongodb://localhost:27017/')\n",
    "with client:\n",
    "    db = client.testdb\n",
    "    cars = db.cars.find({}, {'_id': 1, 'name':1})\n",
    "    for car in cars:\n",
    "        print(car)"
   ]
  },
  {
   "cell_type": "code",
   "execution_count": 17,
   "id": "a1d695c9",
   "metadata": {},
   "outputs": [
    {
     "name": "stdout",
     "output_type": "stream",
     "text": [
      "{'_id': ObjectId('63da22b82f5c60b60620494a'), 'name': 'Audi'}\n",
      "{'_id': ObjectId('63da22b82f5c60b60620494b'), 'name': 'Mercedes'}\n",
      "{'_id': ObjectId('63da22b82f5c60b60620494e'), 'name': 'Bentley'}\n"
     ]
    }
   ],
   "source": [
    "from pymongo import MongoClient\n",
    "client = MongoClient('mongodb://localhost:27017/')\n",
    "with client:\n",
    "    db = client.testdb\n",
    "    cars = db.cars.find({'price': {'$gt': 50000}}, {'_id': 1, 'name':1})\n",
    "    for car in cars:\n",
    "        print(car)"
   ]
  },
  {
   "cell_type": "code",
   "execution_count": 18,
   "id": "cdfb7b0f",
   "metadata": {},
   "outputs": [
    {
     "name": "stdout",
     "output_type": "stream",
     "text": [
      "Bentley 350000\n",
      "Mercedes 57127\n",
      "Audi 52642\n",
      "Hummer 41400\n",
      "Volvo 29000\n",
      "Volkswagen 21600\n",
      "Citroen 21000\n",
      "Skoda 9000\n"
     ]
    }
   ],
   "source": [
    "from pymongo import MongoClient, DESCENDING\n",
    "client = MongoClient('mongodb://localhost:27017/')\n",
    "with client:\n",
    "    db = client.testdb\n",
    "    cars = db.cars.find().sort('price', DESCENDING)\n",
    "    for car in cars:\n",
    "        print('{0} {1}'.format(car['name'],\n",
    "                            car['price']))"
   ]
  },
  {
   "cell_type": "code",
   "execution_count": 19,
   "id": "730878e8",
   "metadata": {},
   "outputs": [
    {
     "name": "stdout",
     "output_type": "stream",
     "text": [
      "Sum of prices is 581769\n"
     ]
    }
   ],
   "source": [
    "from pymongo import MongoClient\n",
    "client = MongoClient('mongodb://localhost:27017/')\n",
    "with client:\n",
    "    db = client.testdb\n",
    "    agr = [ {'$group':\n",
    "                {'_id': 1,\n",
    "                 'all':\n",
    "                    { '$sum': '$price' } } } ]\n",
    "    val = list(db.cars.aggregate(agr))\n",
    "    print('Sum of prices is {}'.format(val[0]['all']))"
   ]
  },
  {
   "cell_type": "code",
   "execution_count": 20,
   "id": "ed495a4e",
   "metadata": {},
   "outputs": [
    {
     "name": "stdout",
     "output_type": "stream",
     "text": [
      "Sum is 81642\n"
     ]
    }
   ],
   "source": [
    "from pymongo import MongoClient\n",
    "client = MongoClient('mongodb://localhost:27017/')\n",
    "with client:\n",
    "    db = client.testdb\n",
    "    agr = [{ '$match':\n",
    "                {'$or':\n",
    "                    [ { 'name': 'Audi' },\n",
    "                      { 'name': 'Volvo' }]\n",
    "                }},\n",
    "           { '$group':\n",
    "                {'_id': 1,\n",
    "                'audivolvo': { '$sum': '$price' } }}]\n",
    "    val = list(db.cars.aggregate(agr))\n",
    "    print('Sum is {}'.format(val[0]['audivolvo']))"
   ]
  },
  {
   "cell_type": "code",
   "execution_count": 21,
   "id": "7820e9c4",
   "metadata": {},
   "outputs": [
    {
     "name": "stdout",
     "output_type": "stream",
     "text": [
      "Skoda: 9000\n",
      "Volvo: 29000\n",
      "Bentley: 350000\n"
     ]
    }
   ],
   "source": [
    "from pymongo import MongoClient\n",
    "client = MongoClient('mongodb://localhost:27017/')\n",
    "with client:\n",
    "    db = client.testdb\n",
    "    cars = db.cars.find().skip(2).limit(3)\n",
    "    for car in cars:\n",
    "        print('{0}: {1}'.format(car['name'],\n",
    "                            car['price']))"
   ]
  },
  {
   "cell_type": "code",
   "execution_count": 20,
   "id": "ef549415",
   "metadata": {},
   "outputs": [
    {
     "name": "stdout",
     "output_type": "stream",
     "text": [
      "Skoda: 9000\n",
      "Volvo: 29000\n",
      "Bentley: 350000\n"
     ]
    }
   ],
   "source": [
    "from pymongo import MongoClient\n",
    "client = MongoClient('mongodb://localhost:27017/')\n",
    "with client:\n",
    "    db = client.testdb\n",
    "    cars = db.cars.find().skip(2).limit(3)\n",
    "    for car in cars:\n",
    "        print('{0}: {1}'.format(car['name'],\n",
    "                            car['price']))"
   ]
  },
  {
   "cell_type": "code",
   "execution_count": 23,
   "id": "fcb50495",
   "metadata": {},
   "outputs": [
    {
     "name": "stdout",
     "output_type": "stream",
     "text": [
      "['cars']\n",
      "{'avgObjSize': 50.5,\n",
      " 'collections': 1,\n",
      " 'dataSize': 404.0,\n",
      " 'db': 'testdb',\n",
      " 'fsTotalSize': 497997250560.0,\n",
      " 'fsUsedSize': 364917374976.0,\n",
      " 'indexSize': 20480.0,\n",
      " 'indexes': 1,\n",
      " 'objects': 8,\n",
      " 'ok': 1.0,\n",
      " 'scaleFactor': 1.0,\n",
      " 'storageSize': 20480.0,\n",
      " 'totalSize': 40960.0,\n",
      " 'views': 0}\n"
     ]
    }
   ],
   "source": [
    "from pymongo import MongoClient\n",
    "from pprint import pprint\n",
    "client = MongoClient('mongodb://localhost:27017/')\n",
    "with client:\n",
    "    db = client.testdb\n",
    "    print(db.list_collection_names())\n",
    "    status = db.command(\"dbstats\")\n",
    "    pprint(status)"
   ]
  },
  {
   "cell_type": "code",
   "execution_count": null,
   "id": "af625dbe",
   "metadata": {},
   "outputs": [],
   "source": []
  }
 ],
 "metadata": {
  "kernelspec": {
   "display_name": "Python 3",
   "language": "python",
   "name": "python3"
  },
  "language_info": {
   "codemirror_mode": {
    "name": "ipython",
    "version": 3
   },
   "file_extension": ".py",
   "mimetype": "text/x-python",
   "name": "python",
   "nbconvert_exporter": "python",
   "pygments_lexer": "ipython3",
   "version": "3.10.10"
  },
  "vscode": {
   "interpreter": {
    "hash": "3de7a084b318d7b8bf96005cb5db4da14a27f60df0465391ef48a4c336f03bfe"
   }
  }
 },
 "nbformat": 4,
 "nbformat_minor": 5
}
