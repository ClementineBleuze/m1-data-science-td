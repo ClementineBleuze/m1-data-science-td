{
 "cells": [
  {
   "cell_type": "markdown",
   "metadata": {},
   "source": [
    "# Exercise \"Lecture 8: Regression\"\n",
    "\n",
    "In this set of exercises, we will use regression to predict a baseball player's batting average based on previous results. \n",
    "\n",
    "The exercises cover the following points:\n",
    "* Storing the data into an pandas dataframe (Exercise 1)\n",
    "* Inspecting the data (Exercise 2-7)\n",
    "* Creating Train and Test data (Exercise 8)\n",
    "* Learning a Linear Regression model from the data (Exercise 9-11)\n",
    "* Inspecting the predictions of that model (Exercise 12-17)\n",
    "* Multiple Linear Regression: Adding features and observing the changes in predictions (PROVIDED)\n",
    "\n",
    "_**Useful Cheat sheets**_\n",
    "* pandas_cheat_sheet.ipynb\n",
    "* linear_regression_cheat_sheet.ipynb\n",
    "* stats_and_visu.ipynb"
   ]
  },
  {
   "cell_type": "markdown",
   "metadata": {},
   "source": [
    "### Storing the data into a dataframe\n",
    "\n",
    "**Exercise 1:** Create a pandas dataframe containing the  data\n",
    "\n",
    "* Download the data file \"baseball.csv\" from Arche and store it in a data directory placed where your current Jupyter notebook is\n",
    "* Use the pandas.read_csv  method to create the dataframe. \n",
    "* How many rows and columns ? Use  the pandas [df.shape](https://pandas.pydata.org/pandas-docs/stable/reference/api/pandas.DataFrame.shape.html) attribute to inspect the dataframe you just created\n",
    "\n",
    "**Help:** pandas_cheat_sheet.ipynb"
   ]
  },
  {
   "cell_type": "code",
   "execution_count": 3,
   "metadata": {},
   "outputs": [
    {
     "data": {
      "text/plain": [
       "(588, 6)"
      ]
     },
     "execution_count": 3,
     "metadata": {},
     "output_type": "execute_result"
    }
   ],
   "source": [
    "import pandas as pd\n",
    "df = pd.read_csv(\"baseball.csv\", sep=\"\\t\")\n",
    "df.shape"
   ]
  },
  {
   "cell_type": "markdown",
   "metadata": {},
   "source": [
    "### Inspecting the data "
   ]
  },
  {
   "cell_type": "markdown",
   "metadata": {},
   "source": [
    "**Exercise 2:** Print out the headers"
   ]
  },
  {
   "cell_type": "code",
   "execution_count": 5,
   "metadata": {},
   "outputs": [
    {
     "data": {
      "text/html": [
       "<div>\n",
       "<style scoped>\n",
       "    .dataframe tbody tr th:only-of-type {\n",
       "        vertical-align: middle;\n",
       "    }\n",
       "\n",
       "    .dataframe tbody tr th {\n",
       "        vertical-align: top;\n",
       "    }\n",
       "\n",
       "    .dataframe thead th {\n",
       "        text-align: right;\n",
       "    }\n",
       "</style>\n",
       "<table border=\"1\" class=\"dataframe\">\n",
       "  <thead>\n",
       "    <tr style=\"text-align: right;\">\n",
       "      <th></th>\n",
       "      <th>YEAR</th>\n",
       "      <th>NAMElast</th>\n",
       "      <th>NAMEfirst</th>\n",
       "      <th>BattingAverage</th>\n",
       "      <th>BattingAverageLAG1</th>\n",
       "      <th>CumulativeAverageLAG1</th>\n",
       "    </tr>\n",
       "  </thead>\n",
       "  <tbody>\n",
       "    <tr>\n",
       "      <th>0</th>\n",
       "      <td>1960</td>\n",
       "      <td>Aaron</td>\n",
       "      <td>Hank</td>\n",
       "      <td>0.292</td>\n",
       "      <td>0.355</td>\n",
       "      <td>0.355</td>\n",
       "    </tr>\n",
       "    <tr>\n",
       "      <th>1</th>\n",
       "      <td>1961</td>\n",
       "      <td>Aaron</td>\n",
       "      <td>Hank</td>\n",
       "      <td>0.327</td>\n",
       "      <td>0.292</td>\n",
       "      <td>0.324</td>\n",
       "    </tr>\n",
       "    <tr>\n",
       "      <th>2</th>\n",
       "      <td>1962</td>\n",
       "      <td>Aaron</td>\n",
       "      <td>Hank</td>\n",
       "      <td>0.323</td>\n",
       "      <td>0.327</td>\n",
       "      <td>0.325</td>\n",
       "    </tr>\n",
       "    <tr>\n",
       "      <th>3</th>\n",
       "      <td>1963</td>\n",
       "      <td>Aaron</td>\n",
       "      <td>Hank</td>\n",
       "      <td>0.319</td>\n",
       "      <td>0.323</td>\n",
       "      <td>0.324</td>\n",
       "    </tr>\n",
       "    <tr>\n",
       "      <th>4</th>\n",
       "      <td>1964</td>\n",
       "      <td>Aaron</td>\n",
       "      <td>Hank</td>\n",
       "      <td>0.328</td>\n",
       "      <td>0.319</td>\n",
       "      <td>0.323</td>\n",
       "    </tr>\n",
       "  </tbody>\n",
       "</table>\n",
       "</div>"
      ],
      "text/plain": [
       "   YEAR NAMElast NAMEfirst  BattingAverage  BattingAverageLAG1  \\\n",
       "0  1960    Aaron      Hank           0.292               0.355   \n",
       "1  1961    Aaron      Hank           0.327               0.292   \n",
       "2  1962    Aaron      Hank           0.323               0.327   \n",
       "3  1963    Aaron      Hank           0.319               0.323   \n",
       "4  1964    Aaron      Hank           0.328               0.319   \n",
       "\n",
       "   CumulativeAverageLAG1  \n",
       "0                  0.355  \n",
       "1                  0.324  \n",
       "2                  0.325  \n",
       "3                  0.324  \n",
       "4                  0.323  "
      ]
     },
     "execution_count": 5,
     "metadata": {},
     "output_type": "execute_result"
    }
   ],
   "source": [
    "df.head()"
   ]
  },
  {
   "cell_type": "markdown",
   "metadata": {},
   "source": [
    "**Exercise 3:** Print out the first 5 rows"
   ]
  },
  {
   "cell_type": "code",
   "execution_count": 6,
   "metadata": {},
   "outputs": [
    {
     "data": {
      "text/html": [
       "<div>\n",
       "<style scoped>\n",
       "    .dataframe tbody tr th:only-of-type {\n",
       "        vertical-align: middle;\n",
       "    }\n",
       "\n",
       "    .dataframe tbody tr th {\n",
       "        vertical-align: top;\n",
       "    }\n",
       "\n",
       "    .dataframe thead th {\n",
       "        text-align: right;\n",
       "    }\n",
       "</style>\n",
       "<table border=\"1\" class=\"dataframe\">\n",
       "  <thead>\n",
       "    <tr style=\"text-align: right;\">\n",
       "      <th></th>\n",
       "      <th>YEAR</th>\n",
       "      <th>NAMElast</th>\n",
       "      <th>NAMEfirst</th>\n",
       "      <th>BattingAverage</th>\n",
       "      <th>BattingAverageLAG1</th>\n",
       "      <th>CumulativeAverageLAG1</th>\n",
       "    </tr>\n",
       "  </thead>\n",
       "  <tbody>\n",
       "    <tr>\n",
       "      <th>0</th>\n",
       "      <td>1960</td>\n",
       "      <td>Aaron</td>\n",
       "      <td>Hank</td>\n",
       "      <td>0.292</td>\n",
       "      <td>0.355</td>\n",
       "      <td>0.355</td>\n",
       "    </tr>\n",
       "    <tr>\n",
       "      <th>1</th>\n",
       "      <td>1961</td>\n",
       "      <td>Aaron</td>\n",
       "      <td>Hank</td>\n",
       "      <td>0.327</td>\n",
       "      <td>0.292</td>\n",
       "      <td>0.324</td>\n",
       "    </tr>\n",
       "    <tr>\n",
       "      <th>2</th>\n",
       "      <td>1962</td>\n",
       "      <td>Aaron</td>\n",
       "      <td>Hank</td>\n",
       "      <td>0.323</td>\n",
       "      <td>0.327</td>\n",
       "      <td>0.325</td>\n",
       "    </tr>\n",
       "    <tr>\n",
       "      <th>3</th>\n",
       "      <td>1963</td>\n",
       "      <td>Aaron</td>\n",
       "      <td>Hank</td>\n",
       "      <td>0.319</td>\n",
       "      <td>0.323</td>\n",
       "      <td>0.324</td>\n",
       "    </tr>\n",
       "    <tr>\n",
       "      <th>4</th>\n",
       "      <td>1964</td>\n",
       "      <td>Aaron</td>\n",
       "      <td>Hank</td>\n",
       "      <td>0.328</td>\n",
       "      <td>0.319</td>\n",
       "      <td>0.323</td>\n",
       "    </tr>\n",
       "  </tbody>\n",
       "</table>\n",
       "</div>"
      ],
      "text/plain": [
       "   YEAR NAMElast NAMEfirst  BattingAverage  BattingAverageLAG1  \\\n",
       "0  1960    Aaron      Hank           0.292               0.355   \n",
       "1  1961    Aaron      Hank           0.327               0.292   \n",
       "2  1962    Aaron      Hank           0.323               0.327   \n",
       "3  1963    Aaron      Hank           0.319               0.323   \n",
       "4  1964    Aaron      Hank           0.328               0.319   \n",
       "\n",
       "   CumulativeAverageLAG1  \n",
       "0                  0.355  \n",
       "1                  0.324  \n",
       "2                  0.325  \n",
       "3                  0.324  \n",
       "4                  0.323  "
      ]
     },
     "execution_count": 6,
     "metadata": {},
     "output_type": "execute_result"
    }
   ],
   "source": [
    "df[:5]"
   ]
  },
  {
   "cell_type": "markdown",
   "metadata": {},
   "source": [
    "**Exercise 4:** Use pandas describe() method to get basic summary statistics for each of the columns."
   ]
  },
  {
   "cell_type": "code",
   "execution_count": 7,
   "metadata": {},
   "outputs": [
    {
     "data": {
      "text/html": [
       "<div>\n",
       "<style scoped>\n",
       "    .dataframe tbody tr th:only-of-type {\n",
       "        vertical-align: middle;\n",
       "    }\n",
       "\n",
       "    .dataframe tbody tr th {\n",
       "        vertical-align: top;\n",
       "    }\n",
       "\n",
       "    .dataframe thead th {\n",
       "        text-align: right;\n",
       "    }\n",
       "</style>\n",
       "<table border=\"1\" class=\"dataframe\">\n",
       "  <thead>\n",
       "    <tr style=\"text-align: right;\">\n",
       "      <th></th>\n",
       "      <th>YEAR</th>\n",
       "      <th>BattingAverage</th>\n",
       "      <th>BattingAverageLAG1</th>\n",
       "      <th>CumulativeAverageLAG1</th>\n",
       "    </tr>\n",
       "  </thead>\n",
       "  <tbody>\n",
       "    <tr>\n",
       "      <th>count</th>\n",
       "      <td>588.000000</td>\n",
       "      <td>588.000000</td>\n",
       "      <td>588.000000</td>\n",
       "      <td>588.000000</td>\n",
       "    </tr>\n",
       "    <tr>\n",
       "      <th>mean</th>\n",
       "      <td>1982.372449</td>\n",
       "      <td>0.277202</td>\n",
       "      <td>0.279194</td>\n",
       "      <td>0.275794</td>\n",
       "    </tr>\n",
       "    <tr>\n",
       "      <th>std</th>\n",
       "      <td>13.813520</td>\n",
       "      <td>0.031114</td>\n",
       "      <td>0.029996</td>\n",
       "      <td>0.024000</td>\n",
       "    </tr>\n",
       "    <tr>\n",
       "      <th>min</th>\n",
       "      <td>1960.000000</td>\n",
       "      <td>0.185000</td>\n",
       "      <td>0.185000</td>\n",
       "      <td>0.198000</td>\n",
       "    </tr>\n",
       "    <tr>\n",
       "      <th>25%</th>\n",
       "      <td>1970.000000</td>\n",
       "      <td>0.256000</td>\n",
       "      <td>0.259000</td>\n",
       "      <td>0.259000</td>\n",
       "    </tr>\n",
       "    <tr>\n",
       "      <th>50%</th>\n",
       "      <td>1983.000000</td>\n",
       "      <td>0.277000</td>\n",
       "      <td>0.280000</td>\n",
       "      <td>0.274000</td>\n",
       "    </tr>\n",
       "    <tr>\n",
       "      <th>75%</th>\n",
       "      <td>1996.000000</td>\n",
       "      <td>0.298000</td>\n",
       "      <td>0.300000</td>\n",
       "      <td>0.291000</td>\n",
       "    </tr>\n",
       "    <tr>\n",
       "      <th>max</th>\n",
       "      <td>2004.000000</td>\n",
       "      <td>0.390000</td>\n",
       "      <td>0.368000</td>\n",
       "      <td>0.357000</td>\n",
       "    </tr>\n",
       "  </tbody>\n",
       "</table>\n",
       "</div>"
      ],
      "text/plain": [
       "              YEAR  BattingAverage  BattingAverageLAG1  CumulativeAverageLAG1\n",
       "count   588.000000      588.000000          588.000000             588.000000\n",
       "mean   1982.372449        0.277202            0.279194               0.275794\n",
       "std      13.813520        0.031114            0.029996               0.024000\n",
       "min    1960.000000        0.185000            0.185000               0.198000\n",
       "25%    1970.000000        0.256000            0.259000               0.259000\n",
       "50%    1983.000000        0.277000            0.280000               0.274000\n",
       "75%    1996.000000        0.298000            0.300000               0.291000\n",
       "max    2004.000000        0.390000            0.368000               0.357000"
      ]
     },
     "execution_count": 7,
     "metadata": {},
     "output_type": "execute_result"
    }
   ],
   "source": [
    "df.describe()"
   ]
  },
  {
   "cell_type": "markdown",
   "metadata": {},
   "source": [
    "**Exercise 5:** Using scatter plots to explore correlation\n",
    "\n",
    "Create two scatter plots:\n",
    "\n",
    "* One scatter plot showing the relation between BattingAverage and BattingAverageLAG1\n",
    "* One scatter plot showing the relation between BattingAverage and CumulativeAverageLAG1\n",
    "\n",
    "What kind of relationship do you see? e.g. positive, negative? linear? non-linear?   \n",
    "_**Hint:**_ \n",
    "Use matplotlib scatter, xlabel, ylabel ant title methods to create the plots (cf. stats_and_visu_cheat_sheet.ipynb)"
   ]
  },
  {
   "cell_type": "code",
   "execution_count": 9,
   "metadata": {},
   "outputs": [
    {
     "data": {
      "text/plain": [
       "Text(0.5, 1.0, 'relation between BattingAverageLAG1 and BattingAverage')"
      ]
     },
     "execution_count": 9,
     "metadata": {},
     "output_type": "execute_result"
    },
    {
     "data": {
      "image/png": "[encoded data removed]",
      "text/plain": [
       "<Figure size 640x480 with 1 Axes>"
      ]
     },
     "metadata": {},
     "output_type": "display_data"
    }
   ],
   "source": [
    "from matplotlib import pyplot as plt\n",
    "plt.scatter(x = df[\"BattingAverage\"], y = df[\"BattingAverageLAG1\"])\n",
    "plt.xlabel(\"BattingAverage\")\n",
    "plt.ylabel(\"BattingAverageLAG1\")\n",
    "plt.title(\"relation between BattingAverageLAG1 and BattingAverage\")"
   ]
  },
  {
   "cell_type": "code",
   "execution_count": 10,
   "metadata": {},
   "outputs": [
    {
     "data": {
      "text/plain": [
       "Text(0.5, 1.0, 'relation between CumulativeAverageLAG1 and BattingAverage')"
      ]
     },
     "execution_count": 10,
     "metadata": {},
     "output_type": "execute_result"
    },
    {
     "data": {
      "image/png": "[encoded data removed]",
      "text/plain": [
       "<Figure size 640x480 with 1 Axes>"
      ]
     },
     "metadata": {},
     "output_type": "display_data"
    }
   ],
   "source": [
    "plt.scatter(x = df[\"BattingAverage\"], y = df[\"CumulativeAverageLAG1\"])\n",
    "plt.xlabel(\"BattingAverage\")\n",
    "plt.ylabel(\"CumulativeAverageLAG1\")\n",
    "plt.title(\"relation between CumulativeAverageLAG1 and BattingAverage\")"
   ]
  },
  {
   "cell_type": "markdown",
   "metadata": {},
   "source": [
    "**Exercise 6:** Examining Correlations between features\n",
    "\n",
    "* Use pandas [corr](https://pandas.pydata.org/pandas-docs/stable/reference/api/pandas.DataFrame.corr.html?highlight=corr#pandas.DataFrame.corr) method to compute correlation between features (use pearson's r metrics)   \n",
    "Which feature is most strongly correlated with Batting Avg Scores ?"
   ]
  },
  {
   "cell_type": "code",
   "execution_count": 11,
   "metadata": {},
   "outputs": [
    {
     "data": {
      "text/html": [
       "<div>\n",
       "<style scoped>\n",
       "    .dataframe tbody tr th:only-of-type {\n",
       "        vertical-align: middle;\n",
       "    }\n",
       "\n",
       "    .dataframe tbody tr th {\n",
       "        vertical-align: top;\n",
       "    }\n",
       "\n",
       "    .dataframe thead th {\n",
       "        text-align: right;\n",
       "    }\n",
       "</style>\n",
       "<table border=\"1\" class=\"dataframe\">\n",
       "  <thead>\n",
       "    <tr style=\"text-align: right;\">\n",
       "      <th></th>\n",
       "      <th>BattingAverage</th>\n",
       "      <th>BattingAverageLAG1</th>\n",
       "    </tr>\n",
       "  </thead>\n",
       "  <tbody>\n",
       "    <tr>\n",
       "      <th>BattingAverage</th>\n",
       "      <td>1.0000</td>\n",
       "      <td>0.4807</td>\n",
       "    </tr>\n",
       "    <tr>\n",
       "      <th>BattingAverageLAG1</th>\n",
       "      <td>0.4807</td>\n",
       "      <td>1.0000</td>\n",
       "    </tr>\n",
       "  </tbody>\n",
       "</table>\n",
       "</div>"
      ],
      "text/plain": [
       "                    BattingAverage  BattingAverageLAG1\n",
       "BattingAverage              1.0000              0.4807\n",
       "BattingAverageLAG1          0.4807              1.0000"
      ]
     },
     "execution_count": 11,
     "metadata": {},
     "output_type": "execute_result"
    }
   ],
   "source": [
    "df[[\"BattingAverage\", \"BattingAverageLAG1\"]].corr(method=\"pearson\")"
   ]
  },
  {
   "cell_type": "code",
   "execution_count": 12,
   "metadata": {},
   "outputs": [
    {
     "data": {
      "text/html": [
       "<div>\n",
       "<style scoped>\n",
       "    .dataframe tbody tr th:only-of-type {\n",
       "        vertical-align: middle;\n",
       "    }\n",
       "\n",
       "    .dataframe tbody tr th {\n",
       "        vertical-align: top;\n",
       "    }\n",
       "\n",
       "    .dataframe thead th {\n",
       "        text-align: right;\n",
       "    }\n",
       "</style>\n",
       "<table border=\"1\" class=\"dataframe\">\n",
       "  <thead>\n",
       "    <tr style=\"text-align: right;\">\n",
       "      <th></th>\n",
       "      <th>BattingAverage</th>\n",
       "      <th>CumulativeAverageLAG1</th>\n",
       "    </tr>\n",
       "  </thead>\n",
       "  <tbody>\n",
       "    <tr>\n",
       "      <th>BattingAverage</th>\n",
       "      <td>1.000000</td>\n",
       "      <td>0.538349</td>\n",
       "    </tr>\n",
       "    <tr>\n",
       "      <th>CumulativeAverageLAG1</th>\n",
       "      <td>0.538349</td>\n",
       "      <td>1.000000</td>\n",
       "    </tr>\n",
       "  </tbody>\n",
       "</table>\n",
       "</div>"
      ],
      "text/plain": [
       "                       BattingAverage  CumulativeAverageLAG1\n",
       "BattingAverage               1.000000               0.538349\n",
       "CumulativeAverageLAG1        0.538349               1.000000"
      ]
     },
     "execution_count": 12,
     "metadata": {},
     "output_type": "execute_result"
    }
   ],
   "source": [
    "df[[\"BattingAverage\", \"CumulativeAverageLAG1\"]].corr(method=\"pearson\")"
   ]
  },
  {
   "attachments": {},
   "cell_type": "markdown",
   "metadata": {},
   "source": [
    "CumulativeAverageLAG1 is more strongly correlated with BattingAverage than BattingAverageLAG1."
   ]
  },
  {
   "cell_type": "markdown",
   "metadata": {},
   "source": [
    "**Exercise 7**\n",
    "\n",
    "* Use matplolib hist method to display the histogram of Batting average scores   \n",
    "Is the distribution normal or skewed ?"
   ]
  },
  {
   "cell_type": "code",
   "execution_count": 13,
   "metadata": {},
   "outputs": [
    {
     "data": {
      "text/plain": [
       "(array([  5.,  22.,  68., 135., 140., 118.,  68.,  24.,   6.,   2.]),\n",
       " array([0.185 , 0.2055, 0.226 , 0.2465, 0.267 , 0.2875, 0.308 , 0.3285,\n",
       "        0.349 , 0.3695, 0.39  ]),\n",
       " <BarContainer object of 10 artists>)"
      ]
     },
     "execution_count": 13,
     "metadata": {},
     "output_type": "execute_result"
    },
    {
     "data": {
      "image/png": "[encoded data removed]",
      "text/plain": [
       "<Figure size 640x480 with 1 Axes>"
      ]
     },
     "metadata": {},
     "output_type": "display_data"
    }
   ],
   "source": [
    "plt.hist(df[\"BattingAverage\"])"
   ]
  },
  {
   "cell_type": "markdown",
   "metadata": {},
   "source": [
    "### Creating Training and Test Data\n",
    "\n",
    "$Y$ = batting average score  (the dependent variable)   \n",
    "$X$ = all the other features (the independent variable)\n",
    "\n",
    "We use $X$ and $Y$ to learn a linear regression model and predict batting average scores. "
   ]
  },
  {
   "cell_type": "markdown",
   "metadata": {},
   "source": [
    "**Exercise 8:** Creating train and test data\n",
    "\n",
    "* Create two new dataframes, one called X from the BattingAverageLAG1 column and the other called Y from the BattingAverage column.\n",
    "* Reshape X to a list of lists using e.g., X.values.reshape(-1, 1).  \n",
    "When using a single feature for regression, you need to reshape your array as shown, else it will be rejected by \n",
    "the linear regression model. \n",
    "\n",
    "_**Cf. regression CS for an example.**_"
   ]
  },
  {
   "cell_type": "markdown",
   "metadata": {},
   "source": [
    "* Split the data into training and testing subsets.   \n",
    "Remember that the data must first be shuffled into a random order to remove any bias in the ordering of the dataset. An easy way to ensure this shuffling is to use the [train_test_split](https://scikit-learn.org/stable/modules/generated/sklearn.model_selection.train_test_split.html) method from sklearn.model_selection"
   ]
  },
  {
   "cell_type": "markdown",
   "metadata": {},
   "source": [
    "### Training and Testing a Linear Regression Model\n",
    "\n",
    "_**Cf. regression_cheat_sheet.ipynb**_ "
   ]
  },
  {
   "cell_type": "markdown",
   "metadata": {
    "slideshow": {
     "slide_type": ""
    }
   },
   "source": [
    "**Exercise 9:**  Create a LinearRegression object\n",
    "Use sklearn [LinearRegression()](https://scikit-learn.org/stable/auto_examples/linear_model/plot_ols.html) method "
   ]
  },
  {
   "cell_type": "markdown",
   "metadata": {},
   "source": [
    "**Exercise 10:** Fit the model\n",
    "\n",
    "* The fit() function estimates the coefficients the linear regression using least squares.\n",
    "* It learns a model"
   ]
  },
  {
   "cell_type": "markdown",
   "metadata": {},
   "source": [
    "**Exercise 11:** Compute the predictions\n",
    "\n",
    "* on the training data\n",
    "* on the test data"
   ]
  },
  {
   "cell_type": "markdown",
   "metadata": {},
   "source": [
    "### Inspecting the model predictions"
   ]
  },
  {
   "cell_type": "markdown",
   "metadata": {},
   "source": [
    "How well does the model fit the test data ? (PROVIDED: adapt it to the variable names you used)  \n",
    "\n",
    "* Create a scatter plot representing the test data: X are the input features and Y are the observed values. \n",
    "* Overlay it with a plot representing the model predictions:  X are the input features and Y are the values predicted for X by the model.     \n",
    "The closer the datapoints are to the blue line, the most accurate the model predictions are. "
   ]
  },
  {
   "cell_type": "code",
   "execution_count": null,
   "metadata": {},
   "outputs": [],
   "source": [
    "# Visualising the Test set results \n",
    "\n",
    "plt.scatter(X_test, Y_test, color = 'red') \n",
    "plt.plot(X_test, lm.predict(X_test), color = 'blue') \n",
    "plt.title('BattingAverageLAG1 vs BattingAverage (Test set)') \n",
    "plt.xlabel('BattingAverageLAG1') \n",
    "plt.ylabel('BattingAverage') \n",
    "plt.show()"
   ]
  },
  {
   "cell_type": "markdown",
   "metadata": {},
   "source": [
    "**Exercise 12:** Compute the mean squared error for both predictions.   \n",
    "Use the mean_squared_error method from sklearn.metrics "
   ]
  },
  {
   "cell_type": "markdown",
   "metadata": {},
   "source": [
    "**Exercise 13:** Print out the model score ($R^2$)\n",
    "\n",
    "* lm.score is the [coefficient of determination](https://en.wikipedia.org/wiki/Coefficient_of_determination)\n",
    "* It is the proportion of the variance in the dependent variable that is predictable from the independent variable(s).\n",
    "* a statistical measure of how well the regression predictions approximate the real data points\n",
    "* An $R^2$ of 1 indicates that the regression predictions perfectly fit the data."
   ]
  },
  {
   "cell_type": "markdown",
   "metadata": {},
   "source": [
    "**Exercise 14:** Inspect the feature weights\n",
    "\n",
    "* lm.coef_ = array of estimated coefficients\n",
    "* Use pandas DatFrame.from_items to create a dataframe whose columns are the features (X.columns) and the model coefficients (lm.coef_ )"
   ]
  },
  {
   "cell_type": "markdown",
   "metadata": {},
   "source": [
    "**Exercise 15:** Compare predicted and expected scores"
   ]
  },
  {
   "cell_type": "markdown",
   "metadata": {},
   "source": [
    "**Exercise 16:** Display the histogram of predicted scores\n",
    "\n",
    "* Use plt.hist method"
   ]
  },
  {
   "cell_type": "markdown",
   "metadata": {},
   "source": [
    "**Exercise 17:** Plot the histograms of the true scores compared to the predicted scores (side by side)"
   ]
  },
  {
   "cell_type": "markdown",
   "metadata": {},
   "source": [
    "### Multiple Linear Regression (PROVIDED)\n",
    "#### Using both features\n"
   ]
  },
  {
   "cell_type": "code",
   "execution_count": null,
   "metadata": {},
   "outputs": [],
   "source": [
    "# Get the features values (X) and the target values (Y)\n",
    "X = baseball_df[[\"BattingAverageLAG1\",\"CumulativeAverageLAG1\"]]\n",
    "Y = baseball_df[\"BattingAverage\"]"
   ]
  },
  {
   "cell_type": "markdown",
   "metadata": {
    "slideshow": {
     "slide_type": "fragment"
    }
   },
   "source": [
    "#### Training a new model \n",
    "\n",
    "Retrain to take into account the new features"
   ]
  },
  {
   "cell_type": "code",
   "execution_count": null,
   "metadata": {},
   "outputs": [],
   "source": [
    "# Import 'train_test_split'\n",
    "from sklearn.model_selection import train_test_split\n",
    "\n",
    "# Shuffle and split the data into training and testing subsets\n",
    "X_train, X_test, Y_train, Y_test  = train_test_split(X,Y, \n",
    "                                                     test_size=0.20, random_state=42)\n",
    "\n",
    "lm = LinearRegression()\n",
    "lm.fit(X_train, Y_train)\n",
    "\n",
    "LinearRegression(copy_X=True, fit_intercept=True, normalize=True)"
   ]
  },
  {
   "cell_type": "markdown",
   "metadata": {
    "slideshow": {
     "slide_type": "slide"
    }
   },
   "source": [
    "#### Inspecting the results\n",
    "\n",
    "Inspect the feature weight"
   ]
  },
  {
   "cell_type": "code",
   "execution_count": null,
   "metadata": {},
   "outputs": [],
   "source": [
    "L = {'Features':X_train.columns,'Coefficients':lm.coef_}\n",
    "pd.DataFrame(L)"
   ]
  },
  {
   "cell_type": "markdown",
   "metadata": {},
   "source": [
    "Compute the mean squared error"
   ]
  },
  {
   "cell_type": "code",
   "execution_count": null,
   "metadata": {},
   "outputs": [],
   "source": [
    "print(\"MSE on Y_train:\", np.mean((Y_train - lm.predict(X_train)) ** 2))\n",
    "print(\"MSE on X_test:\", np.mean((Y_test - lm.predict(X_test)) ** 2))"
   ]
  },
  {
   "cell_type": "markdown",
   "metadata": {},
   "source": [
    "Compute the score (coefficient of determination)"
   ]
  },
  {
   "cell_type": "code",
   "execution_count": null,
   "metadata": {},
   "outputs": [],
   "source": [
    "print(lm.score(X_train,Y_train))\n",
    "print(lm.score(X_test,Y_test))"
   ]
  }
 ],
 "metadata": {
  "kernelspec": {
   "display_name": "Python 3",
   "language": "python",
   "name": "python3"
  },
  "language_info": {
   "codemirror_mode": {
    "name": "ipython",
    "version": 3
   },
   "file_extension": ".py",
   "mimetype": "text/x-python",
   "name": "python",
   "nbconvert_exporter": "python",
   "pygments_lexer": "ipython3",
   "version": "3.10.10"
  },
  "vscode": {
   "interpreter": {
    "hash": "3de7a084b318d7b8bf96005cb5db4da14a27f60df0465391ef48a4c336f03bfe"
   }
  }
 },
 "nbformat": 4,
 "nbformat_minor": 2
}
