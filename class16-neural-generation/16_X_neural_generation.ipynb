{
 "cells": [
  {
   "cell_type": "markdown",
   "metadata": {},
   "source": [
    "# Exercise Lecture 16: Neural Generation\n",
    "\n",
    "In this assignement, we implement an RNN model which learns to generate a film title.\n",
    "\n",
    "A language model can predict the probability of the next word given a sequence of preceding words. Here we will create a character based language model to learn to generate a film title. \n",
    "\n",
    "The data is in the movies-sf.txt file on Arche. Each line of that line contains a film title followed by the year it came out (in brackets). \n"
   ]
  },
  {
   "cell_type": "code",
   "execution_count": 2,
   "metadata": {},
   "outputs": [],
   "source": [
    "%matplotlib inline"
   ]
  },
  {
   "cell_type": "markdown",
   "metadata": {},
   "source": [
    "#### Exercise 1.1 - Creating char2int and int2char dictionaries\n",
    "\n",
    "* Create the dictionaries mapping tokens to integers and back. Here because we train a character based model the tokens are the characters contained in the corpus. Your dictionary should include two special symbols:\n",
    "\n",
    "- the `<eos>` symbol for padding\n",
    "- the `<start>` symbol which indicates the start of the sequence (null context, this will be used as input when generating)\n",
    "\n",
    "* Use your dictionary to convert each film titles in the corpus to sequences of integers (store this in a variable; it will be used in Exercise 2.1).\n",
    "\n",
    "**Hint :** Cf. Exercise 1.2 in Exercise sheet 17"
   ]
  },
  {
   "cell_type": "code",
   "execution_count": 3,
   "metadata": {},
   "outputs": [],
   "source": [
    "# import the data: movies + dates\n",
    "with open('movies-sf.txt', 'r', encoding=\"utf-8\") as f:\n",
    "    titles = f.readlines()"
   ]
  },
  {
   "cell_type": "code",
   "execution_count": 4,
   "metadata": {},
   "outputs": [
    {
     "name": "stdout",
     "output_type": "stream",
     "text": [
      "Homunculus, 6. Teil - Das Ende des Homunculus (1917)\n",
      "\n"
     ]
    }
   ],
   "source": [
    "print(titles[3])"
   ]
  },
  {
   "cell_type": "code",
   "execution_count": 5,
   "metadata": {},
   "outputs": [
    {
     "name": "stdout",
     "output_type": "stream",
     "text": [
      "Total number of characters: 85\n",
      "['<start>', '<eos>', 'J', 'Q', '-', 'D', 'w', 'M', 'X', '2', '6', '\\n', '8', 'L', '?', ' ', 'R', 'W', 'h', 'v', 'b', 'y', 'T', '.', 'f', '3', \"'\", '5', ')', 'C', 'a', 'K', '/', 'Y', 'z', '&', '@', 'N', ';', 'H', '_', 'E', 'm', 'i', 's', '=', 'k', 'd', '1', 'g', 'o', 'j', 'O', '(', '$', '+', '0', 'V', 'e', '7', 'p', 'x', 'r', 'I', '#', 'P', '4', '9', 't', 'c', '!', 'G', 'n', 'q', 'F', 'U', 'S', 'B', 'Z', ':', 'A', '%', 'l', 'u', ',']\n"
     ]
    }
   ],
   "source": [
    "# get the set of all characters contained in the movie titles\n",
    "characters_set = set()\n",
    "for t in titles:\n",
    "    for c in t:\n",
    "        characters_set.add(c)\n",
    "\n",
    "# also add the start and end tokens\n",
    "characters = [\"<start>\", \"<eos>\"]\n",
    "characters.extend(list(set(characters_set)))\n",
    "\n",
    "print(\"Total number of characters:\", len(characters))\n",
    "print(characters)"
   ]
  },
  {
   "cell_type": "code",
   "execution_count": 6,
   "metadata": {},
   "outputs": [],
   "source": [
    "# create the two mappings\n",
    "char2int = {c:i for i,c in enumerate(characters)}\n",
    "int2char = {i:c for i,c in enumerate(characters)}"
   ]
  },
  {
   "cell_type": "code",
   "execution_count": 7,
   "metadata": {},
   "outputs": [
    {
     "data": {
      "text/plain": [
       "60"
      ]
     },
     "execution_count": 7,
     "metadata": {},
     "output_type": "execute_result"
    }
   ],
   "source": [
    "char2int[\"p\"]"
   ]
  },
  {
   "cell_type": "code",
   "execution_count": 8,
   "metadata": {},
   "outputs": [
    {
     "data": {
      "text/plain": [
       "'I'"
      ]
     },
     "execution_count": 8,
     "metadata": {},
     "output_type": "execute_result"
    }
   ],
   "source": [
    "int2char[63]"
   ]
  },
  {
   "cell_type": "code",
   "execution_count": 9,
   "metadata": {},
   "outputs": [],
   "source": [
    "titles_as_char = []\n",
    "for t in titles:\n",
    "    # start\n",
    "    seq = [\"<start>\"]\n",
    "    # title\n",
    "    for c in t:\n",
    "        seq.append(c)\n",
    "    #end\n",
    "    seq.append(\"<eos>\")\n",
    "    titles_as_char.append(seq)"
   ]
  },
  {
   "cell_type": "code",
   "execution_count": 10,
   "metadata": {},
   "outputs": [
    {
     "name": "stdout",
     "output_type": "stream",
     "text": [
      "['<start>', 'H', 'o', 'm', 'u', 'n', 'c', 'u', 'l', 'u', 's', ',', ' ', '6', '.', ' ', 'T', 'e', 'i', 'l', ' ', '-', ' ', 'D', 'a', 's', ' ', 'E', 'n', 'd', 'e', ' ', 'd', 'e', 's', ' ', 'H', 'o', 'm', 'u', 'n', 'c', 'u', 'l', 'u', 's', ' ', '(', '1', '9', '1', '7', ')', '\\n', '<eos>']\n"
     ]
    }
   ],
   "source": [
    "print(titles_as_char[3])"
   ]
  },
  {
   "cell_type": "code",
   "execution_count": 11,
   "metadata": {},
   "outputs": [
    {
     "name": "stdout",
     "output_type": "stream",
     "text": [
      "[0, 39, 50, 42, 83, 72, 69, 83, 82, 83, 44, 84, 15, 10, 23, 15, 22, 58, 43, 82, 15, 4, 15, 5, 30, 44, 15, 41, 72, 47, 58, 15, 47, 58, 44, 15, 39, 50, 42, 83, 72, 69, 83, 82, 83, 44, 15, 53, 48, 67, 48, 59, 28, 11, 1]\n"
     ]
    }
   ],
   "source": [
    "titles_as_ints = []\n",
    "for t in titles_as_char:\n",
    "    titles_as_ints.append([char2int[c] for c in t])\n",
    "\n",
    "print(titles_as_ints[3])"
   ]
  },
  {
   "cell_type": "markdown",
   "metadata": {},
   "source": [
    "#### Exercise 1.2 - Print out the number of titles in the data"
   ]
  },
  {
   "cell_type": "code",
   "execution_count": 12,
   "metadata": {},
   "outputs": [
    {
     "name": "stdout",
     "output_type": "stream",
     "text": [
      "7205\n"
     ]
    }
   ],
   "source": [
    "print(len(titles))"
   ]
  },
  {
   "cell_type": "markdown",
   "metadata": {},
   "source": [
    "#### Exercise 1.3 - Print out the histogram of title lengths"
   ]
  },
  {
   "cell_type": "markdown",
   "metadata": {},
   "source": [
    "We display the histogram of title lengths to decide what the maximum length will be. "
   ]
  },
  {
   "cell_type": "code",
   "execution_count": 13,
   "metadata": {},
   "outputs": [
    {
     "data": {
      "image/png": "[encoded data removed]",
      "text/plain": [
       "<Figure size 640x480 with 1 Axes>"
      ]
     },
     "metadata": {},
     "output_type": "display_data"
    }
   ],
   "source": [
    "# plot the histogram of title lengths\n",
    "import matplotlib.pyplot as plt\n",
    "import numpy as np\n",
    "\n",
    "title_lengths = [len(t) for t in titles_as_char]\n",
    "plt.hist(title_lengths, bins=20)\n",
    "plt.title(\"Histogram of title lengths\")\n",
    "plt.xlabel(\"Number of characters\")\n",
    "plt.ylabel(\"Number of titles\")\n",
    "plt.show()"
   ]
  },
  {
   "cell_type": "markdown",
   "metadata": {},
   "source": [
    "Most titles have a length under 40 characters so we'll use 40 as maximum length when encoding the data. "
   ]
  },
  {
   "cell_type": "markdown",
   "metadata": {},
   "source": [
    "## 2. Creating the training and validation data\n",
    "\n",
    "The RNN will iterate over the characters in x and predict the next character. Hence x is the sequence of characters over which the RNN iterates and y is the same sequence shifted by one character e.g. \n",
    "\n",
    "x = [1, 31, 19, 5, 9, 2, 32, ...]   \n",
    "y = [31, 19, 5, 9, 2, 32, 6 ...]\n",
    "\n",
    "where each integer corresponds to a character."
   ]
  },
  {
   "cell_type": "code",
   "execution_count": 14,
   "metadata": {},
   "outputs": [],
   "source": [
    "import torch\n",
    "import torch.nn as nn\n",
    "import torch.nn.functional as F\n",
    "import torch.optim as optim\n",
    "from torch.autograd import Variable\n",
    "\n",
    "max_len = 40\n",
    "batch_size = 8\n",
    "embed_size = 16\n",
    "hidden_size = 64"
   ]
  },
  {
   "cell_type": "markdown",
   "metadata": {},
   "source": [
    "#### Exercise  2.1 - Creating tensors\n",
    "\n",
    "To create the X and Y tensors\n",
    "\n",
    "* Create two long tensors X and Y of dimension (nb of training instances, max input length) and whose values are 0  (use torch.zeros())\n",
    "* Iterate over the integer version of the data file you created in Exercise 1.1 and for each line l with (integer converted) title t\n",
    "   - calculate the length of the title to be encoded (which is the length of the title if the title is shorter than the max len and otherwise the max len)\n",
    "   - store t into a LongTensor **up to the character before last** (i.e. omit the last character)\n",
    "   - set the l row of X to the long tensor version of t\n",
    "* This gives you the tensor for the input, X\n",
    "* To create Y do the same thing but for each title omit the first character and store the title up to and including the last character\n"
   ]
  },
  {
   "cell_type": "code",
   "execution_count": 26,
   "metadata": {},
   "outputs": [],
   "source": [
    "X = torch.zeros(len(titles_as_ints), max_len, dtype=torch.long)\n",
    "Y = torch.zeros(len(titles_as_ints), max_len, dtype=torch.long)"
   ]
  },
  {
   "cell_type": "code",
   "execution_count": 27,
   "metadata": {},
   "outputs": [],
   "source": [
    "for i, title_int in enumerate(titles_as_ints):\n",
    "    # if the title is longer than max_len, we keep only the first max_len characters\n",
    "    length = min(len(title_int), max_len)\n",
    "\n",
    "    # store the title up to the character just before the last one (X)\n",
    "    X[i, :length-1] = torch.LongTensor(title_int[:length-1])\n",
    "\n",
    "    # store the title from the second character to the last one (Y)\n",
    "    Y[i, :length-1] = torch.LongTensor(title_int[1:length])"
   ]
  },
  {
   "cell_type": "markdown",
   "metadata": {},
   "source": [
    "#### Exercise  2.2 - Checking the tensors\n",
    "\n",
    "Check that your X and Y tensors are ok by printing the same row for both (e.g., X[30] and Y[30].\n",
    "\n",
    "* Use the tolist() method \n",
    "* print both the integer and the character version (using the int2char dic created above)\n",
    "\n",
    "You should see 2 lists that are almost identical: Y is X shifted by one character to the right e.g., \n",
    "\n",
    "\n",
    "X[30] = [1, 31, 19, 5, 9, 2, 32, ...]   \n",
    "Y[30] = [31, 19, 5, 9, 2, 32, 6 ...]"
   ]
  },
  {
   "cell_type": "code",
   "execution_count": 28,
   "metadata": {},
   "outputs": [
    {
     "name": "stdout",
     "output_type": "stream",
     "text": [
      "[0, 39, 50, 42, 83, 72, 69, 83, 82, 83, 44, 84, 15, 10, 23, 15, 22, 58, 43, 82, 15, 4, 15, 5, 30, 44, 15, 41, 72, 47, 58, 15, 47, 58, 44, 15, 39, 50, 42, 83, 72, 69, 83, 82, 83, 44, 15, 53, 48, 67, 48, 59, 28, 11, 1]\n",
      "tensor([ 0, 39, 50, 42, 83, 72, 69, 83, 82, 83, 44, 84, 15, 10, 23, 15, 22, 58,\n",
      "        43, 82, 15,  4, 15,  5, 30, 44, 15, 41, 72, 47, 58, 15, 47, 58, 44, 15,\n",
      "        39, 50, 42,  0])\n",
      "tensor([39, 50, 42, 83, 72, 69, 83, 82, 83, 44, 84, 15, 10, 23, 15, 22, 58, 43,\n",
      "        82, 15,  4, 15,  5, 30, 44, 15, 41, 72, 47, 58, 15, 47, 58, 44, 15, 39,\n",
      "        50, 42, 83,  0])\n"
     ]
    }
   ],
   "source": [
    "print(titles_as_ints[3])\n",
    "print(X[3])\n",
    "print(Y[3])"
   ]
  },
  {
   "cell_type": "markdown",
   "metadata": {},
   "source": [
    "\n",
    "#### Exercise 2.2  - Split X and Y into  train and validation data\n",
    "\n",
    "* Split X into two parts, one called X_train which consists of the first 6500 items and the other called X_valid which includes the rest of the data\n",
    "* Do the same for Y"
   ]
  },
  {
   "cell_type": "code",
   "execution_count": 29,
   "metadata": {},
   "outputs": [],
   "source": [
    "X_train = X[:6500]\n",
    "X_valid = X[6500:len(X)]\n",
    "\n",
    "Y_train = Y[:6500]\n",
    "Y_valid = Y[6500:len(Y)]"
   ]
  },
  {
   "cell_type": "code",
   "execution_count": 30,
   "metadata": {},
   "outputs": [
    {
     "name": "stdout",
     "output_type": "stream",
     "text": [
      "torch.Size([6500, 40]) torch.Size([705, 40])\n"
     ]
    }
   ],
   "source": [
    "print(X_train.size(), X_valid.size())"
   ]
  },
  {
   "cell_type": "markdown",
   "metadata": {},
   "source": [
    "#### Exercise  2.3 - Use torch DataLoader to split training and validation data into batches\n",
    "\n",
    "**Hint:** This was provided in the previous lab sessions"
   ]
  },
  {
   "cell_type": "code",
   "execution_count": 31,
   "metadata": {},
   "outputs": [],
   "source": [
    "from torch.utils.data import TensorDataset, DataLoader\n",
    "\n",
    "# the TensorDataset is a ready to use class to represent your data as list of tensors. \n",
    "# Note that input_features and labels must match on the length of the first dimension\n",
    "train_set = TensorDataset(X_train, Y_train)\n",
    "valid_set = TensorDataset(X_valid, Y_valid)\n",
    "\n",
    "# DataLoader shuffles and batches the data and load its in parallel using multiprocessing workers\n",
    "\n",
    "train_loader = DataLoader(train_set, batch_size=batch_size, shuffle=True)\n",
    "valid_loader = DataLoader(valid_set, batch_size=batch_size)"
   ]
  },
  {
   "cell_type": "markdown",
   "metadata": {},
   "source": [
    "## 3. Defining the Neural Network\n",
    "\n",
    "We use a GRU (Gated Recurrent Network) as a recurrent network. There are three layers -  one embedding layer which encodes the input character into a character embedding/representation, one GRU layer (which may itself have multiple layers) that operates on that character embedding and a hidden state, and a decoder (generation) layer that outputs the probability distribution.\n",
    "\n",
    "* Pytorch [linear](https://pytorch.org/docs/stable/nn.html?highlight=linear#torch.nn.Linear)\n",
    "\n",
    "* Pytorch [GRU](https://pytorch.org/docs/stable/nn.html?highlight=gru#torch.nn.GRU)\n",
    "\n",
    "* The main difference with the sequence tagging approach is that at each recurring step, the RNN now takes an additional input (hidden) which is the hidden state produced at the preceding time step. This ensures that the prediction made depends on the character that was generated by the RNN at the previous time step (and indirectly at all previous time steps)."
   ]
  },
  {
   "cell_type": "code",
   "execution_count": 35,
   "metadata": {},
   "outputs": [],
   "source": [
    "# define the model\n",
    "class RNN(nn.Module):\n",
    "\n",
    "    def __init__(self, vocab_size, embed_size, hidden_size, num_layers):\n",
    "        super().__init__()\n",
    "\n",
    "        # define the embedding layer\n",
    "        self.embed = nn.Embedding(vocab_size, embed_size)\n",
    "\n",
    "        # define the GRU layer\n",
    "        self.rnn = nn.GRU(embed_size, hidden_size, num_layers = num_layers, bidirectional = False, batch_first=True)\n",
    "\n",
    "        # define the dropout layer\n",
    "        self.dropout = nn.Dropout(0.3, inplace=False)\n",
    "\n",
    "        # define the output layer\n",
    "        self.decision = nn.Linear(hidden_size, vocab_size)\n",
    "        \n",
    "    def forward(self, x):\n",
    "        embed = self.embed(x)\n",
    "        output, hidden = self.rnn(embed)\n",
    "        return self.decision(self.dropout(hidden))\n"
   ]
  },
  {
   "cell_type": "markdown",
   "metadata": {},
   "source": [
    "#### Exercise 3.1 - Specify a language model\n",
    "\n",
    "* Modify the model provided in the previous exercise sheet (Exercise 4.1) so that the previous hidden state is input to the model"
   ]
  },
  {
   "cell_type": "markdown",
   "metadata": {},
   "source": [
    "#### Exercise 3.2  - Checking the model output\n",
    "\n",
    "* Print out the dimensions of the two tensors (output, hidden) output by your model when applied to X"
   ]
  },
  {
   "cell_type": "code",
   "execution_count": 36,
   "metadata": {},
   "outputs": [
    {
     "data": {
      "text/plain": [
       "RNN(\n",
       "  (embed): Embedding(85, 16)\n",
       "  (rnn): GRU(16, 64, batch_first=True)\n",
       "  (dropout): Dropout(p=0.3, inplace=False)\n",
       "  (decision): Linear(in_features=64, out_features=85, bias=True)\n",
       ")"
      ]
     },
     "execution_count": 36,
     "metadata": {},
     "output_type": "execute_result"
    }
   ],
   "source": [
    "# create the model\n",
    "model = RNN(len(characters), embed_size, hidden_size, num_layers = 1)\n",
    "model"
   ]
  },
  {
   "cell_type": "code",
   "execution_count": null,
   "metadata": {},
   "outputs": [],
   "source": []
  },
  {
   "cell_type": "markdown",
   "metadata": {},
   "source": [
    "## Evaluation and Training"
   ]
  },
  {
   "cell_type": "markdown",
   "metadata": {},
   "source": [
    "####  Define a function to evaluate the performance of the model (PROVIDED)\n",
    "\n",
    "The function compute the perplexity of the model on the data: \n",
    "\n",
    "$\n",
    "PP(x) = P(x)^{-\\frac{1}{N}} = \\left[\\prod_i P(x_i)\\right]^{-\\frac{1}{N}}\n",
    "$\n",
    "\n",
    "where $x$ is a sequence of words, $P(x)=\\prod_i P(x_i)$ is the probability assigned to that sequence by the model and $N$ its lenght. This can be rewritten in the log domain as:\n",
    "\n",
    "$\n",
    "PP(x) = exp\\left(-\\frac{1}{N}\\sum_i \\log P(x_i)\\right)\n",
    "$\n",
    "\n",
    "Since the loss function returns $-\\frac{1}{N}\\log P(x_i)$, perplexity can be computed by taking the exponential of the avg loss. Note that we do not handle the padding hence perplexity will be affected by it. "
   ]
  },
  {
   "cell_type": "code",
   "execution_count": 38,
   "metadata": {},
   "outputs": [
    {
     "ename": "RuntimeError",
     "evalue": "shape '[320, -1]' is invalid for input of size 680",
     "output_type": "error",
     "traceback": [
      "\u001b[1;31m---------------------------------------------------------------------------\u001b[0m",
      "\u001b[1;31mRuntimeError\u001b[0m                              Traceback (most recent call last)",
      "Cell \u001b[1;32mIn[38], line 14\u001b[0m\n\u001b[0;32m     11\u001b[0m         num \u001b[39m+\u001b[39m\u001b[39m=\u001b[39m \u001b[39mlen\u001b[39m(y)\n\u001b[0;32m     12\u001b[0m     \u001b[39mreturn\u001b[39;00m total_loss \u001b[39m/\u001b[39m num, math\u001b[39m.\u001b[39mexp(total_loss \u001b[39m/\u001b[39m num)\n\u001b[1;32m---> 14\u001b[0m perf(model, valid_loader)\n",
      "Cell \u001b[1;32mIn[38], line 9\u001b[0m, in \u001b[0;36mperf\u001b[1;34m(model, loader)\u001b[0m\n\u001b[0;32m      7\u001b[0m \u001b[39mwith\u001b[39;00m torch\u001b[39m.\u001b[39mno_grad():\n\u001b[0;32m      8\u001b[0m   y_scores\u001b[39m=\u001b[39m model(x)\n\u001b[1;32m----> 9\u001b[0m   loss \u001b[39m=\u001b[39m criterion(y_scores\u001b[39m.\u001b[39;49mview(y\u001b[39m.\u001b[39;49msize(\u001b[39m0\u001b[39;49m) \u001b[39m*\u001b[39;49m y\u001b[39m.\u001b[39;49msize(\u001b[39m1\u001b[39;49m), \u001b[39m-\u001b[39;49m\u001b[39m1\u001b[39;49m), y\u001b[39m.\u001b[39mview(y\u001b[39m.\u001b[39msize(\u001b[39m0\u001b[39m) \u001b[39m*\u001b[39m y\u001b[39m.\u001b[39msize(\u001b[39m1\u001b[39m)))\n\u001b[0;32m     10\u001b[0m   total_loss \u001b[39m+\u001b[39m\u001b[39m=\u001b[39m loss\u001b[39m.\u001b[39mitem()\n\u001b[0;32m     11\u001b[0m   num \u001b[39m+\u001b[39m\u001b[39m=\u001b[39m \u001b[39mlen\u001b[39m(y)\n",
      "\u001b[1;31mRuntimeError\u001b[0m: shape '[320, -1]' is invalid for input of size 680"
     ]
    }
   ],
   "source": [
    "import math\n",
    "def perf(model, loader):\n",
    "    criterion = nn.CrossEntropyLoss()\n",
    "    model.eval()\n",
    "    total_loss = num = 0\n",
    "    for x, y in loader:\n",
    "      with torch.no_grad():\n",
    "        y_scores= model(x)\n",
    "        loss = criterion(y_scores.view(y.size(0) * y.size(1), -1), y.view(y.size(0) * y.size(1)))\n",
    "        total_loss += loss.item()\n",
    "        num += len(y)\n",
    "    return total_loss / num, math.exp(total_loss / num)\n",
    "\n",
    "perf(model, valid_loader)"
   ]
  },
  {
   "cell_type": "markdown",
   "metadata": {},
   "source": [
    "#### Exercise 3.3 - Training \n",
    "\n",
    "**Hint:**  Training is the same as for sequence tagging (Section 4 of Exercise Sheet 17)  modulo the added argument returned by the model.\n",
    "* Define the training loop\n",
    "* call you training function to iterate 5 times (epochs) over the data"
   ]
  },
  {
   "cell_type": "code",
   "execution_count": null,
   "metadata": {},
   "outputs": [],
   "source": [
    "# YOUR CODE HERE"
   ]
  },
  {
   "cell_type": "markdown",
   "metadata": {
    "collapsed": true
   },
   "source": [
    "## 4. Generating a title (PROVIDED)\n",
    "\n",
    "Write a function which takes the model as input and generates a title.\n",
    "  \n",
    "Reminder: at each time step t, the input to the model is the previous character $c_{t-1}$ and the previous hidden state $h_{t-1}$. So to initialise generation, you need to input  model with a the tensor for that letter and an initial hidden state of size hidden_size. \n",
    "\n",
    "* The inital hidden state should be a tensor of size  (num_layers * num_directions, batch size, hidden_size)\n",
    " with 1 the batch size (only one input in that batch)\n",
    "* The initial character tensor should be of size (1,1) (one row, one char) and contain the integer for the < start > symbol. \n",
    "\n",
    "To generate\n",
    "* use these two tensors as input to the model\n",
    "* Use torch max used to compute predictions (see previous exercise sheet)\n",
    "* break if the selected char (the prediction) is < eos >\n",
    "* else print out the corresponding character"
   ]
  },
  {
   "cell_type": "code",
   "execution_count": null,
   "metadata": {},
   "outputs": [],
   "source": [
    "def generate_most_probable(model):\n",
    "    # size for hidden: (batch, num_layers * num_directions, hidden_size)\n",
    "    hidden = torch.zeros(2, 1, hidden_size)\n",
    "    print(hidden.size())\n",
    "    x = torch.zeros(1, 1).long()\n",
    "    x[0, 0] = char2int['<start>']\n",
    "    \n",
    "    for i in range(100):\n",
    "      with torch.no_grad():\n",
    "        y_scores, hidden = model(x, hidden)\n",
    "        y_pred = torch.max(y_scores, 2)[1]\n",
    "        selected = y_pred.data[0, 0]\n",
    "        if selected == char2int['<eos>']:\n",
    "            break\n",
    "        print(int2char[selected.item()], end='')\n",
    "        x[0, 0] = selected\n",
    "    print()\n",
    "\n",
    "generate_most_probable(model)"
   ]
  }
 ],
 "metadata": {
  "kernelspec": {
   "display_name": "Python 3",
   "language": "python",
   "name": "python3"
  },
  "language_info": {
   "codemirror_mode": {
    "name": "ipython",
    "version": 3
   },
   "file_extension": ".py",
   "mimetype": "text/x-python",
   "name": "python",
   "nbconvert_exporter": "python",
   "pygments_lexer": "ipython3",
   "version": "3.10.10"
  },
  "vscode": {
   "interpreter": {
    "hash": "3de7a084b318d7b8bf96005cb5db4da14a27f60df0465391ef48a4c336f03bfe"
   }
  }
 },
 "nbformat": 4,
 "nbformat_minor": 2
}
