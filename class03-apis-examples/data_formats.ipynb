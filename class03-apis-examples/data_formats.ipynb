{
 "cells": [
  {
   "attachments": {},
   "cell_type": "markdown",
   "id": "7f66a541",
   "metadata": {},
   "source": [
    "# Handling file formats"
   ]
  },
  {
   "attachments": {},
   "cell_type": "markdown",
   "id": "5999137d",
   "metadata": {},
   "source": [
    "## 1. CSV"
   ]
  },
  {
   "cell_type": "code",
   "execution_count": 25,
   "id": "f723999d",
   "metadata": {},
   "outputs": [
    {
     "data": {
      "text/html": [
       "<div>\n",
       "<style scoped>\n",
       "    .dataframe tbody tr th:only-of-type {\n",
       "        vertical-align: middle;\n",
       "    }\n",
       "\n",
       "    .dataframe tbody tr th {\n",
       "        vertical-align: top;\n",
       "    }\n",
       "\n",
       "    .dataframe thead th {\n",
       "        text-align: right;\n",
       "    }\n",
       "</style>\n",
       "<table border=\"1\" class=\"dataframe\">\n",
       "  <thead>\n",
       "    <tr style=\"text-align: right;\">\n",
       "      <th></th>\n",
       "      <th>animal_type</th>\n",
       "      <th>sex</th>\n",
       "      <th>name</th>\n",
       "      <th>age</th>\n",
       "      <th>colour</th>\n",
       "    </tr>\n",
       "  </thead>\n",
       "  <tbody>\n",
       "    <tr>\n",
       "      <th>0</th>\n",
       "      <td>cat</td>\n",
       "      <td>female</td>\n",
       "      <td>Arta</td>\n",
       "      <td>2</td>\n",
       "      <td>orange</td>\n",
       "    </tr>\n",
       "    <tr>\n",
       "      <th>1</th>\n",
       "      <td>dog</td>\n",
       "      <td>male</td>\n",
       "      <td>Bork</td>\n",
       "      <td>5</td>\n",
       "      <td>brown</td>\n",
       "    </tr>\n",
       "    <tr>\n",
       "      <th>2</th>\n",
       "      <td>mouse</td>\n",
       "      <td>male</td>\n",
       "      <td>Jerry</td>\n",
       "      <td>30</td>\n",
       "      <td>brown</td>\n",
       "    </tr>\n",
       "    <tr>\n",
       "      <th>3</th>\n",
       "      <td>cat</td>\n",
       "      <td>male</td>\n",
       "      <td>Tom</td>\n",
       "      <td>40</td>\n",
       "      <td>blue</td>\n",
       "    </tr>\n",
       "    <tr>\n",
       "      <th>4</th>\n",
       "      <td>rat</td>\n",
       "      <td>female</td>\n",
       "      <td>Lariska</td>\n",
       "      <td>25</td>\n",
       "      <td>grey</td>\n",
       "    </tr>\n",
       "  </tbody>\n",
       "</table>\n",
       "</div>"
      ],
      "text/plain": [
       "  animal_type     sex     name  age  colour\n",
       "0         cat  female     Arta    2  orange\n",
       "1         dog    male     Bork    5   brown\n",
       "2       mouse    male    Jerry   30   brown\n",
       "3         cat    male      Tom   40    blue\n",
       "4         rat  female  Lariska   25    grey"
      ]
     },
     "execution_count": 25,
     "metadata": {},
     "output_type": "execute_result"
    }
   ],
   "source": [
    "import pandas as pd\n",
    "animals = pd.read_csv(\"animals.csv\")\n",
    "animals"
   ]
  },
  {
   "cell_type": "code",
   "execution_count": 6,
   "id": "6cff1896",
   "metadata": {},
   "outputs": [
    {
     "name": "stdout",
     "output_type": "stream",
     "text": [
      "Help on method to_dict in module pandas.core.frame:\n",
      "\n",
      "to_dict(orient: \"Literal['dict', 'list', 'series', 'split', 'tight', 'records', 'index']\" = 'dict', into: 'type[dict]' = <class 'dict'>) -> 'dict | list[dict]' method of pandas.core.frame.DataFrame instance\n",
      "    Convert the DataFrame to a dictionary.\n",
      "    \n",
      "    The type of the key-value pairs can be customized with the parameters\n",
      "    (see below).\n",
      "    \n",
      "    Parameters\n",
      "    ----------\n",
      "    orient : str {'dict', 'list', 'series', 'split', 'tight', 'records', 'index'}\n",
      "        Determines the type of the values of the dictionary.\n",
      "    \n",
      "        - 'dict' (default) : dict like {column -> {index -> value}}\n",
      "        - 'list' : dict like {column -> [values]}\n",
      "        - 'series' : dict like {column -> Series(values)}\n",
      "        - 'split' : dict like\n",
      "          {'index' -> [index], 'columns' -> [columns], 'data' -> [values]}\n",
      "        - 'tight' : dict like\n",
      "          {'index' -> [index], 'columns' -> [columns], 'data' -> [values],\n",
      "          'index_names' -> [index.names], 'column_names' -> [column.names]}\n",
      "        - 'records' : list like\n",
      "          [{column -> value}, ... , {column -> value}]\n",
      "        - 'index' : dict like {index -> {column -> value}}\n",
      "    \n",
      "        Abbreviations are allowed. `s` indicates `series` and `sp`\n",
      "        indicates `split`.\n",
      "    \n",
      "        .. versionadded:: 1.4.0\n",
      "            'tight' as an allowed value for the ``orient`` argument\n",
      "    \n",
      "    into : class, default dict\n",
      "        The collections.abc.Mapping subclass used for all Mappings\n",
      "        in the return value.  Can be the actual class or an empty\n",
      "        instance of the mapping type you want.  If you want a\n",
      "        collections.defaultdict, you must pass it initialized.\n",
      "    \n",
      "    Returns\n",
      "    -------\n",
      "    dict, list or collections.abc.Mapping\n",
      "        Return a collections.abc.Mapping object representing the DataFrame.\n",
      "        The resulting transformation depends on the `orient` parameter.\n",
      "    \n",
      "    See Also\n",
      "    --------\n",
      "    DataFrame.from_dict: Create a DataFrame from a dictionary.\n",
      "    DataFrame.to_json: Convert a DataFrame to JSON format.\n",
      "    \n",
      "    Examples\n",
      "    --------\n",
      "    >>> df = pd.DataFrame({'col1': [1, 2],\n",
      "    ...                    'col2': [0.5, 0.75]},\n",
      "    ...                   index=['row1', 'row2'])\n",
      "    >>> df\n",
      "          col1  col2\n",
      "    row1     1  0.50\n",
      "    row2     2  0.75\n",
      "    >>> df.to_dict()\n",
      "    {'col1': {'row1': 1, 'row2': 2}, 'col2': {'row1': 0.5, 'row2': 0.75}}\n",
      "    \n",
      "    You can specify the return orientation.\n",
      "    \n",
      "    >>> df.to_dict('series')\n",
      "    {'col1': row1    1\n",
      "             row2    2\n",
      "    Name: col1, dtype: int64,\n",
      "    'col2': row1    0.50\n",
      "            row2    0.75\n",
      "    Name: col2, dtype: float64}\n",
      "    \n",
      "    >>> df.to_dict('split')\n",
      "    {'index': ['row1', 'row2'], 'columns': ['col1', 'col2'],\n",
      "     'data': [[1, 0.5], [2, 0.75]]}\n",
      "    \n",
      "    >>> df.to_dict('records')\n",
      "    [{'col1': 1, 'col2': 0.5}, {'col1': 2, 'col2': 0.75}]\n",
      "    \n",
      "    >>> df.to_dict('index')\n",
      "    {'row1': {'col1': 1, 'col2': 0.5}, 'row2': {'col1': 2, 'col2': 0.75}}\n",
      "    \n",
      "    >>> df.to_dict('tight')\n",
      "    {'index': ['row1', 'row2'], 'columns': ['col1', 'col2'],\n",
      "     'data': [[1, 0.5], [2, 0.75]], 'index_names': [None], 'column_names': [None]}\n",
      "    \n",
      "    You can also specify the mapping type.\n",
      "    \n",
      "    >>> from collections import OrderedDict, defaultdict\n",
      "    >>> df.to_dict(into=OrderedDict)\n",
      "    OrderedDict([('col1', OrderedDict([('row1', 1), ('row2', 2)])),\n",
      "                 ('col2', OrderedDict([('row1', 0.5), ('row2', 0.75)]))])\n",
      "    \n",
      "    If you want a `defaultdict`, you need to initialize it:\n",
      "    \n",
      "    >>> dd = defaultdict(list)\n",
      "    >>> df.to_dict('records', into=dd)\n",
      "    [defaultdict(<class 'list'>, {'col1': 1, 'col2': 0.5}),\n",
      "     defaultdict(<class 'list'>, {'col1': 2, 'col2': 0.75})]\n",
      "\n"
     ]
    }
   ],
   "source": [
    "help(animals.to_dict)"
   ]
  },
  {
   "cell_type": "code",
   "execution_count": 26,
   "id": "49f33d3b",
   "metadata": {},
   "outputs": [
    {
     "data": {
      "text/plain": [
       "{'animal_type': {0: 'cat', 1: 'dog', 2: 'mouse', 3: 'cat', 4: 'rat'},\n",
       " 'sex': {0: 'female', 1: 'male', 2: 'male', 3: 'male', 4: 'female'},\n",
       " 'name': {0: 'Arta', 1: 'Bork', 2: 'Jerry', 3: 'Tom', 4: 'Lariska'},\n",
       " 'age': {0: 2, 1: 5, 2: 30, 3: 40, 4: 25},\n",
       " 'colour': {0: 'orange', 1: 'brown', 2: 'brown', 3: 'blue', 4: 'grey'}}"
      ]
     },
     "execution_count": 26,
     "metadata": {},
     "output_type": "execute_result"
    }
   ],
   "source": [
    "animals_dict = animals.to_dict()\n",
    "animals_dict"
   ]
  },
  {
   "cell_type": "code",
   "execution_count": 27,
   "id": "7de05d31",
   "metadata": {},
   "outputs": [
    {
     "data": {
      "text/plain": [
       "{'animal_type': ['cat', 'dog', 'mouse', 'cat', 'rat'],\n",
       " 'sex': ['female', 'male', 'male', 'male', 'female'],\n",
       " 'name': ['Arta', 'Bork', 'Jerry', 'Tom', 'Lariska'],\n",
       " 'age': [2, 5, 30, 40, 25],\n",
       " 'colour': ['orange', 'brown', 'brown', 'blue', 'grey']}"
      ]
     },
     "execution_count": 27,
     "metadata": {},
     "output_type": "execute_result"
    }
   ],
   "source": [
    "animals_dict = animals.to_dict('list')\n",
    "animals_dict"
   ]
  },
  {
   "cell_type": "code",
   "execution_count": 11,
   "id": "6e3097cb",
   "metadata": {},
   "outputs": [
    {
     "data": {
      "text/plain": [
       "rec.array([(0, 'cat', 'female', 'Arta',  2, 'orange'),\n",
       "           (1, 'dog', 'male', 'Bork',  5, 'brown'),\n",
       "           (2, 'mouse', 'male', 'Jerry', 30, 'brown'),\n",
       "           (3, 'cat', 'male', 'Tom', 40, 'blue'),\n",
       "           (4, 'rat', 'female', 'Lariska', 25, 'grey')],\n",
       "          dtype=[('index', '<i8'), ('animal_type', 'O'), ('sex', 'O'), ('name', 'O'), ('age', '<i8'), ('colour', 'O')])"
      ]
     },
     "execution_count": 11,
     "metadata": {},
     "output_type": "execute_result"
    }
   ],
   "source": [
    "animals.to_records()"
   ]
  },
  {
   "attachments": {},
   "cell_type": "markdown",
   "id": "af94c7b3",
   "metadata": {},
   "source": [
    "## 2. Json"
   ]
  },
  {
   "cell_type": "code",
   "execution_count": 12,
   "id": "8586ced5",
   "metadata": {},
   "outputs": [
    {
     "name": "stdout",
     "output_type": "stream",
     "text": [
      "Help on method to_json in module pandas.core.generic:\n",
      "\n",
      "to_json(path_or_buf: 'FilePath | WriteBuffer[bytes] | WriteBuffer[str] | None' = None, orient: 'str | None' = None, date_format: 'str | None' = None, double_precision: 'int' = 10, force_ascii: 'bool_t' = True, date_unit: 'str' = 'ms', default_handler: 'Callable[[Any], JSONSerializable] | None' = None, lines: 'bool_t' = False, compression: 'CompressionOptions' = 'infer', index: 'bool_t' = True, indent: 'int | None' = None, storage_options: 'StorageOptions' = None) -> 'str | None' method of pandas.core.frame.DataFrame instance\n",
      "    Convert the object to a JSON string.\n",
      "    \n",
      "    Note NaN's and None will be converted to null and datetime objects\n",
      "    will be converted to UNIX timestamps.\n",
      "    \n",
      "    Parameters\n",
      "    ----------\n",
      "    path_or_buf : str, path object, file-like object, or None, default None\n",
      "        String, path object (implementing os.PathLike[str]), or file-like\n",
      "        object implementing a write() function. If None, the result is\n",
      "        returned as a string.\n",
      "    orient : str\n",
      "        Indication of expected JSON string format.\n",
      "    \n",
      "        * Series:\n",
      "    \n",
      "            - default is 'index'\n",
      "            - allowed values are: {'split', 'records', 'index', 'table'}.\n",
      "    \n",
      "        * DataFrame:\n",
      "    \n",
      "            - default is 'columns'\n",
      "            - allowed values are: {'split', 'records', 'index', 'columns',\n",
      "              'values', 'table'}.\n",
      "    \n",
      "        * The format of the JSON string:\n",
      "    \n",
      "            - 'split' : dict like {'index' -> [index], 'columns' -> [columns],\n",
      "              'data' -> [values]}\n",
      "            - 'records' : list like [{column -> value}, ... , {column -> value}]\n",
      "            - 'index' : dict like {index -> {column -> value}}\n",
      "            - 'columns' : dict like {column -> {index -> value}}\n",
      "            - 'values' : just the values array\n",
      "            - 'table' : dict like {'schema': {schema}, 'data': {data}}\n",
      "    \n",
      "            Describing the data, where data component is like ``orient='records'``.\n",
      "    \n",
      "    date_format : {None, 'epoch', 'iso'}\n",
      "        Type of date conversion. 'epoch' = epoch milliseconds,\n",
      "        'iso' = ISO8601. The default depends on the `orient`. For\n",
      "        ``orient='table'``, the default is 'iso'. For all other orients,\n",
      "        the default is 'epoch'.\n",
      "    double_precision : int, default 10\n",
      "        The number of decimal places to use when encoding\n",
      "        floating point values.\n",
      "    force_ascii : bool, default True\n",
      "        Force encoded string to be ASCII.\n",
      "    date_unit : str, default 'ms' (milliseconds)\n",
      "        The time unit to encode to, governs timestamp and ISO8601\n",
      "        precision.  One of 's', 'ms', 'us', 'ns' for second, millisecond,\n",
      "        microsecond, and nanosecond respectively.\n",
      "    default_handler : callable, default None\n",
      "        Handler to call if object cannot otherwise be converted to a\n",
      "        suitable format for JSON. Should receive a single argument which is\n",
      "        the object to convert and return a serialisable object.\n",
      "    lines : bool, default False\n",
      "        If 'orient' is 'records' write out line-delimited json format. Will\n",
      "        throw ValueError if incorrect 'orient' since others are not\n",
      "        list-like.\n",
      "    compression : str or dict, default 'infer'\n",
      "        For on-the-fly compression of the output data. If 'infer' and 'path_or_buf' is\n",
      "        path-like, then detect compression from the following extensions: '.gz',\n",
      "        '.bz2', '.zip', '.xz', '.zst', '.tar', '.tar.gz', '.tar.xz' or '.tar.bz2'\n",
      "        (otherwise no compression).\n",
      "        Set to ``None`` for no compression.\n",
      "        Can also be a dict with key ``'method'`` set\n",
      "        to one of {``'zip'``, ``'gzip'``, ``'bz2'``, ``'zstd'``, ``'tar'``} and other\n",
      "        key-value pairs are forwarded to\n",
      "        ``zipfile.ZipFile``, ``gzip.GzipFile``,\n",
      "        ``bz2.BZ2File``, ``zstandard.ZstdCompressor`` or\n",
      "        ``tarfile.TarFile``, respectively.\n",
      "        As an example, the following could be passed for faster compression and to create\n",
      "        a reproducible gzip archive:\n",
      "        ``compression={'method': 'gzip', 'compresslevel': 1, 'mtime': 1}``.\n",
      "    \n",
      "            .. versionadded:: 1.5.0\n",
      "                Added support for `.tar` files.\n",
      "    \n",
      "        .. versionchanged:: 1.4.0 Zstandard support.\n",
      "    \n",
      "    index : bool, default True\n",
      "        Whether to include the index values in the JSON string. Not\n",
      "        including the index (``index=False``) is only supported when\n",
      "        orient is 'split' or 'table'.\n",
      "    indent : int, optional\n",
      "       Length of whitespace used to indent each record.\n",
      "    \n",
      "       .. versionadded:: 1.0.0\n",
      "    \n",
      "    storage_options : dict, optional\n",
      "        Extra options that make sense for a particular storage connection, e.g.\n",
      "        host, port, username, password, etc. For HTTP(S) URLs the key-value pairs\n",
      "        are forwarded to ``urllib.request.Request`` as header options. For other\n",
      "        URLs (e.g. starting with \"s3://\", and \"gcs://\") the key-value pairs are\n",
      "        forwarded to ``fsspec.open``. Please see ``fsspec`` and ``urllib`` for more\n",
      "        details, and for more examples on storage options refer `here\n",
      "        <https://pandas.pydata.org/docs/user_guide/io.html?\n",
      "        highlight=storage_options#reading-writing-remote-files>`_.\n",
      "    \n",
      "        .. versionadded:: 1.2.0\n",
      "    \n",
      "    Returns\n",
      "    -------\n",
      "    None or str\n",
      "        If path_or_buf is None, returns the resulting json format as a\n",
      "        string. Otherwise returns None.\n",
      "    \n",
      "    See Also\n",
      "    --------\n",
      "    read_json : Convert a JSON string to pandas object.\n",
      "    \n",
      "    Notes\n",
      "    -----\n",
      "    The behavior of ``indent=0`` varies from the stdlib, which does not\n",
      "    indent the output but does insert newlines. Currently, ``indent=0``\n",
      "    and the default ``indent=None`` are equivalent in pandas, though this\n",
      "    may change in a future release.\n",
      "    \n",
      "    ``orient='table'`` contains a 'pandas_version' field under 'schema'.\n",
      "    This stores the version of `pandas` used in the latest revision of the\n",
      "    schema.\n",
      "    \n",
      "    Examples\n",
      "    --------\n",
      "    >>> import json\n",
      "    >>> df = pd.DataFrame(\n",
      "    ...     [[\"a\", \"b\"], [\"c\", \"d\"]],\n",
      "    ...     index=[\"row 1\", \"row 2\"],\n",
      "    ...     columns=[\"col 1\", \"col 2\"],\n",
      "    ... )\n",
      "    \n",
      "    >>> result = df.to_json(orient=\"split\")\n",
      "    >>> parsed = json.loads(result)\n",
      "    >>> json.dumps(parsed, indent=4)  # doctest: +SKIP\n",
      "    {\n",
      "        \"columns\": [\n",
      "            \"col 1\",\n",
      "            \"col 2\"\n",
      "        ],\n",
      "        \"index\": [\n",
      "            \"row 1\",\n",
      "            \"row 2\"\n",
      "        ],\n",
      "        \"data\": [\n",
      "            [\n",
      "                \"a\",\n",
      "                \"b\"\n",
      "            ],\n",
      "            [\n",
      "                \"c\",\n",
      "                \"d\"\n",
      "            ]\n",
      "        ]\n",
      "    }\n",
      "    \n",
      "    Encoding/decoding a Dataframe using ``'records'`` formatted JSON.\n",
      "    Note that index labels are not preserved with this encoding.\n",
      "    \n",
      "    >>> result = df.to_json(orient=\"records\")\n",
      "    >>> parsed = json.loads(result)\n",
      "    >>> json.dumps(parsed, indent=4)  # doctest: +SKIP\n",
      "    [\n",
      "        {\n",
      "            \"col 1\": \"a\",\n",
      "            \"col 2\": \"b\"\n",
      "        },\n",
      "        {\n",
      "            \"col 1\": \"c\",\n",
      "            \"col 2\": \"d\"\n",
      "        }\n",
      "    ]\n",
      "    \n",
      "    Encoding/decoding a Dataframe using ``'index'`` formatted JSON:\n",
      "    \n",
      "    >>> result = df.to_json(orient=\"index\")\n",
      "    >>> parsed = json.loads(result)\n",
      "    >>> json.dumps(parsed, indent=4)  # doctest: +SKIP\n",
      "    {\n",
      "        \"row 1\": {\n",
      "            \"col 1\": \"a\",\n",
      "            \"col 2\": \"b\"\n",
      "        },\n",
      "        \"row 2\": {\n",
      "            \"col 1\": \"c\",\n",
      "            \"col 2\": \"d\"\n",
      "        }\n",
      "    }\n",
      "    \n",
      "    Encoding/decoding a Dataframe using ``'columns'`` formatted JSON:\n",
      "    \n",
      "    >>> result = df.to_json(orient=\"columns\")\n",
      "    >>> parsed = json.loads(result)\n",
      "    >>> json.dumps(parsed, indent=4)  # doctest: +SKIP\n",
      "    {\n",
      "        \"col 1\": {\n",
      "            \"row 1\": \"a\",\n",
      "            \"row 2\": \"c\"\n",
      "        },\n",
      "        \"col 2\": {\n",
      "            \"row 1\": \"b\",\n",
      "            \"row 2\": \"d\"\n",
      "        }\n",
      "    }\n",
      "    \n",
      "    Encoding/decoding a Dataframe using ``'values'`` formatted JSON:\n",
      "    \n",
      "    >>> result = df.to_json(orient=\"values\")\n",
      "    >>> parsed = json.loads(result)\n",
      "    >>> json.dumps(parsed, indent=4)  # doctest: +SKIP\n",
      "    [\n",
      "        [\n",
      "            \"a\",\n",
      "            \"b\"\n",
      "        ],\n",
      "        [\n",
      "            \"c\",\n",
      "            \"d\"\n",
      "        ]\n",
      "    ]\n",
      "    \n",
      "    Encoding with Table Schema:\n",
      "    \n",
      "    >>> result = df.to_json(orient=\"table\")\n",
      "    >>> parsed = json.loads(result)\n",
      "    >>> json.dumps(parsed, indent=4)  # doctest: +SKIP\n",
      "    {\n",
      "        \"schema\": {\n",
      "            \"fields\": [\n",
      "                {\n",
      "                    \"name\": \"index\",\n",
      "                    \"type\": \"string\"\n",
      "                },\n",
      "                {\n",
      "                    \"name\": \"col 1\",\n",
      "                    \"type\": \"string\"\n",
      "                },\n",
      "                {\n",
      "                    \"name\": \"col 2\",\n",
      "                    \"type\": \"string\"\n",
      "                }\n",
      "            ],\n",
      "            \"primaryKey\": [\n",
      "                \"index\"\n",
      "            ],\n",
      "            \"pandas_version\": \"1.4.0\"\n",
      "        },\n",
      "        \"data\": [\n",
      "            {\n",
      "                \"index\": \"row 1\",\n",
      "                \"col 1\": \"a\",\n",
      "                \"col 2\": \"b\"\n",
      "            },\n",
      "            {\n",
      "                \"index\": \"row 2\",\n",
      "                \"col 1\": \"c\",\n",
      "                \"col 2\": \"d\"\n",
      "            }\n",
      "        ]\n",
      "    }\n",
      "\n"
     ]
    }
   ],
   "source": [
    "# Conversion from pandas DataFrame to json formatted string\n",
    "help(animals.to_json)"
   ]
  },
  {
   "cell_type": "code",
   "execution_count": 34,
   "id": "6705c057",
   "metadata": {},
   "outputs": [
    {
     "data": {
      "text/plain": [
       "'{\"0\":{\"animal_type\":\"cat\",\"sex\":\"female\",\"name\":\"Arta\",\"age\":2,\"colour\":\"orange\"},\"1\":{\"animal_type\":\"dog\",\"sex\":\"male\",\"name\":\"Bork\",\"age\":5,\"colour\":\"brown\"},\"2\":{\"animal_type\":\"mouse\",\"sex\":\"male\",\"name\":\"Jerry\",\"age\":30,\"colour\":\"brown\"},\"3\":{\"animal_type\":\"cat\",\"sex\":\"male\",\"name\":\"Tom\",\"age\":40,\"colour\":\"blue\"},\"4\":{\"animal_type\":\"rat\",\"sex\":\"female\",\"name\":\"Lariska\",\"age\":25,\"colour\":\"grey\"}}'"
      ]
     },
     "execution_count": 34,
     "metadata": {},
     "output_type": "execute_result"
    }
   ],
   "source": [
    "animals_json = animals.to_json(orient='index')\n",
    "animals_json"
   ]
  },
  {
   "cell_type": "code",
   "execution_count": 1,
   "id": "2882eaf9",
   "metadata": {},
   "outputs": [],
   "source": [
    "# Creating a json formatted doc\n",
    "import json"
   ]
  },
  {
   "cell_type": "code",
   "execution_count": 37,
   "id": "706f8e29",
   "metadata": {},
   "outputs": [
    {
     "data": {
      "text/plain": [
       "{'0': {'animal_type': 'cat',\n",
       "  'sex': 'female',\n",
       "  'name': 'Arta',\n",
       "  'age': 2,\n",
       "  'colour': 'orange'},\n",
       " '1': {'animal_type': 'dog',\n",
       "  'sex': 'male',\n",
       "  'name': 'Bork',\n",
       "  'age': 5,\n",
       "  'colour': 'brown'},\n",
       " '2': {'animal_type': 'mouse',\n",
       "  'sex': 'male',\n",
       "  'name': 'Jerry',\n",
       "  'age': 30,\n",
       "  'colour': 'brown'},\n",
       " '3': {'animal_type': 'cat',\n",
       "  'sex': 'male',\n",
       "  'name': 'Tom',\n",
       "  'age': 40,\n",
       "  'colour': 'blue'},\n",
       " '4': {'animal_type': 'rat',\n",
       "  'sex': 'female',\n",
       "  'name': 'Lariska',\n",
       "  'age': 25,\n",
       "  'colour': 'grey'}}"
      ]
     },
     "execution_count": 37,
     "metadata": {},
     "output_type": "execute_result"
    }
   ],
   "source": [
    "# first\n",
    "json_dict = json.loads(animals_json) # see above cells for animals_json\n",
    "json_dict"
   ]
  },
  {
   "cell_type": "code",
   "execution_count": 38,
   "id": "ddf6598e",
   "metadata": {},
   "outputs": [],
   "source": [
    "with open(\"animals2.json\", 'w') as f:\n",
    "    # write \n",
    "    json.dump(animals_dict, f)"
   ]
  },
  {
   "attachments": {},
   "cell_type": "markdown",
   "id": "73b504c8",
   "metadata": {},
   "source": [
    "## 3. Yaml"
   ]
  },
  {
   "cell_type": "code",
   "execution_count": 39,
   "id": "333758f8",
   "metadata": {},
   "outputs": [],
   "source": [
    "import yaml"
   ]
  },
  {
   "cell_type": "code",
   "execution_count": 40,
   "id": "4c0cdd49",
   "metadata": {},
   "outputs": [],
   "source": [
    "with open(\"house_config.yaml\", 'r') as f:\n",
    "    house_config = yaml.safe_load(f)"
   ]
  },
  {
   "cell_type": "code",
   "execution_count": 23,
   "id": "021f6142",
   "metadata": {},
   "outputs": [
    {
     "data": {
      "text/plain": [
       "dict"
      ]
     },
     "execution_count": 23,
     "metadata": {},
     "output_type": "execute_result"
    }
   ],
   "source": [
    "type(house_config)"
   ]
  },
  {
   "cell_type": "code",
   "execution_count": 24,
   "id": "3c4e6103",
   "metadata": {},
   "outputs": [
    {
     "data": {
      "text/plain": [
       "{'animals': [{'arta': None,\n",
       "   'name': 'Arta',\n",
       "   'sex': 'female',\n",
       "   'type': 'cat',\n",
       "   'age': 2,\n",
       "   'colour': 'orange'},\n",
       "  {'bork': None,\n",
       "   'name': 'Bork',\n",
       "   'sex': 'male',\n",
       "   'type': 'dog',\n",
       "   'age': 5,\n",
       "   'colour': 'brown'}],\n",
       " 'people': [{'mother': None, 'name': 'Lina', 'age': 40},\n",
       "  {'father': None, 'name': 'John', 'age': 39},\n",
       "  {'child': None, 'name': 'X-Æ-17', 'age': 2}],\n",
       " 'address': '75 Magic St, Vilnius, Lithuania',\n",
       " 'welcome_message': 'Welcome to our house!'}"
      ]
     },
     "execution_count": 24,
     "metadata": {},
     "output_type": "execute_result"
    }
   ],
   "source": [
    "house_config\n"
   ]
  },
  {
   "attachments": {},
   "cell_type": "markdown",
   "id": "ab749b62",
   "metadata": {},
   "source": [
    "# Serialization with pickle  \n",
    "Serialization is the process of saving data in a binary format as a snapshot of the memory."
   ]
  },
  {
   "cell_type": "code",
   "execution_count": 42,
   "id": "e8983904",
   "metadata": {},
   "outputs": [],
   "source": [
    "# creating content\n",
    "class Person:\n",
    "    def __init__(self, name, age):\n",
    "        self.name = name\n",
    "        self.age = age\n",
    "        \n",
    "    def say_hello(self):\n",
    "        return f\"Hello! I am {self.name}, and I am {self.age} years old\"\n",
    "    \n",
    "    def celebrate_birthday(self):\n",
    "        print(\"Yahoo! Today is my birthday!\")\n",
    "        self.age += 1\n",
    "        print(f\"Now I am {self.age} years old!\")"
   ]
  },
  {
   "cell_type": "code",
   "execution_count": 43,
   "id": "16e653df",
   "metadata": {},
   "outputs": [
    {
     "name": "stdout",
     "output_type": "stream",
     "text": [
      "Yahoo! Today is my birthday!\n",
      "Now I am 6 years old!\n"
     ]
    },
    {
     "data": {
      "text/plain": [
       "'Hello! I am Marta, and I am 6 years old'"
      ]
     },
     "execution_count": 43,
     "metadata": {},
     "output_type": "execute_result"
    }
   ],
   "source": [
    "p = Person(\"Marta\", 5)\n",
    "p.say_hello()\n",
    "p.celebrate_birthday()\n",
    "p.say_hello()"
   ]
  },
  {
   "cell_type": "code",
   "execution_count": 44,
   "id": "19921197",
   "metadata": {},
   "outputs": [],
   "source": [
    "# Now serializing\n",
    "import pickle\n",
    "with open(\"marta.pkl\", 'wb') as f:\n",
    "    pickle.dump(p, f)"
   ]
  },
  {
   "cell_type": "code",
   "execution_count": 46,
   "id": "6d4cdc0c",
   "metadata": {},
   "outputs": [
    {
     "data": {
      "text/plain": [
       "<__main__.Person at 0x1ab46e2e980>"
      ]
     },
     "execution_count": 46,
     "metadata": {},
     "output_type": "execute_result"
    }
   ],
   "source": [
    "# And reading again\n",
    "with open(\"marta.pkl\", \"rb\") as f:\n",
    "    np = pickle.load(f)\n",
    "np"
   ]
  },
  {
   "cell_type": "code",
   "execution_count": 47,
   "id": "18b3d2b6",
   "metadata": {},
   "outputs": [
    {
     "name": "stdout",
     "output_type": "stream",
     "text": [
      "Marta 6\n"
     ]
    }
   ],
   "source": [
    "print(np.name, np.age)"
   ]
  }
 ],
 "metadata": {
  "kernelspec": {
   "display_name": "Python 3",
   "language": "python",
   "name": "python3"
  },
  "language_info": {
   "codemirror_mode": {
    "name": "ipython",
    "version": 3
   },
   "file_extension": ".py",
   "mimetype": "text/x-python",
   "name": "python",
   "nbconvert_exporter": "python",
   "pygments_lexer": "ipython3",
   "version": "3.10.10"
  },
  "vscode": {
   "interpreter": {
    "hash": "3de7a084b318d7b8bf96005cb5db4da14a27f60df0465391ef48a4c336f03bfe"
   }
  }
 },
 "nbformat": 4,
 "nbformat_minor": 5
}
