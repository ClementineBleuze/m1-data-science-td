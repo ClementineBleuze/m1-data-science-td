{
 "cells": [
  {
   "attachments": {},
   "cell_type": "markdown",
   "id": "9798c8d6",
   "metadata": {},
   "source": [
    "# The Wikipedia API"
   ]
  },
  {
   "cell_type": "code",
   "execution_count": 3,
   "id": "9abb5f38",
   "metadata": {},
   "outputs": [
    {
     "data": {
      "text/plain": [
       "['Barack Obama',\n",
       " 'Barack Obama Sr.',\n",
       " 'Presidency of Barack Obama',\n",
       " 'Family of Barack Obama',\n",
       " 'Barack (disambiguation)',\n",
       " 'Early life and career of Barack Obama',\n",
       " 'Barack (brandy)',\n",
       " 'Barack (name)',\n",
       " 'Zach Barack',\n",
       " 'Barack Obama (disambiguation)']"
      ]
     },
     "execution_count": 3,
     "metadata": {},
     "output_type": "execute_result"
    }
   ],
   "source": [
    "import wikipedia\n",
    "wikipedia.search(\"Barack\")"
   ]
  },
  {
   "cell_type": "code",
   "execution_count": 4,
   "id": "93999146",
   "metadata": {},
   "outputs": [
    {
     "data": {
      "text/plain": [
       "['Ford Motor Company', 'Ford', 'Gerald Ford']"
      ]
     },
     "execution_count": 4,
     "metadata": {},
     "output_type": "execute_result"
    }
   ],
   "source": [
    "wikipedia.search(\"ford\", results=3)"
   ]
  },
  {
   "cell_type": "code",
   "execution_count": 5,
   "id": "b22d4603",
   "metadata": {},
   "outputs": [
    {
     "data": {
      "text/plain": [
       "\"The Apple II (stylized as apple ][) is an 8-bit home computer and one of the world's first highly successful mass-produced microcomputer products.\""
      ]
     },
     "execution_count": 5,
     "metadata": {},
     "output_type": "execute_result"
    }
   ],
   "source": [
    "wikipedia.summary(\"Apple III\", sentences=1)"
   ]
  },
  {
   "cell_type": "code",
   "execution_count": 9,
   "id": "87c847c2",
   "metadata": {},
   "outputs": [
    {
     "name": "stdout",
     "output_type": "stream",
     "text": [
      "['Mercury (planet)', 'Mercury (element)', 'Mercury (mythology)', 'Mercury (toy manufacturer)', 'Mercury Communications', 'Mercury Drug', 'Mercury Energy', 'Mercury Filmworks', 'Mercury General', 'Mercury Interactive', 'Mercury Marine', 'Mercury Systems', 'Mercury (programming language)', 'Mercury (metadata search system)', 'Ferranti Mercury', 'Mercury Browser', 'Mercury Mail Transport System', 'Mercury (film)', 'Mercury (TV series)', 'Young Adult', 'Mercury Black', 'Sailor Mercury', 'Mercury (Marvel Comics)', 'Makkari (comics)', 'Metal Men', \"Cerebro's X-Men\", 'Amalgam Comics character', 'Mercury (magazine)', 'The American Mercury', 'The Mercury (Hobart)', 'The Mercury (South Africa)', 'The Mercury (Pennsylvania)', 'Mercury (Newport)', 'Reading Mercury', 'List of newspapers named Mercury', 'Mercury (Bova novel)', 'Mercury (Livesey novel)', 'Anna Kavan', 'Mercury Nashville', 'Mercury Records', 'Mercury Prize', 'Mercury, the Winged Messenger', 'Mercury (American Music Club album)', 'Mercury (Longview album)', 'Mercury (Madder Mortem album)', 'Mercury – Act 1', 'Mercury – Acts 1 & 2', '\"Mercury\" (song)', 'Recovering the Satellites', 'Failer', 'Planetarium', 'Operation Mercury', 'Boeing E-6 Mercury', 'Miles Mercury', 'HMS\\xa0Mercury', 'USS\\xa0Mercury', 'Russian brig\\xa0Mercury', 'Mercury (pigeon)', 'Mercury (name)', 'Mercury, Savoie', 'Mercury Bay', 'place in Alabama', 'Mercury, Nevada', 'Mercury, Texas', 'Mercury (plant)', 'Annual mercury', 'English mercury', 'Mercury FM', 'Mercury 96.6', 'Edmonton Mercurys', 'Fujita Soccer Club Mercury', 'Memphis Mercury', 'Phoenix Mercury', 'Toledo Mercurys', 'Blackburn Mercury', 'Bristol Mercury', 'Mercury (automobile)', 'Mercury (cyclecar)', 'Mercury (train)', 'Mercury\\xa0(ship)', 'Cape Cod Mercury 15', 'Mercury 18', 'Project Mercury', 'Mercury', 'Mercury (satellite)', \"Archer Maclean's Mercury\", 'Mercury (cipher machine)', 'Mercury Boulevard', 'Mercury Cinema', 'Shuttle America', 'The Mercury Mall', 'All pages with titles beginning with Mercury ', 'The American Mercury', 'Mercuri', 'Mercury 1 (disambiguation)', 'Mercury 2 (disambiguation)', 'Mercury 3 (disambiguation)', 'Mercury 4 (disambiguation)', 'Mercury 5 (disambiguation)', 'Mercury 6 (disambiguation)', 'Mercury 7 (disambiguation)', 'Mercury 8 (disambiguation)', 'Mercury City (disambiguation)', 'Mercury FM (disambiguation)', 'Mercury House (disambiguation)', 'Mercury mission (disambiguation)', 'Mercury program (disambiguation)', 'Mercury project (disambiguation)', 'All pages with titles containing Mercury']\n"
     ]
    }
   ],
   "source": [
    "# Case where the article name is ambiguous\n",
    "try:\n",
    "    mercury = wikipedia.summary(\"mercury\")\n",
    "except wikipedia.DisambiguationError as e:\n",
    "    print(e.options)"
   ]
  },
  {
   "cell_type": "code",
   "execution_count": 10,
   "id": "6cf73efa",
   "metadata": {},
   "outputs": [
    {
     "data": {
      "text/plain": [
       "'The Mercury Drug Corporation, better known as Mercury Drug, is a Filipino pharmacy chain. A subsidiary of the Mercury Group of Companies, it is headquartered in Bagumbayan, Quezon City. The chain was founded in Santa Cruz, Manila in 1945, making it the second oldest drugstore chain in the Philippines after Southstar Drug. As of 2017, Mercury Drug has over 1,000 branches nationwide and over 50 percent of the Philippine pharmaceutical retail market.'"
      ]
     },
     "execution_count": 10,
     "metadata": {},
     "output_type": "execute_result"
    }
   ],
   "source": [
    "wikipedia.summary(\"Mercury Drug\")"
   ]
  },
  {
   "attachments": {},
   "cell_type": "markdown",
   "id": "91cb74ee",
   "metadata": {},
   "source": [
    "## Retrieving a specific page and all its content and information"
   ]
  },
  {
   "cell_type": "code",
   "execution_count": 11,
   "id": "243fcfc2",
   "metadata": {},
   "outputs": [],
   "source": [
    "ny = wikipedia.page(title=\"New York City\", auto_suggest=False)"
   ]
  },
  {
   "cell_type": "code",
   "execution_count": 12,
   "id": "7f30714f",
   "metadata": {},
   "outputs": [
    {
     "data": {
      "text/plain": [
       "<WikipediaPage 'New York City'>"
      ]
     },
     "execution_count": 12,
     "metadata": {},
     "output_type": "execute_result"
    }
   ],
   "source": [
    "ny"
   ]
  },
  {
   "cell_type": "code",
   "execution_count": 13,
   "id": "6b6e172e",
   "metadata": {},
   "outputs": [
    {
     "data": {
      "text/plain": [
       "'New York City'"
      ]
     },
     "execution_count": 13,
     "metadata": {},
     "output_type": "execute_result"
    }
   ],
   "source": [
    "ny.title"
   ]
  },
  {
   "cell_type": "code",
   "execution_count": 14,
   "id": "a0d9c1be",
   "metadata": {},
   "outputs": [
    {
     "data": {
      "text/plain": [
       "'https://en.wikipedia.org/wiki/New_York_City'"
      ]
     },
     "execution_count": 14,
     "metadata": {},
     "output_type": "execute_result"
    }
   ],
   "source": [
    "ny.url"
   ]
  },
  {
   "cell_type": "code",
   "execution_count": 16,
   "id": "54c4c53c",
   "metadata": {},
   "outputs": [
    {
     "data": {
      "text/plain": [
       "\"New York, often called New York City or NYC, is the most populous city in the United States. With a 2020 population of 8,804,190 distributed over 300.46 square miles (778.2 km2), New York City is the most densely populated major city in the United States and more than twice as populous as Los Angeles, the nation's second-largest city. New York City is located at the southern tip of New York State. It constitutes the geographical and demographic center of both the Northeast megalopolis and the New York metropolitan area, the largest metropolitan area in the U.S. by both population and urban area. With over 20.1 million people in its metropolitan statistical area and 23.5 million in its combined statistical area as of 2020, New York is one of the world's most populous megacities, and over 58 million people live within 250 mi (400 km) of the city. New York City is a global cultural, financial, entertainment, and media center with a significant influence on commerce, health care and life s\""
      ]
     },
     "execution_count": 16,
     "metadata": {},
     "output_type": "execute_result"
    }
   ],
   "source": [
    "ny.content [:1000]"
   ]
  },
  {
   "cell_type": "code",
   "execution_count": 13,
   "id": "be5b60e7",
   "metadata": {},
   "outputs": [
    {
     "data": {
      "text/plain": [
       "'https://upload.wikimedia.org/wikipedia/commons/3/3d/10_mile_panorama_of_NYC%2C_Feb.%2C_2018.jpg'"
      ]
     },
     "execution_count": 13,
     "metadata": {},
     "output_type": "execute_result"
    }
   ],
   "source": [
    "ny.images[0]"
   ]
  },
  {
   "cell_type": "code",
   "execution_count": 14,
   "id": "7fd274f8",
   "metadata": {},
   "outputs": [
    {
     "data": {
      "text/plain": [
       "'10 Hudson Yards'"
      ]
     },
     "execution_count": 14,
     "metadata": {},
     "output_type": "execute_result"
    }
   ],
   "source": [
    "ny.links[0]"
   ]
  },
  {
   "cell_type": "code",
   "execution_count": 21,
   "id": "a0b12090",
   "metadata": {},
   "outputs": [
    {
     "name": "stdout",
     "output_type": "stream",
     "text": [
      "Help on class WikipediaPage in module wikipedia.wikipedia:\n",
      "\n",
      "class WikipediaPage(builtins.object)\n",
      " |  WikipediaPage(title=None, pageid=None, redirect=True, preload=False, original_title='')\n",
      " |  \n",
      " |  Contains data from a Wikipedia page.\n",
      " |  Uses property methods to filter data from the raw HTML.\n",
      " |  \n",
      " |  Methods defined here:\n",
      " |  \n",
      " |  __eq__(self, other)\n",
      " |      Return self==value.\n",
      " |  \n",
      " |  __init__(self, title=None, pageid=None, redirect=True, preload=False, original_title='')\n",
      " |      Initialize self.  See help(type(self)) for accurate signature.\n",
      " |  \n",
      " |  __repr__(self)\n",
      " |      Return repr(self).\n",
      " |  \n",
      " |  html(self)\n",
      " |      Get full page HTML.\n",
      " |      \n",
      " |      .. warning:: This can get pretty slow on long pages.\n",
      " |  \n",
      " |  section(self, section_title)\n",
      " |      Get the plain text content of a section from `self.sections`.\n",
      " |      Returns None if `section_title` isn't found, otherwise returns a whitespace stripped string.\n",
      " |      \n",
      " |      This is a convenience method that wraps self.content.\n",
      " |      \n",
      " |      .. warning:: Calling `section` on a section that has subheadings will NOT return\n",
      " |             the full text of all of the subsections. It only gets the text between\n",
      " |             `section_title` and the next subheading, which is often empty.\n",
      " |  \n",
      " |  ----------------------------------------------------------------------\n",
      " |  Readonly properties defined here:\n",
      " |  \n",
      " |  categories\n",
      " |      List of categories of a page.\n",
      " |  \n",
      " |  content\n",
      " |      Plain text content of the page, excluding images, tables, and other data.\n",
      " |  \n",
      " |  coordinates\n",
      " |      Tuple of Decimals in the form of (lat, lon) or None\n",
      " |  \n",
      " |  images\n",
      " |      List of URLs of images on the page.\n",
      " |  \n",
      " |  links\n",
      " |      List of titles of Wikipedia page links on a page.\n",
      " |      \n",
      " |      .. note:: Only includes articles from namespace 0, meaning no Category, User talk, or other meta-Wikipedia pages.\n",
      " |  \n",
      " |  parent_id\n",
      " |      Revision ID of the parent version of the current revision of this\n",
      " |      page. See ``revision_id`` for more information.\n",
      " |  \n",
      " |  references\n",
      " |      List of URLs of external links on a page.\n",
      " |      May include external links within page that aren't technically cited anywhere.\n",
      " |  \n",
      " |  revision_id\n",
      " |      Revision ID of the page.\n",
      " |      \n",
      " |      The revision ID is a number that uniquely identifies the current\n",
      " |      version of the page. It can be used to create the permalink or for\n",
      " |      other direct API calls. See `Help:Page history\n",
      " |      <http://en.wikipedia.org/wiki/Wikipedia:Revision>`_ for more\n",
      " |      information.\n",
      " |  \n",
      " |  sections\n",
      " |      List of section titles from the table of contents on the page.\n",
      " |  \n",
      " |  summary\n",
      " |      Plain text summary of the page.\n",
      " |  \n",
      " |  ----------------------------------------------------------------------\n",
      " |  Data descriptors defined here:\n",
      " |  \n",
      " |  __dict__\n",
      " |      dictionary for instance variables (if defined)\n",
      " |  \n",
      " |  __weakref__\n",
      " |      list of weak references to the object (if defined)\n",
      " |  \n",
      " |  ----------------------------------------------------------------------\n",
      " |  Data and other attributes defined here:\n",
      " |  \n",
      " |  __hash__ = None\n",
      "\n"
     ]
    }
   ],
   "source": [
    "help(wikipedia.WikipediaPage)"
   ]
  },
  {
   "cell_type": "code",
   "execution_count": 17,
   "id": "025f33e5",
   "metadata": {},
   "outputs": [],
   "source": [
    "wikipedia.set_lang(\"fr\")"
   ]
  },
  {
   "cell_type": "code",
   "execution_count": 18,
   "id": "2340a85a",
   "metadata": {},
   "outputs": [
    {
     "data": {
      "text/plain": [
       "\"Emmanuel Macron (/ɛmanɥɛl makʁɔ̃/ ), né le 21 décembre 1977 à Amiens, est un haut fonctionnaire et homme d'État français. Il est président de la République française depuis 2017.\""
      ]
     },
     "execution_count": 18,
     "metadata": {},
     "output_type": "execute_result"
    }
   ],
   "source": [
    "wikipedia.summary(\"Emmanuel Macron\", sentences=2)"
   ]
  },
  {
   "cell_type": "code",
   "execution_count": 19,
   "id": "8e579539",
   "metadata": {},
   "outputs": [],
   "source": [
    "wikipedia.set_lang(\"en\")"
   ]
  },
  {
   "cell_type": "code",
   "execution_count": 20,
   "id": "f7d54c2e",
   "metadata": {},
   "outputs": [
    {
     "data": {
      "text/plain": [
       "'Emmanuel Jean-Michel Frédéric Macron (French: [emanɥɛl makʁɔ̃]; born 21 December 1977) is a French politician serving as the  25th and current President of France since 2017. Ex officio, he is also one of the two Co-Princes of Andorra.'"
      ]
     },
     "execution_count": 20,
     "metadata": {},
     "output_type": "execute_result"
    }
   ],
   "source": [
    "wikipedia.summary(\"Emmanuel Macron\", sentences=2)"
   ]
  },
  {
   "attachments": {},
   "cell_type": "markdown",
   "id": "cec4917a",
   "metadata": {},
   "source": [
    "# WPtools"
   ]
  },
  {
   "cell_type": "code",
   "execution_count": 2,
   "id": "cd2aee25",
   "metadata": {},
   "outputs": [
    {
     "name": "stdout",
     "output_type": "stream",
     "text": [
      "Collecting wptools\n",
      "  Using cached wptools-0.4.17-py2.py3-none-any.whl (38 kB)\n",
      "Requirement already satisfied: lxml in c:\\users\\bleuze3u\\appdata\\local\\programs\\python\\python310\\lib\\site-packages (from wptools) (4.9.2)\n",
      "Requirement already satisfied: certifi in c:\\users\\bleuze3u\\appdata\\local\\programs\\python\\python310\\lib\\site-packages (from wptools) (2022.12.7)\n",
      "Collecting pycurl\n",
      "  Using cached pycurl-7.45.2.tar.gz (234 kB)\n",
      "  Preparing metadata (setup.py): started\n",
      "  Preparing metadata (setup.py): finished with status 'error'\n"
     ]
    },
    {
     "name": "stderr",
     "output_type": "stream",
     "text": [
      "  error: subprocess-exited-with-error\n",
      "  \n",
      "  × python setup.py egg_info did not run successfully.\n",
      "  │ exit code: 10\n",
      "  ╰─> [1 lines of output]\n",
      "      Please specify --curl-dir=/path/to/built/libcurl\n",
      "      [end of output]\n",
      "  \n",
      "  note: This error originates from a subprocess, and is likely not a problem with pip.\n",
      "error: metadata-generation-failed\n",
      "\n",
      "× Encountered error while generating package metadata.\n",
      "╰─> See above for output.\n",
      "\n",
      "note: This is an issue with the package mentioned above, not pip.\n",
      "hint: See above for details.\n",
      "\n",
      "[notice] A new release of pip is available: 23.0 -> 23.0.1\n",
      "[notice] To update, run: python.exe -m pip install --upgrade pip\n"
     ]
    }
   ],
   "source": [
    "!pip install wptools"
   ]
  },
  {
   "cell_type": "code",
   "execution_count": 3,
   "id": "8f0716c8",
   "metadata": {},
   "outputs": [
    {
     "ename": "ModuleNotFoundError",
     "evalue": "No module named 'wptools'",
     "output_type": "error",
     "traceback": [
      "\u001b[1;31m---------------------------------------------------------------------------\u001b[0m",
      "\u001b[1;31mModuleNotFoundError\u001b[0m                       Traceback (most recent call last)",
      "Cell \u001b[1;32mIn[3], line 1\u001b[0m\n\u001b[1;32m----> 1\u001b[0m \u001b[39mimport\u001b[39;00m \u001b[39mwptools\u001b[39;00m\n",
      "\u001b[1;31mModuleNotFoundError\u001b[0m: No module named 'wptools'"
     ]
    }
   ],
   "source": [
    "import wptools"
   ]
  },
  {
   "cell_type": "code",
   "execution_count": 23,
   "id": "b1d28912",
   "metadata": {},
   "outputs": [],
   "source": [
    "page = wptools.page(\"Poland\", lang='pl')"
   ]
  },
  {
   "cell_type": "code",
   "execution_count": 24,
   "id": "b990258c",
   "metadata": {},
   "outputs": [
    {
     "data": {
      "text/plain": [
       "['REQUEST_DELAY',\n",
       " 'REQUEST_LIMIT',\n",
       " '_WPToolsPage__insert_image_info',\n",
       " '_WPToolsPage__pull_image_info',\n",
       " '__class__',\n",
       " '__delattr__',\n",
       " '__dict__',\n",
       " '__dir__',\n",
       " '__doc__',\n",
       " '__eq__',\n",
       " '__format__',\n",
       " '__ge__',\n",
       " '__getattribute__',\n",
       " '__gt__',\n",
       " '__hash__',\n",
       " '__init__',\n",
       " '__init_subclass__',\n",
       " '__le__',\n",
       " '__lt__',\n",
       " '__module__',\n",
       " '__ne__',\n",
       " '__new__',\n",
       " '__reduce__',\n",
       " '__reduce_ex__',\n",
       " '__repr__',\n",
       " '__setattr__',\n",
       " '__sizeof__',\n",
       " '__str__',\n",
       " '__subclasshook__',\n",
       " '__weakref__',\n",
       " '_build_showstr',\n",
       " '_continue_params',\n",
       " '_extend_data',\n",
       " '_get',\n",
       " '_get_entity_prop',\n",
       " '_handle_continuations',\n",
       " '_handle_response',\n",
       " '_load_response',\n",
       " '_marshal_claims',\n",
       " '_missing_imageinfo',\n",
       " '_normalize_images',\n",
       " '_pop_entities',\n",
       " '_post_labels_updates',\n",
       " '_query',\n",
       " '_request',\n",
       " '_set_data',\n",
       " '_set_imageinfo_data',\n",
       " '_set_labels',\n",
       " '_set_parse_data',\n",
       " '_set_parse_image',\n",
       " '_set_query_data',\n",
       " '_set_query_data_fast_1',\n",
       " '_set_query_data_fast_2',\n",
       " '_set_query_data_slow',\n",
       " '_set_query_image',\n",
       " '_set_random_data',\n",
       " '_set_restbase_data',\n",
       " '_set_title',\n",
       " '_set_wikidata',\n",
       " '_unpack_images',\n",
       " '_update_data',\n",
       " '_update_imageinfo',\n",
       " '_update_images',\n",
       " '_update_params',\n",
       " '_update_what',\n",
       " '_update_wikidata',\n",
       " 'cache',\n",
       " 'data',\n",
       " 'flags',\n",
       " 'get',\n",
       " 'get_imageinfo',\n",
       " 'get_labels',\n",
       " 'get_more',\n",
       " 'get_parse',\n",
       " 'get_query',\n",
       " 'get_querymore',\n",
       " 'get_random',\n",
       " 'get_restbase',\n",
       " 'get_wikidata',\n",
       " 'images',\n",
       " 'info',\n",
       " 'pageimage',\n",
       " 'params',\n",
       " 'query',\n",
       " 'response',\n",
       " 'show',\n",
       " 'skip_action',\n",
       " 'user_labels',\n",
       " 'wanted_labels']"
      ]
     },
     "execution_count": 24,
     "metadata": {},
     "output_type": "execute_result"
    }
   ],
   "source": [
    "dir(page)"
   ]
  },
  {
   "cell_type": "code",
   "execution_count": 25,
   "id": "6fd6d1c4",
   "metadata": {},
   "outputs": [
    {
     "name": "stderr",
     "output_type": "stream",
     "text": [
      "pl.wikipedia.org (query) Poland\n",
      "Poland (pl) data\n",
      "{\n",
      "  WARNINGS: <dict(2)> extracts, query\n",
      "  description: strona ujednoznaczniająca\n",
      "  disambiguation: 37\n",
      "  extext: <str(873)> * Poland – wioska w Kiribati, na wyspie Kirit...\n",
      "  extract: <str(1002)> <ul><li>Poland – wioska w Kiribati, na wysp...\n",
      "  label: Poland\n",
      "  length: 2,113\n",
      "  links: <list(37)> Arkansas, Chris Poland, Chrissi Poland, Gmina,...\n",
      "  modified: <dict(1)> page\n",
      "  pageid: 181901\n",
      "  random: William Barker\n",
      "  requests: <list(1)> query\n",
      "  title: Poland\n",
      "  url: https://pl.wikipedia.org/wiki/Poland\n",
      "  url_raw: https://pl.wikipedia.org/wiki/Poland?action=raw\n",
      "  wikibase: Q299135\n",
      "  wikidata_url: https://www.wikidata.org/wiki/Q299135\n",
      "}\n"
     ]
    },
    {
     "data": {
      "text/plain": [
       "<wptools.page.WPToolsPage at 0x7f267a73ec70>"
      ]
     },
     "execution_count": 25,
     "metadata": {},
     "output_type": "execute_result"
    }
   ],
   "source": [
    "page.get_query()"
   ]
  },
  {
   "cell_type": "code",
   "execution_count": 26,
   "id": "e059b637",
   "metadata": {},
   "outputs": [
    {
     "name": "stderr",
     "output_type": "stream",
     "text": [
      "www.wikidata.org (wikidata) Q299135\n",
      "www.wikidata.org (labels) Q4167410|P31|Q7208891|P1889\n",
      "+ query results in cache\n",
      "pl.wikipedia.org (parse) 181901\n",
      "pl.wikipedia.org (restbase) /page/summary/Poland\n",
      "Poland (pl) data\n",
      "{\n",
      "  WARNINGS: <dict(2)> extracts, query\n",
      "  claims: <dict(2)> P31, P1889\n",
      "  description: strona ujednoznaczniająca\n",
      "  disambiguation: 37\n",
      "  exhtml: <str(288)> <p>Miejscowości w USA:</p><ul><li>Poland – wi...\n",
      "  exrest: <str(236)> Miejscowości w USA:Poland – wieś w stanie Now...\n",
      "  extext: <str(873)> * Poland – wioska w Kiribati, na wyspie Kirit...\n",
      "  extract: <str(1002)> <ul><li>Poland – wioska w Kiribati, na wysp...\n",
      "  iwlinks: <list(1)> https://pl.wiktionary.org/wiki/Poland\n",
      "  label: Poland\n",
      "  labels: <dict(4)> Q4167410, P31, Q7208891, P1889\n",
      "  length: 2,113\n",
      "  links: <list(37)> Arkansas, Chris Poland, Chrissi Poland, Gmina,...\n",
      "  modified: <dict(2)> page, wikidata\n",
      "  pageid: 181901\n",
      "  parsetree: <str(2182)> <root><template><title>ujednoznacznienie<...\n",
      "  random: William Barker\n",
      "  requests: <list(5)> query, wikidata, labels, parse, restbase\n",
      "  title: Poland\n",
      "  url: https://pl.wikipedia.org/wiki/Poland\n",
      "  url_raw: https://pl.wikipedia.org/wiki/Poland?action=raw\n",
      "  what: strona ujednoznaczniająca w projekcie Wikimedia\n",
      "  wikibase: Q299135\n",
      "  wikidata: <dict(2)> jest to (P31), inne niż (P1889)\n",
      "  wikidata_pageid: 288340\n",
      "  wikidata_url: https://www.wikidata.org/wiki/Q299135\n",
      "  wikitext: <str(2047)> {{ujednoznacznienie}}{{wikisłownik|Poland}...\n",
      "}\n"
     ]
    },
    {
     "data": {
      "text/plain": [
       "<wptools.page.WPToolsPage at 0x7f267a73ec70>"
      ]
     },
     "execution_count": 26,
     "metadata": {},
     "output_type": "execute_result"
    }
   ],
   "source": [
    "page.get()"
   ]
  },
  {
   "cell_type": "code",
   "execution_count": 39,
   "id": "7d53d77f",
   "metadata": {},
   "outputs": [
    {
     "data": {
      "text/plain": [
       "{'requests': ['query', 'wikidata', 'labels', 'parse', 'restbase'],\n",
       " 'WARNINGS': {'extracts': {'warnings': 'HTML may be malformed and/or unbalanced and may omit inline images. Use at your own risk. Known problems are listed at https://www.mediawiki.org/wiki/Special:MyLanguage/Extension:TextExtracts#Caveats.'},\n",
       "  'query': {'warnings': 'Unrecognized value for parameter \"prop\": pageassessments'}},\n",
       " 'random': 'Ajos Jeorjos',\n",
       " 'redirected': None,\n",
       " 'pageid': 181901,\n",
       " 'extract': \"<ul><li>Poland – wioska w Kiribati, na wyspie Kiritimati</li>\\n<li>Poland – polska grupa muzyczna</li>\\n<li>Poland Lake – jezioro w Kanadzie</li>\\n<li>Chris Poland – muzyk amerykański</li>\\n<li>Chrissi Poland – wokalistka i multiinstrumentalistka amerykańska</li>\\n<li>Poland – singel amerykańskiego rapera Lil Yachty'ego.</li></ul><p>Miejscowości w USA:\\n</p>\\n<ul><li>Poland – wieś w stanie Nowy Jork, w hrabstwie Herkimer</li>\\n<li>Poland – miasto w stanie Nowy Jork, w hrabstwie Chautauqua</li>\\n<li>Poland – wieś w stanie Ohio, w hrabstwie Mahoning</li>\\n<li>Poland – miasto w stanie Maine, w hrabstwie Androscoggin</li></ul><p>Gminy w USA:\\n</p>\\n<ul><li>Poland (ang. <i>Poland Township</i>) – gmina w stanie Arkansas, w hrabstwie Greene</li>\\n<li>Poland (ang. <i>Poland Township</i>) – gmina w stanie Iowa, w hrabstwie Buena Vista</li>\\n<li>Poland (ang. <i>Poland Town</i>) – gmina w stanie Nowy Jork, w hrabstwie Chautauqua</li>\\n<li>Poland (ang. <i>Poland Township</i>) – gmina w stanie Ohio, w hrabstwie Mahoning</li></ul>\",\n",
       " 'extext': \"* Poland – wioska w Kiribati, na wyspie Kiritimati\\n  * Poland – polska grupa muzyczna\\n  * Poland Lake – jezioro w Kanadzie\\n  * Chris Poland – muzyk amerykański\\n  * Chrissi Poland – wokalistka i multiinstrumentalistka amerykańska\\n  * Poland – singel amerykańskiego rapera Lil Yachty'ego.\\n\\nMiejscowości w USA:\\n\\n  * Poland – wieś w stanie Nowy Jork, w hrabstwie Herkimer\\n  * Poland – miasto w stanie Nowy Jork, w hrabstwie Chautauqua\\n  * Poland – wieś w stanie Ohio, w hrabstwie Mahoning\\n  * Poland – miasto w stanie Maine, w hrabstwie Androscoggin\\n\\nGminy w USA:\\n\\n  * Poland (ang. _Poland Township_ ) – gmina w stanie Arkansas, w hrabstwie Greene\\n  * Poland (ang. _Poland Township_ ) – gmina w stanie Iowa, w hrabstwie Buena Vista\\n  * Poland (ang. _Poland Town_ ) – gmina w stanie Nowy Jork, w hrabstwie Chautauqua\\n  * Poland (ang. _Poland Township_ ) – gmina w stanie Ohio, w hrabstwie Mahoning\",\n",
       " 'url': 'https://pl.wikipedia.org/wiki/Poland',\n",
       " 'url_raw': 'https://pl.wikipedia.org/wiki/Poland?action=raw',\n",
       " 'length': 2113,\n",
       " 'links': ['Arkansas',\n",
       "  'Chris Poland',\n",
       "  'Chrissi Poland',\n",
       "  'Gmina',\n",
       "  'Gmina Poland (Arkansas)',\n",
       "  'Gmina Poland (Iowa)',\n",
       "  'Gmina Poland (Nowy Jork)',\n",
       "  'Gmina Poland (Ohio)',\n",
       "  'Hrabstwo',\n",
       "  'Hrabstwo Androscoggin',\n",
       "  'Hrabstwo Buena Vista',\n",
       "  'Hrabstwo Chautauqua (Nowy Jork)',\n",
       "  'Hrabstwo Greene (Arkansas)',\n",
       "  'Hrabstwo Herkimer',\n",
       "  'Hrabstwo Mahoning',\n",
       "  'Iowa',\n",
       "  'Jezioro',\n",
       "  'Język angielski',\n",
       "  'Kanada',\n",
       "  'Kiribati',\n",
       "  'Kiritimati',\n",
       "  'Kult (zespół muzyczny)',\n",
       "  'Lil Yachty',\n",
       "  'Maine',\n",
       "  'Miasto',\n",
       "  'Nowy Jork (stan)',\n",
       "  'Ohio',\n",
       "  'Poland (Kiribati)',\n",
       "  'Poland (Maine)',\n",
       "  'Poland (Nowy Jork)',\n",
       "  'Poland (Ohio)',\n",
       "  'Poland (hrabstwo Herkimer)',\n",
       "  'Poland (singel)',\n",
       "  'Poland Lake',\n",
       "  'Stan (podział administracyjny)',\n",
       "  'Stany Zjednoczone',\n",
       "  'Wieś'],\n",
       " 'modified': {'page': '2023-01-16T22:20:10Z',\n",
       "  'wikidata': '2022-09-01T18:36:25Z'},\n",
       " 'wikibase': 'Q299135',\n",
       " 'wikidata_url': 'https://www.wikidata.org/wiki/Q299135',\n",
       " 'disambiguation': 37,\n",
       " 'description': 'strona ujednoznaczniająca',\n",
       " 'label': 'Poland',\n",
       " 'title': 'Poland',\n",
       " 'labels': {'P31': 'jest to',\n",
       "  'P1889': 'inne niż',\n",
       "  'Q7208891': 'Poland',\n",
       "  'Q4167410': 'strona ujednoznaczniająca w projekcie Wikimedia'},\n",
       " 'wikidata': {'jest to (P31)': 'strona ujednoznaczniająca w projekcie Wikimedia (Q4167410)',\n",
       "  'inne niż (P1889)': 'Poland (Q7208891)'},\n",
       " 'wikidata_pageid': 288340,\n",
       " 'claims': {'P31': ['Q4167410'], 'P1889': ['Q7208891']},\n",
       " 'what': 'strona ujednoznaczniająca w projekcie Wikimedia',\n",
       " 'iwlinks': ['https://pl.wiktionary.org/wiki/Poland'],\n",
       " 'wikitext': \"{{ujednoznacznienie}}\\n{{wikisłownik|Poland}}\\n* [[Poland (Kiribati)|Poland]] – wioska w [[Kiribati]], na wyspie [[Kiritimati]]\\n* [[Kult (zespół muzyczny)|Poland]] – polska grupa muzyczna\\n* [[Poland Lake]] – [[jezioro]] w [[Kanada|Kanadzie]]\\n* [[Chris Poland]] – muzyk amerykański\\n* [[Chrissi Poland]] – wokalistka i multiinstrumentalistka amerykańska\\n* [[Poland (singel)|Poland]] – singel amerykańskiego rapera [[Lil Yachty|Lil Yachty'ego]].\\nMiejscowości w [[Stany Zjednoczone|USA]]:\\n* [[Poland (hrabstwo Herkimer)|Poland]] – wieś w [[stan (podział administracyjny)|stanie]] [[Nowy Jork (stan)|Nowy Jork]], w [[hrabstwo|hrabstwie]] [[hrabstwo Herkimer|Herkimer]]\\n* [[Poland (Nowy Jork)|Poland]] – [[miasto]] w [[stan (podział administracyjny)|stanie]] [[Nowy Jork (stan)|Nowy Jork]], w [[hrabstwo|hrabstwie]] [[hrabstwo Chautauqua (Nowy Jork)|Chautauqua]]\\n* [[Poland (Ohio)|Poland]] – [[wieś]] w [[stan (podział administracyjny)|stanie]] [[Ohio]], w [[Hrabstwo|hrabstwie]] [[hrabstwo Mahoning|Mahoning]]\\n* [[Poland (Maine)|Poland]] – miasto w [[stan (podział administracyjny)|stanie]] [[Maine]], w [[Hrabstwo|hrabstwie]] [[hrabstwo Androscoggin|Androscoggin]]\\n[[Gmina|Gminy]] w [[Stany Zjednoczone|USA]]:\\n* [[gmina Poland (Arkansas)|Poland]] ([[język angielski|ang.]] ''Poland Township'') – [[gmina]] w [[stan (podział administracyjny)|stanie]] [[Arkansas]], w [[Hrabstwo|hrabstwie]] [[hrabstwo Greene (Arkansas)|Greene]]\\n* [[gmina Poland (Iowa)|Poland]] ([[język angielski|ang.]] ''Poland Township'') – [[gmina]] w [[stan (podział administracyjny)|stanie]] [[Iowa]], w [[Hrabstwo|hrabstwie]] [[hrabstwo Buena Vista|Buena Vista]]\\n* [[gmina Poland (Nowy Jork)|Poland]] ([[język angielski|ang.]] ''Poland Town'') – gmina w [[stan (podział administracyjny)|stanie]] [[Nowy Jork (stan)|Nowy Jork]], w [[Hrabstwo|hrabstwie]] [[hrabstwo Chautauqua (Nowy Jork)|Chautauqua]] \\n* [[gmina Poland (Ohio)|Poland]] ([[język angielski|ang.]] ''Poland Township'') – gmina w [[stan (podział administracyjny)|stanie]] [[Ohio]], w [[Hrabstwo|hrabstwie]] [[hrabstwo Mahoning|Mahoning]]\",\n",
       " 'parsetree': '<root><template><title>ujednoznacznienie</title></template>\\n<template lineStart=\"1\"><title>wikisłownik</title><part><name index=\"1\"/><value>Poland</value></part></template>\\n* [[Poland (Kiribati)|Poland]] – wioska w [[Kiribati]], na wyspie [[Kiritimati]]\\n* [[Kult (zespół muzyczny)|Poland]] – polska grupa muzyczna\\n* [[Poland Lake]] – [[jezioro]] w [[Kanada|Kanadzie]]\\n* [[Chris Poland]] – muzyk amerykański\\n* [[Chrissi Poland]] – wokalistka i multiinstrumentalistka amerykańska\\n* [[Poland (singel)|Poland]] – singel amerykańskiego rapera [[Lil Yachty|Lil Yachty\\'ego]].\\nMiejscowości w [[Stany Zjednoczone|USA]]:\\n* [[Poland (hrabstwo Herkimer)|Poland]] – wieś w [[stan (podział administracyjny)|stanie]] [[Nowy Jork (stan)|Nowy Jork]], w [[hrabstwo|hrabstwie]] [[hrabstwo Herkimer|Herkimer]]\\n* [[Poland (Nowy Jork)|Poland]] – [[miasto]] w [[stan (podział administracyjny)|stanie]] [[Nowy Jork (stan)|Nowy Jork]], w [[hrabstwo|hrabstwie]] [[hrabstwo Chautauqua (Nowy Jork)|Chautauqua]]\\n* [[Poland (Ohio)|Poland]] – [[wieś]] w [[stan (podział administracyjny)|stanie]] [[Ohio]], w [[Hrabstwo|hrabstwie]] [[hrabstwo Mahoning|Mahoning]]\\n* [[Poland (Maine)|Poland]] – miasto w [[stan (podział administracyjny)|stanie]] [[Maine]], w [[Hrabstwo|hrabstwie]] [[hrabstwo Androscoggin|Androscoggin]]\\n[[Gmina|Gminy]] w [[Stany Zjednoczone|USA]]:\\n* [[gmina Poland (Arkansas)|Poland]] ([[język angielski|ang.]] \\'\\'Poland Township\\'\\') – [[gmina]] w [[stan (podział administracyjny)|stanie]] [[Arkansas]], w [[Hrabstwo|hrabstwie]] [[hrabstwo Greene (Arkansas)|Greene]]\\n* [[gmina Poland (Iowa)|Poland]] ([[język angielski|ang.]] \\'\\'Poland Township\\'\\') – [[gmina]] w [[stan (podział administracyjny)|stanie]] [[Iowa]], w [[Hrabstwo|hrabstwie]] [[hrabstwo Buena Vista|Buena Vista]]\\n* [[gmina Poland (Nowy Jork)|Poland]] ([[język angielski|ang.]] \\'\\'Poland Town\\'\\') – gmina w [[stan (podział administracyjny)|stanie]] [[Nowy Jork (stan)|Nowy Jork]], w [[Hrabstwo|hrabstwie]] [[hrabstwo Chautauqua (Nowy Jork)|Chautauqua]] \\n* [[gmina Poland (Ohio)|Poland]] ([[język angielski|ang.]] \\'\\'Poland Township\\'\\') – gmina w [[stan (podział administracyjny)|stanie]] [[Ohio]], w [[Hrabstwo|hrabstwie]] [[hrabstwo Mahoning|Mahoning]]</root>',\n",
       " 'infobox': None,\n",
       " 'exrest': 'Miejscowości w USA:Poland – wieś w stanie Nowy Jork, w hrabstwie Herkimer\\nPoland – miasto w stanie Nowy Jork, w hrabstwie Chautauqua\\nPoland – wieś w stanie Ohio, w hrabstwie Mahoning\\nPoland – miasto w stanie Maine, w hrabstwie Androscoggin',\n",
       " 'exhtml': '<p>Miejscowości w USA:</p><ul><li>Poland – wieś w stanie Nowy Jork, w hrabstwie Herkimer</li>\\n<li>Poland – miasto w stanie Nowy Jork, w hrabstwie Chautauqua</li>\\n<li>Poland – wieś w stanie Ohio, w hrabstwie Mahoning</li>\\n<li>Poland – miasto w stanie Maine, w hrabstwie Androscoggin</li></ul>'}"
      ]
     },
     "execution_count": 39,
     "metadata": {},
     "output_type": "execute_result"
    }
   ],
   "source": [
    "page.data"
   ]
  },
  {
   "cell_type": "code",
   "execution_count": 27,
   "id": "7e1ae2ef",
   "metadata": {},
   "outputs": [],
   "source": [
    "page.data['infobox']"
   ]
  },
  {
   "cell_type": "code",
   "execution_count": 28,
   "id": "72b2c6a1",
   "metadata": {},
   "outputs": [],
   "source": [
    "page = wptools.page(\"lohikeitto\")"
   ]
  },
  {
   "cell_type": "code",
   "execution_count": 29,
   "id": "5df4c475",
   "metadata": {},
   "outputs": [
    {
     "name": "stderr",
     "output_type": "stream",
     "text": [
      "en.wikipedia.org (parse) lohikeitto\n",
      "en.wikipedia.org (imageinfo) File:Lohikeitto dish.jpg\n",
      "Lohikeitto (en) data\n",
      "{\n",
      "  image: <list(1)> {'kind': 'parse-image', 'file': 'File:Lohikeitt...\n",
      "  infobox: <dict(8)> name, image, image_size, alternate_name, coun...\n",
      "  pageid: 26268444\n",
      "  parsetree: <str(3394)> <root><template><title>Short description<...\n",
      "  requests: <list(2)> parse, imageinfo\n",
      "  title: Lohikeitto\n",
      "  wikibase: Q1420442\n",
      "  wikidata_url: https://www.wikidata.org/wiki/Q1420442\n",
      "  wikitext: <str(1586)> {{Short description|Nordic salmon and pota...\n",
      "}\n"
     ]
    },
    {
     "data": {
      "text/plain": [
       "<wptools.page.WPToolsPage at 0x7f267a73ed90>"
      ]
     },
     "execution_count": 29,
     "metadata": {},
     "output_type": "execute_result"
    }
   ],
   "source": [
    "page.get_parse()"
   ]
  },
  {
   "cell_type": "code",
   "execution_count": 30,
   "id": "9fe65e1c",
   "metadata": {},
   "outputs": [
    {
     "data": {
      "text/plain": [
       "{'name': 'Salmon Soup (Lohikeitto)',\n",
       " 'image': 'Lohikeitto dish.jpg',\n",
       " 'image_size': '250px',\n",
       " 'alternate_name': 'Creamy salmon soup, laxsoppa',\n",
       " 'country': '[[Finland]]',\n",
       " 'type': '[[Soup]]',\n",
       " 'main_ingredient': '[[Salmon]] fillets, [[potato]]es, [[leek]]s',\n",
       " 'no_recipes': 'true'}"
      ]
     },
     "execution_count": 30,
     "metadata": {},
     "output_type": "execute_result"
    }
   ],
   "source": [
    "page.data['infobox']"
   ]
  },
  {
   "cell_type": "code",
   "execution_count": 31,
   "id": "a0ed115e",
   "metadata": {},
   "outputs": [],
   "source": [
    "page = wptools.page(wikibase='Q3698703')"
   ]
  },
  {
   "cell_type": "code",
   "execution_count": 32,
   "id": "29c014a2",
   "metadata": {},
   "outputs": [
    {
     "name": "stderr",
     "output_type": "stream",
     "text": [
      "www.wikidata.org (wikidata) Q3698703\n",
      "www.wikidata.org (labels) Q212193|P373|P495|Q625825|P508|Q1336026...\n",
      "Note: Wikidata item Q3698703 missing 'instance of' (P31)\n",
      "en.wikipedia.org (imageinfo) File:Crostata limone e zenzero 3.jpg\n",
      "Crostata (en) data\n",
      "{\n",
      "  claims: <dict(12)> P373, P646, P279, P495, P18, P5456, P1705, P5...\n",
      "  description: Italian baked tart or pie\n",
      "  image: <list(1)> {'file': 'File:Crostata limone e zenzero 3.jpg'...\n",
      "  label: Crostata\n",
      "  labels: <dict(23)> Q212193, P373, P495, Q625825, P508, Q13360264...\n",
      "  modified: <dict(1)> wikidata\n",
      "  requests: <list(3)> wikidata, labels, imageinfo\n",
      "  title: Crostata\n",
      "  wikibase: Q3698703\n",
      "  wikidata: <dict(12)> Commons category (P373), Freebase ID (P646)...\n",
      "  wikidata_pageid: 3524796\n",
      "  wikidata_url: https://www.wikidata.org/wiki/Q3698703\n",
      "}\n"
     ]
    },
    {
     "data": {
      "text/plain": [
       "<wptools.page.WPToolsPage at 0x7f267a768a90>"
      ]
     },
     "execution_count": 32,
     "metadata": {},
     "output_type": "execute_result"
    }
   ],
   "source": [
    "page.get_wikidata()"
   ]
  },
  {
   "cell_type": "code",
   "execution_count": 33,
   "id": "6f250ad0",
   "metadata": {},
   "outputs": [
    {
     "data": {
      "text/plain": [
       "{'Q212193': 'Nutella',\n",
       " 'P373': 'Commons category',\n",
       " 'P495': 'country of origin',\n",
       " 'Q625825': 'custard',\n",
       " 'P508': 'BNCF Thesaurus ID',\n",
       " 'Q13360264': 'pie',\n",
       " 'P18': 'image',\n",
       " 'P186': 'made from material',\n",
       " 'Q216781': 'ricotta',\n",
       " 'P8814': 'WordNet 3.1 Synset ID',\n",
       " 'Q2095': 'food',\n",
       " 'Q192786': 'Italian cuisine',\n",
       " 'P279': 'subclass of',\n",
       " 'Q1142483': 'tart',\n",
       " 'P2012': 'cuisine',\n",
       " 'Q1959325': 'shortcrust pastry',\n",
       " 'P571': 'inception',\n",
       " 'P5456': 'TasteAtlas ID',\n",
       " 'Q38': 'Italy',\n",
       " 'P646': 'Freebase ID',\n",
       " 'Q3314483': 'fruit',\n",
       " 'Q1269': 'jam',\n",
       " 'P1705': 'native label'}"
      ]
     },
     "execution_count": 33,
     "metadata": {},
     "output_type": "execute_result"
    }
   ],
   "source": [
    "page.data['labels']"
   ]
  },
  {
   "cell_type": "code",
   "execution_count": 55,
   "id": "b63499d5",
   "metadata": {},
   "outputs": [
    {
     "data": {
      "text/plain": [
       "{'P373': ['Crostata'],\n",
       " 'P646': ['/m/0cnp1y'],\n",
       " 'P279': ['Q13360264', 'Q2095', 'Q1142483'],\n",
       " 'P495': ['Q38'],\n",
       " 'P18': ['Crostata limone e zenzero 3.jpg'],\n",
       " 'P5456': ['crostata'],\n",
       " 'P1705': ['Crostata'],\n",
       " 'P508': ['62906'],\n",
       " 'P571': ['+1001-00-00T00:00:00Z'],\n",
       " 'P2012': ['Q192786'],\n",
       " 'P186': ['Q1959325', 'Q1269', 'Q216781', 'Q3314483', 'Q212193', 'Q625825'],\n",
       " 'P8814': ['07639542-n']}"
      ]
     },
     "execution_count": 55,
     "metadata": {},
     "output_type": "execute_result"
    }
   ],
   "source": [
    "page.data['claims']"
   ]
  },
  {
   "cell_type": "code",
   "execution_count": 56,
   "id": "cb8e61be",
   "metadata": {},
   "outputs": [
    {
     "data": {
      "text/plain": [
       "{'Commons category (P373)': 'Crostata',\n",
       " 'Freebase ID (P646)': '/m/0cnp1y',\n",
       " 'subclass of (P279)': ['pie (Q13360264)', 'food (Q2095)', 'tart (Q1142483)'],\n",
       " 'country of origin (P495)': 'Italy (Q38)',\n",
       " 'image (P18)': 'Crostata limone e zenzero 3.jpg',\n",
       " 'TasteAtlas ID (P5456)': 'crostata',\n",
       " 'native label (P1705)': 'Crostata',\n",
       " 'BNCF Thesaurus ID (P508)': '62906',\n",
       " 'inception (P571)': '+1001-00-00T00:00:00Z',\n",
       " 'cuisine (P2012)': 'Italian cuisine (Q192786)',\n",
       " 'made from material (P186)': ['shortcrust pastry (Q1959325)',\n",
       "  'jam (Q1269)',\n",
       "  'ricotta (Q216781)',\n",
       "  'fruit (Q3314483)',\n",
       "  'Nutella (Q212193)',\n",
       "  'custard (Q625825)'],\n",
       " 'WordNet 3.1 Synset ID (P8814)': '07639542-n'}"
      ]
     },
     "execution_count": 56,
     "metadata": {},
     "output_type": "execute_result"
    }
   ],
   "source": [
    "page.data['wikidata']"
   ]
  },
  {
   "cell_type": "code",
   "execution_count": null,
   "id": "c78dd913",
   "metadata": {},
   "outputs": [],
   "source": []
  }
 ],
 "metadata": {
  "kernelspec": {
   "display_name": "Python 3",
   "language": "python",
   "name": "python3"
  },
  "language_info": {
   "codemirror_mode": {
    "name": "ipython",
    "version": 3
   },
   "file_extension": ".py",
   "mimetype": "text/x-python",
   "name": "python",
   "nbconvert_exporter": "python",
   "pygments_lexer": "ipython3",
   "version": "3.10.10"
  },
  "vscode": {
   "interpreter": {
    "hash": "3de7a084b318d7b8bf96005cb5db4da14a27f60df0465391ef48a4c336f03bfe"
   }
  }
 },
 "nbformat": 4,
 "nbformat_minor": 5
}
